{
 "cells": [
  {
   "cell_type": "code",
   "execution_count": 1,
   "id": "34782688-5c2e-4579-8c6a-d7600097a2d2",
   "metadata": {},
   "outputs": [],
   "source": [
    "import os\n",
    "\n",
    "import numpy as np\n",
    "import pandas as pd\n",
    "import geopandas as gpd\n",
    "import rasterio\n",
    "\n",
    "from rasterio.plot import show\n",
    "from rasterio.features import shapes\n",
    "from shapely.geometry import shape\n"
   ]
  },
  {
   "cell_type": "code",
   "execution_count": 5,
   "id": "e2bc1e6a-92c6-428d-849d-5cdb815996cd",
   "metadata": {},
   "outputs": [],
   "source": [
    "data_dir = '/Users/d3y010/projects/atiim/data'\n",
    "\n",
    "gage_data_csv = os.path.join(data_dir, 'tabular', 'water_level.csv')\n",
    "dem_file = os.path.join(data_dir, 'raster', 'run_1_all.sdat')\n",
    "    \n",
    "output_dir = '/Users/d3y010/projects/atiim/test'\n"
   ]
  },
  {
   "cell_type": "code",
   "execution_count": 9,
   "id": "fa0641e4-d7cb-40e0-acc7-92a193364d12",
   "metadata": {},
   "outputs": [],
   "source": [
    "def generate_water_polygons(raster_file, output_directory, elevation_interval=0.1):\n",
    "\n",
    "    with rasterio.Env():\n",
    "\n",
    "        with rasterio.open(raster_file) as src:\n",
    "\n",
    "            arr = src.read(1)\n",
    "\n",
    "            # convert the raster nodata value to numpy nan\n",
    "            arr[arr == src.nodata] = np.nan\n",
    "\n",
    "            raster_min = np.nanmin(arr)\n",
    "            raster_max = np.nanmax(arr)\n",
    "\n",
    "            elev_slices = {'lower': [], 'upper': []}\n",
    "            for i in np.arange(raster_min, raster_max, elevation_interval):\n",
    "                elev_slices['lower'].append(i)\n",
    "\n",
    "                if (i + elevation_interval) < raster_max:\n",
    "                    elev_slices['upper'].append(i + elevation_interval)\n",
    "                else:\n",
    "                    elev_slices['upper'].append(raster_max)\n",
    "\n",
    "            for i in range(len(elev_slices['upper'])):\n",
    "\n",
    "                low_elev = elev_slices['lower'][i]\n",
    "                upper_elev = elev_slices['upper'][i]\n",
    "\n",
    "                arx = np.where(arr <= upper_elev, 1, 0).astype(np.int16)\n",
    "\n",
    "                results = (\n",
    "                    {'properties': {'raster_val': val}, 'geometry': shp}\n",
    "                    for index, (shp, val)  in enumerate(\n",
    "                        shapes(arx, mask=None, transform=src.transform))\n",
    "                )\n",
    "\n",
    "                # generate list of geometries\n",
    "                geoms = list(results)\n",
    "\n",
    "                # build geopandas dataframe from geometries\n",
    "                gdf = gpd.GeoDataFrame.from_features(geoms)\n",
    "\n",
    "                # only keep the ones\n",
    "                gdf = gdf.loc[gdf['raster_val'] == 1]\n",
    "\n",
    "                # dissolve into a single polygon\n",
    "                gdf = gdf.dissolve('raster_val')\n",
    "\n",
    "                # write to file\n",
    "                out_file = os.path.join(output_directory, f'wl_{int(upper_elev*10)}.shp')\n",
    "                gdf.to_file(out_file, crs=src.crs)\n"
   ]
  },
  {
   "cell_type": "code",
   "execution_count": null,
   "id": "efd65e7e-897c-4274-84f7-2966205d6656",
   "metadata": {},
   "outputs": [],
   "source": []
  },
  {
   "cell_type": "code",
   "execution_count": null,
   "id": "38cd699e-222d-4eeb-8a16-01454cf79cb4",
   "metadata": {},
   "outputs": [],
   "source": []
  },
  {
   "cell_type": "code",
   "execution_count": 7,
   "id": "c4767a0c-54dd-476d-9cfc-17ba3821d1fc",
   "metadata": {},
   "outputs": [
    {
     "data": {
      "image/png": "[encoded data removed]",
      "text/plain": [
       "<Figure size 432x288 with 1 Axes>"
      ]
     },
     "metadata": {
      "needs_background": "light"
     },
     "output_type": "display_data"
    }
   ],
   "source": [
    "with rasterio.open(dem_file) as src:\n",
    "    show(src)"
   ]
  },
  {
   "cell_type": "code",
   "execution_count": null,
   "id": "8cf967e1-3678-4283-9415-f4e08c1db70a",
   "metadata": {},
   "outputs": [],
   "source": []
  },
  {
   "cell_type": "code",
   "execution_count": null,
   "id": "56b3947f-ba2e-491f-82fc-8c270fa1f996",
   "metadata": {},
   "outputs": [],
   "source": []
  },
  {
   "cell_type": "code",
   "execution_count": null,
   "id": "b61231cd-6182-4e43-b478-24bc8d5260b0",
   "metadata": {},
   "outputs": [],
   "source": []
  },
  {
   "cell_type": "markdown",
   "id": "5ae6ed69-a0c1-49f7-a438-9c745942196a",
   "metadata": {},
   "source": [
    "#### This code replaces all of atiim_gage_data_process.py and \n",
    "\n",
    "```python\n",
    "# instantiate gage data class, extract variables\n",
    "my_gage = GageDataProcess(ag, wtr_elev_file, gage_unit, dte_col, dte_fmt, tm_col, tm_fmt)\n",
    "min_wtr_elev, max_wtr_elev, wtr_elev_list, day_part, hour_interval, d_freq = my_gage.describe_gage_data()\n",
    "```\n",
    "\n",
    "in attim_main.py"
   ]
  },
  {
   "cell_type": "code",
   "execution_count": 44,
   "id": "66c00a8b-35a5-4c25-906e-7108dd2c6480",
   "metadata": {},
   "outputs": [],
   "source": [
    "df = pd.read_csv(gage_data_csv)\n",
    "\n",
    "# convert date and time strings to a pandas datetime type\n",
    "df['date_time'] = pd.to_datetime(df['DATE'] + ' ' + df['TIME'], infer_datetime_format=True)\n",
    "\n",
    "# sort df by date_time\n",
    "df.sort_values(by=['date_time'], inplace=True)\n",
    "\n",
    "min_wtr_elev = df['WL_ELEV_M'].min()\n",
    "max_wtr_elev = df['WL_ELEV_M'].max()\n",
    "wtr_elev_list = df['WL_ELEV_M'].tolist()\n",
    "day_part, hour_interval = 1, 1\n",
    "d_freq = df['WL_ELEV_M'].value_counts().to_dict()\n",
    "\n"
   ]
  },
  {
   "cell_type": "code",
   "execution_count": 10,
   "id": "7980a37b-8640-40b2-8a63-faaa877d44ec",
   "metadata": {},
   "outputs": [
    {
     "name": "stdout",
     "output_type": "stream",
     "text": [
      "CPU times: user 13.4 s, sys: 396 ms, total: 13.8 s\n",
      "Wall time: 14.4 s\n"
     ]
    }
   ],
   "source": [
    "%%time\n",
    "\n",
    "generate_water_polygons(dem_file, output_dir, elevation_interval=0.1)\n"
   ]
  },
  {
   "cell_type": "code",
   "execution_count": null,
   "id": "239f7990-2262-44df-82f5-b0677aba6900",
   "metadata": {},
   "outputs": [],
   "source": []
  }
 ],
 "metadata": {
  "kernelspec": {
   "display_name": "py3.9.4_cerf",
   "language": "python",
   "name": "py3.9.4_cerf"
  },
  "language_info": {
   "codemirror_mode": {
    "name": "ipython",
    "version": 3
   },
   "file_extension": ".py",
   "mimetype": "text/x-python",
   "name": "python",
   "nbconvert_exporter": "python",
   "pygments_lexer": "ipython3",
   "version": "3.9.4"
  }
 },
 "nbformat": 4,
 "nbformat_minor": 5
}
