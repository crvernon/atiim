{
 "cells": [
  {
   "cell_type": "code",
   "execution_count": 1,
   "id": "34782688-5c2e-4579-8c6a-d7600097a2d2",
   "metadata": {},
   "outputs": [],
   "source": [
    "import os\n",
    "\n",
    "import fiona\n",
    "import rasterio\n",
    "import numpy as np\n",
    "import pandas as pd\n",
    "import geopandas as gpd\n",
    "import rasterio.mask\n",
    "import shapely.speedups\n",
    "import matplotlib.pyplot as plt\n",
    "\n",
    "from scipy import stats\n",
    "from rasterio.plot import show\n",
    "from rasterio.features import shapes\n",
    "from shapely.geometry import shape\n",
    "from joblib import delayed, Parallel\n",
    "from scipy.ndimage import gaussian_filter1d\n",
    "from matplotlib.ticker import ScalarFormatter, FormatStrFormatter, FixedLocator\n",
    "\n",
    "\n",
    "# enable shapely speedups for topology operations\n",
    "shapely.speedups.enable()\n",
    "\n",
    "import seaborn as sns; sns.set()\n"
   ]
  },
  {
   "cell_type": "code",
   "execution_count": 2,
   "id": "e2bc1e6a-92c6-428d-849d-5cdb815996cd",
   "metadata": {},
   "outputs": [],
   "source": [
    "data_dir = '/Users/d3y010/projects/atiim/data'\n",
    "\n",
    "gage_data_file = os.path.join(data_dir, 'tabular', 'water_level.csv')\n",
    "dem_file = os.path.join(data_dir, 'raster', 'run_1_all.sdat')\n",
    "basin_shp = os.path.join(data_dir, 'shp', 'basin_1.shp')\n",
    "gage_shp = os.path.join(data_dir, 'shp', 'gage_location_1.shp')\n",
    "\n",
    "output_dir = '/Users/d3y010/projects/atiim/test'\n",
    "\n",
    "run_name = 'test_1'\n",
    "elevation_interval = 0.1\n",
    "hour_interval = 1.0\n"
   ]
  },
  {
   "cell_type": "code",
   "execution_count": 3,
   "id": "fa0641e4-d7cb-40e0-acc7-92a193364d12",
   "metadata": {},
   "outputs": [],
   "source": [
    "def calculate_inflection(df):\n",
    "\n",
    "    # smooth data using a Gausian filter\n",
    "    # smoothed_area = gaussian_filter1d(fdf.area, 100)\n",
    "\n",
    "    # calucate the second derivative\n",
    "    second_deriv = np.gradient(np.gradient(df.area))\n",
    "\n",
    "    # get the index locations in the second derivative plot representing the sign change (a.k.a., inflection points) \n",
    "    inflection_indices = np.where(np.diff(np.sign(second_deriv)))[0]\n",
    "\n",
    "    # drop the first value in the series if it shows up as an inflection point\n",
    "    inflection_indices = inflection_indices[inflection_indices > 0]\n",
    "\n",
    "    # bankfull elevation is determined by the first inflection point\n",
    "    bankfull_elevation = df['elevation'].values[inflection_indices[0]]\n",
    "    \n",
    "    bankfull_area = df['area'].values[inflection_indices[0]]\n",
    "    \n",
    "    return bankfull_elevation, bankfull_area\n",
    "\n",
    "\n",
    "def process_gage_data(gage_data_file):\n",
    "\n",
    "    df = pd.read_csv(gage_data_file)\n",
    "    \n",
    "    print(f\"Total Time Steps:  {df.shape[0]}\")\n",
    "\n",
    "    # convert date and time strings to a pandas datetime type\n",
    "    df['date_time'] = pd.to_datetime(df['DATE'] + ' ' + df['TIME'], infer_datetime_format=True)\n",
    "    \n",
    "    # calculate the number of days in the file\n",
    "    n_days = (df['date_time'].max() - df['date_time'].min()).days\n",
    "\n",
    "    print(f\"Days Verification:  {n_days}\")\n",
    "    \n",
    "    # sort df by date_time\n",
    "    df.sort_values(by=['date_time'], inplace=True)\n",
    "\n",
    "    min_wtr_elev = df['WL_ELEV_M'].min()\n",
    "    max_wtr_elev = df['WL_ELEV_M'].max()\n",
    "    wtr_elev_list = df['WL_ELEV_M'].tolist()\n",
    "    day_part, hour_interval = 1, 1\n",
    "    d_freq = df['WL_ELEV_M'].value_counts().to_dict()\n",
    "    \n",
    "    return min_wtr_elev, max_wtr_elev, d_freq\n",
    "\n",
    "\n",
    "\n",
    "def create_basin_dem(basin_shp, dem_file, output_directory, run_name):\n",
    "    \"\"\"Mask the input DEM using a basin geometry representative of the contributing area.\n",
    "    \n",
    "    \n",
    "    \"\"\"\n",
    "\n",
    "    # dissolve target basin geometries\n",
    "    basin_geom = gpd.read_file(basin_shp).dissolve().geometry.values[0]\n",
    "    \n",
    "    with rasterio.open(dem_file) as src:\n",
    "        \n",
    "        if src.crs is None:\n",
    "            print(\"Warning:  Input DEM raster does not have a defined coordinate reference system.\")\n",
    "        \n",
    "        # apply basin geometry as a mask\n",
    "        out_image, out_transform = rasterio.mask.mask(src, basin_geom, crop=True)\n",
    "        \n",
    "        # update the raster metadata with newly cropped extent\n",
    "        out_meta = src.meta\n",
    "        out_meta.update({\"driver\": \"GTiff\",\n",
    "                         \"height\": out_image.shape[1],\n",
    "                         \"width\": out_image.shape[2],\n",
    "                         \"transform\": out_transform})\n",
    "\n",
    "        # write outputs\n",
    "        output_file = os.path.join(output_directory, f\"dem_masked_{run_name}.tif\")\n",
    "        with rasterio.open(output_file, \"w\", **out_meta) as dest:\n",
    "            dest.write(out_image)\n",
    "            \n",
    "        return output_file\n",
    "\n",
    "\n",
    "def process_slice(arr, upper_elev, output_directory, gage_gdf, water_elev_freq, run_name, hour_interval, transform, target_crs):\n",
    "    \"\"\"Create a water level polygon shapefile containing a single feature that represents\n",
    "    the grid cells of an input DEM that are less than or equal to an upper elevation level.\n",
    "    \n",
    "    \"\"\"\n",
    "    # TODO:  fix target_crs reference from raster\n",
    "    \n",
    "    # generate a feature id from the elevation value\n",
    "    feature_id = int(upper_elev * 100)\n",
    "\n",
    "    # create every value greater than or equal to the upper elevation to 1, others to 0\n",
    "    arx = np.where(arr <= upper_elev, 1, 0).astype(np.int16)\n",
    "\n",
    "    # build each feature based on the extracted grid cells from the array\n",
    "    results = list(\n",
    "        {'properties': {'raster_val': val}, 'geometry': shp}\n",
    "        for index, (shp, val)  in enumerate(\n",
    "            shapes(arx, mask=None, transform=transform))\n",
    "    )\n",
    "\n",
    "    # list of geometries\n",
    "    geoms = list(results)\n",
    "\n",
    "    # build geopandas dataframe from geometries\n",
    "    gdf = gpd.GeoDataFrame.from_features(geoms, crs=gage_gdf.crs)\n",
    "\n",
    "    # only keep the ones\n",
    "    gdf = gdf.loc[gdf['raster_val'] == 1]\n",
    "    \n",
    "    # only keep the polygon intersecting the gage\n",
    "    gdf['valid'] = gdf.intersects(gage_gdf.geometry.values[0])\n",
    "    gdf = gdf.loc[gdf['valid']].copy()\n",
    "    \n",
    "    # ensure at least one polygon intersects the gage\n",
    "    if gdf.shape[0] == 0:\n",
    "        msg = \"Gage location point not aligned with valid elevation in DEM.  Relocate gage location point to fall within valid elevation.\"\n",
    "        raise AssertionError(msg)\n",
    "\n",
    "    # dissolve into a single polygon\n",
    "    gdf = gdf.dissolve('raster_val')\n",
    "    gdf.reset_index(inplace=True)\n",
    "    \n",
    "    # add fields \n",
    "    gdf['id'] = feature_id\n",
    "    gdf['frequency'] = water_elev_freq[round(upper_elev, 1)]\n",
    "    gdf['elevation'] = upper_elev\n",
    "    gdf['area'] = gdf.geometry.area\n",
    "    gdf['hectares'] = gdf['area'] * 0.0001\n",
    "    gdf['perimeter'] = gdf.geometry.length\n",
    "    gdf['hectare_hours'] = (gdf['frequency'] / hour_interval) * gdf['hectares']\n",
    "    \n",
    "    # drop unneeded fields\n",
    "    gdf.drop(columns=['raster_val', 'valid'], inplace=True)\n",
    "\n",
    "    # write to file\n",
    "    out_file = os.path.join(output_directory, f'wl_{feature_id}_{run_name}.shp')\n",
    "    gdf.to_file(out_file)\n",
    "    \n",
    "    return gdf\n",
    "\n",
    "\n",
    "def simulate_inundation(dem_file, \n",
    "                            basin_shp,\n",
    "                            gage_shp,\n",
    "                            gage_data_file, \n",
    "                            output_directory, \n",
    "                            run_name, \n",
    "                            elevation_interval=0.1,\n",
    "                            hour_interval=1.0):\n",
    "\n",
    "    # process gage data file\n",
    "    min_gage_elev, max_gage_elev, water_elev_freq = process_gage_data(gage_data_file)\n",
    "    \n",
    "    # read in gage shapefile to a geodataframe\n",
    "    gage_gdf = gpd.read_file(gage_shp)\n",
    "    \n",
    "    with rasterio.Env():\n",
    "        \n",
    "        # clip the input DEM to a target basin contributing area\n",
    "        masked_dem_file = create_basin_dem(basin_shp, dem_file, output_directory, run_name)\n",
    "\n",
    "        with rasterio.open(masked_dem_file) as src:\n",
    "\n",
    "            # read the raster band into a number array\n",
    "            arr = src.read(1)\n",
    "\n",
    "            # convert the raster nodata value to numpy nan\n",
    "            arr[arr == src.nodata] = np.nan\n",
    "\n",
    "            raster_min = np.nanmin(arr)\n",
    "            raster_max = np.nanmax(arr)\n",
    "          \n",
    "            # use the minimum bounding elevation e.g., the max of min available\n",
    "            elev_min = max([min_gage_elev, raster_min])\n",
    "            \n",
    "            # use the maximum bounding elevation e.g., the min of max available\n",
    "            elev_max = min([max_gage_elev, raster_max])\n",
    "            \n",
    "            # construct elevation upper bounds to process for each slice\n",
    "            elev_slices = np.arange(elev_min, elev_max + elevation_interval, elevation_interval)\n",
    "                       \n",
    "            print(f\"Minimum DEM Elevation:  {round(raster_min, 2)}\")\n",
    "            print(f\"Maximum DEM Elevation:  {round(raster_max, 2)}\")\n",
    "            print(f\"Minimum Water-Surface Elevation:  {round(min_gage_elev, 2)}\")\n",
    "            print(f\"Maximum Water-Surface Elevation:  {round(max_gage_elev, 2)}\")\n",
    "            print(f\"Bounded DEM Elevation:  {round(min(elev_slices), 2)}\")\n",
    "            print(f\"Bounded DEM Elevation:  {round(max(elev_slices), 2)}\")\n",
    "            \n",
    "#             feature_list = []\n",
    "#             for upper_elev in elev_slices:\n",
    "#                 print(f\"Processing:  {upper_elev}\")\n",
    "#                 s = process_slice(arr, upper_elev, output_directory, gage_gdf, run_name, src.transform, src.crs)\n",
    "#                 feature_list.append(s)\n",
    "\n",
    "            # process all elevation slices in parallel\n",
    "            feature_list = Parallel(n_jobs=-1)(\n",
    "                delayed(process_slice)(arr, \n",
    "                                       upper_elev, \n",
    "                                       output_directory, \n",
    "                                       gage_gdf, \n",
    "                                       water_elev_freq, \n",
    "                                       run_name, \n",
    "                                       hour_interval, \n",
    "                                       src.transform, \n",
    "                                       src.crs) \n",
    "                for upper_elev in elev_slices)\n",
    "        \n",
    "            return feature_list\n"
   ]
  },
  {
   "cell_type": "code",
   "execution_count": 4,
   "id": "7980a37b-8640-40b2-8a63-faaa877d44ec",
   "metadata": {},
   "outputs": [
    {
     "name": "stdout",
     "output_type": "stream",
     "text": [
      "Total Time Steps:  3568\n",
      "Days Verification:  148\n",
      "Warning:  Input DEM raster does not have a defined coordinate reference system.\n",
      "Minimum DEM Elevation:  0.6800000071525574\n",
      "Maximum DEM Elevation:  19.889999389648438\n",
      "Minimum Water-Surface Elevation:  1.0\n",
      "Maximum Water-Surface Elevation:  3.6\n",
      "Bounded DEM Elevation:  1.0\n",
      "Bounded DEM Elevation:  3.6\n",
      "CPU times: user 1.51 s, sys: 306 ms, total: 1.82 s\n",
      "Wall time: 4.35 s\n"
     ]
    },
    {
     "data": {
      "text/html": [
       "<div>\n",
       "<style scoped>\n",
       "    .dataframe tbody tr th:only-of-type {\n",
       "        vertical-align: middle;\n",
       "    }\n",
       "\n",
       "    .dataframe tbody tr th {\n",
       "        vertical-align: top;\n",
       "    }\n",
       "\n",
       "    .dataframe thead th {\n",
       "        text-align: right;\n",
       "    }\n",
       "</style>\n",
       "<table border=\"1\" class=\"dataframe\">\n",
       "  <thead>\n",
       "    <tr style=\"text-align: right;\">\n",
       "      <th></th>\n",
       "      <th>geometry</th>\n",
       "      <th>id</th>\n",
       "      <th>frequency</th>\n",
       "      <th>elevation</th>\n",
       "      <th>area</th>\n",
       "      <th>hectares</th>\n",
       "      <th>perimeter</th>\n",
       "      <th>hectare_hours</th>\n",
       "    </tr>\n",
       "  </thead>\n",
       "  <tbody>\n",
       "    <tr>\n",
       "      <th>0</th>\n",
       "      <td>POLYGON ((446947.500 5128512.631, 446947.500 5...</td>\n",
       "      <td>100</td>\n",
       "      <td>2</td>\n",
       "      <td>1.0</td>\n",
       "      <td>1785.3750</td>\n",
       "      <td>0.178538</td>\n",
       "      <td>631.5</td>\n",
       "      <td>0.357075</td>\n",
       "    </tr>\n",
       "    <tr>\n",
       "      <th>0</th>\n",
       "      <td>POLYGON ((446949.000 5128514.131, 446949.000 5...</td>\n",
       "      <td>110</td>\n",
       "      <td>523</td>\n",
       "      <td>1.1</td>\n",
       "      <td>2291.0625</td>\n",
       "      <td>0.229106</td>\n",
       "      <td>642.0</td>\n",
       "      <td>119.822569</td>\n",
       "    </tr>\n",
       "    <tr>\n",
       "      <th>0</th>\n",
       "      <td>POLYGON ((446955.750 5128516.381, 446955.750 5...</td>\n",
       "      <td>120</td>\n",
       "      <td>462</td>\n",
       "      <td>1.2</td>\n",
       "      <td>2656.6875</td>\n",
       "      <td>0.265669</td>\n",
       "      <td>657.0</td>\n",
       "      <td>122.738962</td>\n",
       "    </tr>\n",
       "    <tr>\n",
       "      <th>0</th>\n",
       "      <td>POLYGON ((447280.500 5128854.631, 447280.500 5...</td>\n",
       "      <td>130</td>\n",
       "      <td>231</td>\n",
       "      <td>1.3</td>\n",
       "      <td>5967.0000</td>\n",
       "      <td>0.596700</td>\n",
       "      <td>2023.5</td>\n",
       "      <td>137.837700</td>\n",
       "    </tr>\n",
       "    <tr>\n",
       "      <th>0</th>\n",
       "      <td>POLYGON ((447281.250 5128857.631, 447281.250 5...</td>\n",
       "      <td>140</td>\n",
       "      <td>177</td>\n",
       "      <td>1.4</td>\n",
       "      <td>7023.3750</td>\n",
       "      <td>0.702338</td>\n",
       "      <td>2086.5</td>\n",
       "      <td>124.313738</td>\n",
       "    </tr>\n",
       "  </tbody>\n",
       "</table>\n",
       "</div>"
      ],
      "text/plain": [
       "                                            geometry   id  frequency  \\\n",
       "0  POLYGON ((446947.500 5128512.631, 446947.500 5...  100          2   \n",
       "0  POLYGON ((446949.000 5128514.131, 446949.000 5...  110        523   \n",
       "0  POLYGON ((446955.750 5128516.381, 446955.750 5...  120        462   \n",
       "0  POLYGON ((447280.500 5128854.631, 447280.500 5...  130        231   \n",
       "0  POLYGON ((447281.250 5128857.631, 447281.250 5...  140        177   \n",
       "\n",
       "   elevation       area  hectares  perimeter  hectare_hours  \n",
       "0        1.0  1785.3750  0.178538      631.5       0.357075  \n",
       "0        1.1  2291.0625  0.229106      642.0     119.822569  \n",
       "0        1.2  2656.6875  0.265669      657.0     122.738962  \n",
       "0        1.3  5967.0000  0.596700     2023.5     137.837700  \n",
       "0        1.4  7023.3750  0.702338     2086.5     124.313738  "
      ]
     },
     "execution_count": 4,
     "metadata": {},
     "output_type": "execute_result"
    }
   ],
   "source": [
    "%%time\n",
    "\n",
    "feature_list = simulate_inundation(dem_file, \n",
    "                                        basin_shp,\n",
    "                                        gage_shp,\n",
    "                                        gage_data_file, \n",
    "                                        output_dir, \n",
    "                                        run_name, \n",
    "                                        elevation_interval=elevation_interval,\n",
    "                                        hour_interval=hour_interval)\n",
    "\n",
    "fdf = pd.concat(feature_list)\n",
    "\n",
    "fdf.head()\n"
   ]
  },
  {
   "cell_type": "code",
   "execution_count": 18,
   "id": "0cb3ee9e-6d05-47f5-b142-ade7e30bc602",
   "metadata": {},
   "outputs": [
    {
     "data": {
      "image/png": "[encoded data removed]",
      "text/plain": [
       "<Figure size 432x288 with 1 Axes>"
      ]
     },
     "metadata": {},
     "output_type": "display_data"
    }
   ],
   "source": [
    "def overplot(func):\n",
    "    def testplot_wrapper():\n",
    "        x, y = np.linspace(0,5), np.linspace(0,10)\n",
    "        plt.plot(x,y)\n",
    "        func()\n",
    "    return(testplot_wrapper)\n",
    "\n",
    "@overplot\n",
    "def testplot():\n",
    "    x, y = np.linspace(0,5), np.linspace(0,5)\n",
    "    plt.plot(x,y) \n",
    "\n",
    "testplot()\n",
    "plt.show() "
   ]
  },
  {
   "cell_type": "code",
   "execution_count": null,
   "id": "778a7a0a-dcea-4b6d-9913-6a3c5547bea8",
   "metadata": {},
   "outputs": [],
   "source": []
  },
  {
   "cell_type": "code",
   "execution_count": null,
   "id": "14009784-8fbc-40d5-ae0d-192e4479d446",
   "metadata": {},
   "outputs": [],
   "source": []
  },
  {
   "cell_type": "markdown",
   "id": "f89c9d54-e1e2-4404-89ee-a01ec0c5ef5f",
   "metadata": {},
   "source": [
    "### Water Surface Elevation Gage Measurements"
   ]
  },
  {
   "cell_type": "code",
   "execution_count": 17,
   "id": "3182ab61-ac53-4094-b6d9-bc88bdf3f781",
   "metadata": {},
   "outputs": [],
   "source": [
    "df = pd.read_csv(gage_data_file)\n",
    "\n",
    "# convert date and time strings to a pandas datetime type\n",
    "df['date_time'] = pd.to_datetime(df['DATE'] + ' ' + df['TIME'], infer_datetime_format=True)\n",
    "\n",
    "sns.set(style='whitegrid', font_scale=1.2) \n",
    "\n",
    "fig, ax = plt.subplots(figsize=(12, 8))\n",
    "\n",
    "g = sns.lineplot(x=\"date_time\", \n",
    "                  y=\"WL_ELEV_M\",\n",
    "                  data=df,\n",
    "                  color='blue',\n",
    "                  alpha=0.7)\n",
    "\n",
    "x = ax.set(ylabel='Water Surface Elevation (m)',\n",
    "           xlabel=None,\n",
    "           title='Water Surface Elevation Gage Measurements')\n",
    "\n",
    "plt.xlim(xmin=df['date_time'].min(), xmax=df['date_time'].max())\n",
    "\n",
    "gx = plt.xticks(rotation = 45)\n",
    "\n",
    "plt.savefig('/Users/d3y010/Desktop/test.png')\n",
    "plt.close()\n"
   ]
  },
  {
   "cell_type": "markdown",
   "id": "e4f2f37b-1cc7-4953-8df0-5f60f19aa676",
   "metadata": {},
   "source": [
    "### Hectare hours of inundation"
   ]
  },
  {
   "cell_type": "code",
   "execution_count": 12,
   "id": "548e054b-6b4e-4b6c-8d39-0934b42c4c52",
   "metadata": {},
   "outputs": [
    {
     "data": {
      "text/plain": [
       "92.13073875"
      ]
     },
     "execution_count": 12,
     "metadata": {},
     "output_type": "execute_result"
    }
   ],
   "source": [
    "fdf['hectare_hours'].max() * .05"
   ]
  },
  {
   "cell_type": "code",
   "execution_count": 18,
   "id": "e792f357-0f51-4ce7-ab2b-cd0b55aad6af",
   "metadata": {},
   "outputs": [
    {
     "data": {
      "text/plain": [
       "38.25"
      ]
     },
     "execution_count": 18,
     "metadata": {},
     "output_type": "execute_result"
    }
   ],
   "source": [
    "255 * 0.15"
   ]
  },
  {
   "cell_type": "code",
   "execution_count": null,
   "id": "a87e24e5-ce91-4629-803e-0f54f5692df5",
   "metadata": {},
   "outputs": [],
   "source": []
  },
  {
   "cell_type": "code",
   "execution_count": 5,
   "id": "6a37dde7-c011-4631-8339-08df494712ea",
   "metadata": {},
   "outputs": [
    {
     "data": {
      "text/plain": [
       "Text(0, 0.5, 'Water Surface Elevation (m)')"
      ]
     },
     "execution_count": 5,
     "metadata": {},
     "output_type": "execute_result"
    },
    {
     "data": {
      "image/png": "[encoded data removed]",
      "text/plain": [
       "<Figure size 864x576 with 1 Axes>"
      ]
     },
     "metadata": {},
     "output_type": "display_data"
    }
   ],
   "source": [
    "sns.set(style='whitegrid', font_scale=1.2) \n",
    "\n",
    "fig, ax = plt.subplots(figsize=(12, 8))\n",
    "\n",
    "# pad min and max Y values for axis\n",
    "y_padding = fdf['elevation'].max() * 0.15\n",
    "\n",
    "# pad max x axis value\n",
    "x_padding = fdf['hectare_hours'].max() * .05\n",
    "\n",
    "plt.ylim(ymin=(fdf['elevation'].min() - y_padding), ymax=(fdf['elevation'].max() + y_padding))\n",
    "plt.xlim(xmin=fdf['hectare_hours'].min(), \n",
    "         xmax=fdf['hectare_hours'].max() + x_padding)\n",
    "\n",
    "plt.plot(fdf['hectare_hours'], fdf['elevation'], 'k')\n",
    "\n",
    "plt.fill_betweenx(fdf['elevation'], fdf['hectare_hours'], color='blue', alpha=0.7)\n",
    "\n",
    "plt.title('Hectare Hours of Inundation')\n",
    "plt.xlabel('Hectare Hours')\n",
    "plt.ylabel('Water Surface Elevation (m)')\n",
    "\n"
   ]
  },
  {
   "cell_type": "code",
   "execution_count": 7,
   "id": "88f9c84e-0cee-46da-ab30-18c2bbc46c83",
   "metadata": {},
   "outputs": [
    {
     "data": {
      "text/html": [
       "<div>\n",
       "<style scoped>\n",
       "    .dataframe tbody tr th:only-of-type {\n",
       "        vertical-align: middle;\n",
       "    }\n",
       "\n",
       "    .dataframe tbody tr th {\n",
       "        vertical-align: top;\n",
       "    }\n",
       "\n",
       "    .dataframe thead th {\n",
       "        text-align: right;\n",
       "    }\n",
       "</style>\n",
       "<table border=\"1\" class=\"dataframe\">\n",
       "  <thead>\n",
       "    <tr style=\"text-align: right;\">\n",
       "      <th></th>\n",
       "      <th>geometry</th>\n",
       "      <th>id</th>\n",
       "      <th>frequency</th>\n",
       "      <th>elevation</th>\n",
       "      <th>area</th>\n",
       "      <th>hectares</th>\n",
       "      <th>perimeter</th>\n",
       "      <th>hectare_hours</th>\n",
       "    </tr>\n",
       "  </thead>\n",
       "  <tbody>\n",
       "    <tr>\n",
       "      <th>0</th>\n",
       "      <td>POLYGON ((446947.500 5128512.631, 446947.500 5...</td>\n",
       "      <td>100</td>\n",
       "      <td>2</td>\n",
       "      <td>1.0</td>\n",
       "      <td>1785.3750</td>\n",
       "      <td>0.178538</td>\n",
       "      <td>631.5</td>\n",
       "      <td>0.357075</td>\n",
       "    </tr>\n",
       "    <tr>\n",
       "      <th>0</th>\n",
       "      <td>POLYGON ((446949.000 5128514.131, 446949.000 5...</td>\n",
       "      <td>110</td>\n",
       "      <td>523</td>\n",
       "      <td>1.1</td>\n",
       "      <td>2291.0625</td>\n",
       "      <td>0.229106</td>\n",
       "      <td>642.0</td>\n",
       "      <td>119.822569</td>\n",
       "    </tr>\n",
       "    <tr>\n",
       "      <th>0</th>\n",
       "      <td>POLYGON ((446955.750 5128516.381, 446955.750 5...</td>\n",
       "      <td>120</td>\n",
       "      <td>462</td>\n",
       "      <td>1.2</td>\n",
       "      <td>2656.6875</td>\n",
       "      <td>0.265669</td>\n",
       "      <td>657.0</td>\n",
       "      <td>122.738962</td>\n",
       "    </tr>\n",
       "    <tr>\n",
       "      <th>0</th>\n",
       "      <td>POLYGON ((447280.500 5128854.631, 447280.500 5...</td>\n",
       "      <td>130</td>\n",
       "      <td>231</td>\n",
       "      <td>1.3</td>\n",
       "      <td>5967.0000</td>\n",
       "      <td>0.596700</td>\n",
       "      <td>2023.5</td>\n",
       "      <td>137.837700</td>\n",
       "    </tr>\n",
       "    <tr>\n",
       "      <th>0</th>\n",
       "      <td>POLYGON ((447281.250 5128857.631, 447281.250 5...</td>\n",
       "      <td>140</td>\n",
       "      <td>177</td>\n",
       "      <td>1.4</td>\n",
       "      <td>7023.3750</td>\n",
       "      <td>0.702338</td>\n",
       "      <td>2086.5</td>\n",
       "      <td>124.313738</td>\n",
       "    </tr>\n",
       "  </tbody>\n",
       "</table>\n",
       "</div>"
      ],
      "text/plain": [
       "                                            geometry   id  frequency  \\\n",
       "0  POLYGON ((446947.500 5128512.631, 446947.500 5...  100          2   \n",
       "0  POLYGON ((446949.000 5128514.131, 446949.000 5...  110        523   \n",
       "0  POLYGON ((446955.750 5128516.381, 446955.750 5...  120        462   \n",
       "0  POLYGON ((447280.500 5128854.631, 447280.500 5...  130        231   \n",
       "0  POLYGON ((447281.250 5128857.631, 447281.250 5...  140        177   \n",
       "\n",
       "   elevation       area  hectares  perimeter  hectare_hours  \n",
       "0        1.0  1785.3750  0.178538      631.5       0.357075  \n",
       "0        1.1  2291.0625  0.229106      642.0     119.822569  \n",
       "0        1.2  2656.6875  0.265669      657.0     122.738962  \n",
       "0        1.3  5967.0000  0.596700     2023.5     137.837700  \n",
       "0        1.4  7023.3750  0.702338     2086.5     124.313738  "
      ]
     },
     "execution_count": 7,
     "metadata": {},
     "output_type": "execute_result"
    }
   ],
   "source": [
    "fdf.head()"
   ]
  },
  {
   "cell_type": "markdown",
   "id": "d35dfe98-ceef-4ff7-8799-6d12b6e34cc2",
   "metadata": {},
   "source": [
    "### CDF"
   ]
  },
  {
   "cell_type": "code",
   "execution_count": 8,
   "id": "7a2057f2-b9b4-4626-a7dc-3ad19a39a751",
   "metadata": {},
   "outputs": [
    {
     "data": {
      "text/plain": [
       "(1.0, 3.6)"
      ]
     },
     "execution_count": 8,
     "metadata": {},
     "output_type": "execute_result"
    },
    {
     "data": {
      "image/png": "[encoded data removed]",
      "text/plain": [
       "<Figure size 864x576 with 1 Axes>"
      ]
     },
     "metadata": {},
     "output_type": "display_data"
    }
   ],
   "source": [
    "sns.set(style='whitegrid', font_scale=1.2) \n",
    "\n",
    "df = pd.read_csv(gage_data_file)\n",
    "\n",
    "fig, ax = plt.subplots(figsize=(12, 8))\n",
    "\n",
    "z_sort = df['WL_ELEV_M'].sort_values()\n",
    "\n",
    "x_data = np.linspace(df['WL_ELEV_M'].min(), z_sort.max() * 1.1, 100)\n",
    "\n",
    "s, loc, scale = stats.lognorm.fit(z_sort.values)\n",
    "\n",
    "cum_dist = np.linspace(0., 1., z_sort.shape[0])\n",
    "\n",
    "z_cdf = pd.Series(cum_dist, index=z_sort)\n",
    "\n",
    "ep = 1. - z_cdf\n",
    "\n",
    "z_cdf.plot(ax=ax, drawstyle='steps', label='data', color='blue')\n",
    "\n",
    "ax.plot(x_data, stats.lognorm.cdf(x_data, s, loc, scale), label='lognormal', color='green')\n",
    "\n",
    "ax.set_xlabel('Water Surface Elevation (m)')\n",
    "ax.set_ylabel('CDF')\n",
    "\n",
    "ax.legend(loc=0, framealpha=0.5) #, fontsize=14)\n",
    "plt.title('Cumulative Distribution')\n",
    "\n",
    "plt.xlim(xmin=x_data.min(), xmax=df['WL_ELEV_M'].max())\n"
   ]
  },
  {
   "cell_type": "markdown",
   "id": "4f4fe6ad-a8f0-4c5e-b218-062cb3aa028a",
   "metadata": {},
   "source": [
    "### Exceedence probability"
   ]
  },
  {
   "cell_type": "code",
   "execution_count": 12,
   "id": "19319143-b865-454d-9621-d110f20f7068",
   "metadata": {},
   "outputs": [
    {
     "data": {
      "text/plain": [
       "<matplotlib.legend.Legend at 0x176fb8f70>"
      ]
     },
     "execution_count": 12,
     "metadata": {},
     "output_type": "execute_result"
    },
    {
     "data": {
      "image/png": "[encoded data removed]",
      "text/plain": [
       "<Figure size 864x576 with 1 Axes>"
      ]
     },
     "metadata": {},
     "output_type": "display_data"
    }
   ],
   "source": [
    "sns.set(style='whitegrid', font_scale=1.2) \n",
    "\n",
    "fig, ax = plt.subplots(figsize=(12, 8))\n",
    "\n",
    "z_sort = df['WL_ELEV_M'].sort_values()\n",
    "\n",
    "x_data = np.linspace(df['WL_ELEV_M'].min(), z_sort.max() * 1.1, 100)\n",
    "\n",
    "s, loc, scale = stats.lognorm.fit(z_sort.values)\n",
    "\n",
    "cum_dist = np.linspace(0., 1., z_sort.shape[0])\n",
    "\n",
    "z_cdf = pd.Series(cum_dist, index=z_sort)\n",
    "\n",
    "ep = 1. - z_cdf\n",
    "\n",
    "ax.semilogx(100. * ep, z_sort.values, ls='', marker='o', label='data')\n",
    "ax.plot(100. * (1. - stats.lognorm.cdf(x_data, s, loc, scale)), x_data, label='lognormal')\n",
    "\n",
    "minor_locator = FixedLocator([1, 2, 5, 10, 20, 50, 100])\n",
    "\n",
    "ax.xaxis.set_major_locator(minor_locator)\n",
    "ax.xaxis.set_major_formatter(ScalarFormatter())\n",
    "ax.xaxis.set_major_formatter(FormatStrFormatter(\"%d\"))\n",
    "\n",
    "ax.set_xlim(1, 100)\n",
    "ax.set_ylim(0, df['WL_ELEV_M'].max())\n",
    "\n",
    "ax.set_xlabel('Exceedance Probability (%)')\n",
    "ax.set_ylabel('Water Surface Elevation')\n",
    "ax.invert_xaxis()\n",
    "\n",
    "ax.legend(loc=0, framealpha=0.5, fontsize=14)\n"
   ]
  },
  {
   "cell_type": "markdown",
   "id": "d2bb1060-225b-4d04-82ca-1b88f8b32d7c",
   "metadata": {},
   "source": [
    "### Inundation perimiter by water surface elevation"
   ]
  },
  {
   "cell_type": "code",
   "execution_count": 62,
   "id": "fac129b4-c0f6-431f-b0ac-7ebc69582237",
   "metadata": {},
   "outputs": [
    {
     "data": {
      "image/png": "[encoded data removed]",
      "text/plain": [
       "<Figure size 864x576 with 1 Axes>"
      ]
     },
     "metadata": {},
     "output_type": "display_data"
    }
   ],
   "source": [
    "\n",
    "sns.set(style='whitegrid', font_scale=1.2) \n",
    "\n",
    "\n",
    "fig, ax = plt.subplots(figsize=(12, 8))\n",
    "\n",
    "plt.plot(fdf.perimeter, fdf.elevation, 'ko', fdf.perimeter, fdf.elevation, 'k')\n",
    "\n",
    "x = ax.set(ylabel='Water Surface Elevation (m)',\n",
    "           xlabel='Inundation Perimeter (m)',\n",
    "           title='Inundation Perimiter by Water Surface Elevation')\n",
    "\n",
    "plt.axhline(fdf.elevation.mean(), color='black', linestyle=\"--\", label='_nolegend_')\n",
    "\n",
    "plt.xlim(xmin=0, xmax=fdf.perimeter.max() + 500)\n",
    "\n",
    "ax.xaxis.set_major_formatter(ticker.FuncFormatter(lambda x, pos: '{:}'.format(int(x/1000)) + 'K'))\n"
   ]
  },
  {
   "cell_type": "markdown",
   "id": "2c85dde7-1f97-4bdb-97c2-77cef65e299d",
   "metadata": {},
   "source": [
    "### Inundation area by water surface elevation"
   ]
  },
  {
   "cell_type": "code",
   "execution_count": 19,
   "id": "434bb574-15a0-4e02-b0e8-ff79ec101816",
   "metadata": {},
   "outputs": [
    {
     "data": {
      "image/png": "[encoded data removed]",
      "text/plain": [
       "<Figure size 864x576 with 1 Axes>"
      ]
     },
     "metadata": {},
     "output_type": "display_data"
    }
   ],
   "source": [
    "# calculate the inflection point for bankfull elevation\n",
    "bankfull_elevation, bankfull_area = calculate_inflection(fdf)\n",
    "\n",
    "sns.set(style='whitegrid', font_scale=1.2) \n",
    "\n",
    "\n",
    "fig, ax = plt.subplots(figsize=(12, 8))\n",
    "\n",
    "g = sns.lineplot(x=\"area\", \n",
    "                  y=\"elevation\",\n",
    "                  marker='o',\n",
    "                  data=fdf,\n",
    "                  color='black')\n",
    "\n",
    "x = ax.set(ylabel='Water Surface Elevation (m)',\n",
    "           xlabel='Area (m$^2$)',\n",
    "           title='Inundation Area by Water Surface Elevation')\n",
    "\n",
    "plt.plot(bankfull_area, bankfull_elevation, 'r^', ms=14)\n",
    "\n",
    "\n",
    "ax.xaxis.set_major_formatter(ticker.FuncFormatter(lambda x, pos: '{:}'.format(int(x/1000)) + 'K'))\n",
    "\n",
    "\n"
   ]
  },
  {
   "cell_type": "code",
   "execution_count": null,
   "id": "a717194e-6af7-4a96-a36e-b6de057ccf3c",
   "metadata": {},
   "outputs": [],
   "source": []
  },
  {
   "cell_type": "code",
   "execution_count": null,
   "id": "18d975f0-2ed4-479c-b208-9ea1dfef972c",
   "metadata": {},
   "outputs": [],
   "source": []
  },
  {
   "cell_type": "code",
   "execution_count": null,
   "id": "04f481d5-54e9-40d5-9465-28298771c433",
   "metadata": {},
   "outputs": [],
   "source": []
  },
  {
   "cell_type": "code",
   "execution_count": null,
   "id": "64745642-12e6-4b8d-ab07-028367906608",
   "metadata": {},
   "outputs": [],
   "source": []
  },
  {
   "cell_type": "code",
   "execution_count": 133,
   "id": "5947fe0a-4dd7-4e9e-9b7b-09e83a4ce0d7",
   "metadata": {},
   "outputs": [
    {
     "name": "stdout",
     "output_type": "stream",
     "text": [
      "[ 2  4  5  7 18]\n",
      "1.2000000000000002\n"
     ]
    }
   ],
   "source": [
    "def calculate_inflection(df):\n",
    "\n",
    "    # smooth data using a Gausian filter\n",
    "    # smoothed_area = gaussian_filter1d(fdf.area, 100)\n",
    "\n",
    "    # calucate the second derivative\n",
    "    second_deriv = np.gradient(np.gradient(df.area))\n",
    "\n",
    "    # get the index locations in the second derivative plot representing the sign change (a.k.a., inflection points) \n",
    "    inflection_indices = np.where(np.diff(np.sign(second_deriv)))[0]\n",
    "\n",
    "    # drop the first value in the series if it shows up as an inflection point\n",
    "    inflection_indices = inflection_indices[inflection_indices > 0]\n",
    "\n",
    "    # bankfull elevation is determined by the first inflection point\n",
    "    bankfull_elevation = df['elevation'].values[inflection_indices[0]]\n",
    "    \n",
    "    return bankfull_elevation\n"
   ]
  },
  {
   "cell_type": "code",
   "execution_count": 125,
   "id": "40aef92f-4b40-4f78-a749-7849a322d961",
   "metadata": {},
   "outputs": [
    {
     "data": {
      "text/plain": [
       "<AxesSubplot:xlabel='idx', ylabel='second_deriv_scaled'>"
      ]
     },
     "execution_count": 125,
     "metadata": {},
     "output_type": "execute_result"
    },
    {
     "data": {
      "image/png": "[encoded data removed]",
      "text/plain": [
       "<Figure size 432x288 with 1 Axes>"
      ]
     },
     "metadata": {},
     "output_type": "display_data"
    }
   ],
   "source": [
    "sns.lineplot(x=\"idx\", \n",
    "             y=\"second_deriv_scaled\",\n",
    "             #hue=\"region\", \n",
    "             #style=\"event\",\n",
    "             data=fdf)\n"
   ]
  },
  {
   "cell_type": "code",
   "execution_count": 126,
   "id": "ce89a3fc-526c-4ac5-9a17-3effb6c0ccd6",
   "metadata": {},
   "outputs": [
    {
     "data": {
      "text/plain": [
       "array([1. , 1.2, 1.4, 1.5, 1.7, 2.8])"
      ]
     },
     "execution_count": 126,
     "metadata": {},
     "output_type": "execute_result"
    }
   ],
   "source": [
    "fdf.elevation.values[inflects]"
   ]
  },
  {
   "cell_type": "code",
   "execution_count": 110,
   "id": "e334b9e1-f34c-423b-a7a4-b192e399a97c",
   "metadata": {},
   "outputs": [
    {
     "data": {
      "text/html": [
       "<div>\n",
       "<style scoped>\n",
       "    .dataframe tbody tr th:only-of-type {\n",
       "        vertical-align: middle;\n",
       "    }\n",
       "\n",
       "    .dataframe tbody tr th {\n",
       "        vertical-align: top;\n",
       "    }\n",
       "\n",
       "    .dataframe thead th {\n",
       "        text-align: right;\n",
       "    }\n",
       "</style>\n",
       "<table border=\"1\" class=\"dataframe\">\n",
       "  <thead>\n",
       "    <tr style=\"text-align: right;\">\n",
       "      <th></th>\n",
       "      <th>geometry</th>\n",
       "      <th>id</th>\n",
       "      <th>frequency</th>\n",
       "      <th>elevation</th>\n",
       "      <th>area</th>\n",
       "      <th>hectares</th>\n",
       "      <th>perimeter</th>\n",
       "      <th>hectare_hours</th>\n",
       "      <th>second_deriv</th>\n",
       "      <th>second_deriv_scaled</th>\n",
       "      <th>idx</th>\n",
       "    </tr>\n",
       "  </thead>\n",
       "  <tbody>\n",
       "    <tr>\n",
       "      <th>0</th>\n",
       "      <td>POLYGON ((446947.500 5128512.631, 446947.500 5...</td>\n",
       "      <td>100</td>\n",
       "      <td>2</td>\n",
       "      <td>1.0</td>\n",
       "      <td>1785.3750</td>\n",
       "      <td>0.178538</td>\n",
       "      <td>631.5</td>\n",
       "      <td>0.357075</td>\n",
       "      <td>-70.031250</td>\n",
       "      <td>-70.031250</td>\n",
       "      <td>0</td>\n",
       "    </tr>\n",
       "    <tr>\n",
       "      <th>0</th>\n",
       "      <td>POLYGON ((446949.000 5128514.131, 446949.000 5...</td>\n",
       "      <td>110</td>\n",
       "      <td>523</td>\n",
       "      <td>1.1</td>\n",
       "      <td>2291.0625</td>\n",
       "      <td>0.229106</td>\n",
       "      <td>642.0</td>\n",
       "      <td>119.822569</td>\n",
       "      <td>666.140625</td>\n",
       "      <td>666.140625</td>\n",
       "      <td>1</td>\n",
       "    </tr>\n",
       "    <tr>\n",
       "      <th>0</th>\n",
       "      <td>POLYGON ((446955.750 5128516.381, 446955.750 5...</td>\n",
       "      <td>120</td>\n",
       "      <td>462</td>\n",
       "      <td>1.2</td>\n",
       "      <td>2656.6875</td>\n",
       "      <td>0.265669</td>\n",
       "      <td>657.0</td>\n",
       "      <td>122.738962</td>\n",
       "      <td>873.843750</td>\n",
       "      <td>873.843750</td>\n",
       "      <td>2</td>\n",
       "    </tr>\n",
       "    <tr>\n",
       "      <th>0</th>\n",
       "      <td>POLYGON ((447280.500 5128854.631, 447280.500 5...</td>\n",
       "      <td>130</td>\n",
       "      <td>231</td>\n",
       "      <td>1.3</td>\n",
       "      <td>5967.0000</td>\n",
       "      <td>0.596700</td>\n",
       "      <td>2023.5</td>\n",
       "      <td>137.837700</td>\n",
       "      <td>-353.531250</td>\n",
       "      <td>-353.531250</td>\n",
       "      <td>3</td>\n",
       "    </tr>\n",
       "    <tr>\n",
       "      <th>0</th>\n",
       "      <td>POLYGON ((447281.250 5128857.631, 447281.250 5...</td>\n",
       "      <td>140</td>\n",
       "      <td>177</td>\n",
       "      <td>1.4</td>\n",
       "      <td>7023.3750</td>\n",
       "      <td>0.702338</td>\n",
       "      <td>2086.5</td>\n",
       "      <td>124.313738</td>\n",
       "      <td>-140.343750</td>\n",
       "      <td>-140.343750</td>\n",
       "      <td>4</td>\n",
       "    </tr>\n",
       "  </tbody>\n",
       "</table>\n",
       "</div>"
      ],
      "text/plain": [
       "                                            geometry   id  frequency  \\\n",
       "0  POLYGON ((446947.500 5128512.631, 446947.500 5...  100          2   \n",
       "0  POLYGON ((446949.000 5128514.131, 446949.000 5...  110        523   \n",
       "0  POLYGON ((446955.750 5128516.381, 446955.750 5...  120        462   \n",
       "0  POLYGON ((447280.500 5128854.631, 447280.500 5...  130        231   \n",
       "0  POLYGON ((447281.250 5128857.631, 447281.250 5...  140        177   \n",
       "\n",
       "   elevation       area  hectares  perimeter  hectare_hours  second_deriv  \\\n",
       "0        1.0  1785.3750  0.178538      631.5       0.357075    -70.031250   \n",
       "0        1.1  2291.0625  0.229106      642.0     119.822569    666.140625   \n",
       "0        1.2  2656.6875  0.265669      657.0     122.738962    873.843750   \n",
       "0        1.3  5967.0000  0.596700     2023.5     137.837700   -353.531250   \n",
       "0        1.4  7023.3750  0.702338     2086.5     124.313738   -140.343750   \n",
       "\n",
       "   second_deriv_scaled  idx  \n",
       "0           -70.031250    0  \n",
       "0           666.140625    1  \n",
       "0           873.843750    2  \n",
       "0          -353.531250    3  \n",
       "0          -140.343750    4  "
      ]
     },
     "execution_count": 110,
     "metadata": {},
     "output_type": "execute_result"
    }
   ],
   "source": [
    "fdf.head()"
   ]
  },
  {
   "cell_type": "code",
   "execution_count": 246,
   "id": "07576244-6525-4455-867e-454a10aebcfa",
   "metadata": {},
   "outputs": [],
   "source": [
    "masked_dem_file = os.path.join(output_dir, 'dem_masked_test_1.tif')\n",
    "\n",
    "def hypsometric_curve(dem_file, elevation_interval, min_elevation=None, max_elevation=None, \n",
    "                      plot_area=False, plot_percent=False, save_plot=False):\n",
    "    \"\"\"Calculate a hypsometric curve as an elevation-area relationship Assessment metric \n",
    "    of the landform shape at a site.  Provides basic metric of opportunity for inundation and \n",
    "    habitat opportunity.\n",
    "    \n",
    "    \"\"\"\n",
    "\n",
    "    # create a dictionary to hold results\n",
    "    result_dict = {'dem_elevation': [], 'dem_area_at_elevation': []}\n",
    "\n",
    "    with rasterio.open(dem_file) as src:\n",
    "\n",
    "        # read the raster band into a number array\n",
    "        arr = src.read(1)\n",
    "\n",
    "        # convert the raster nodata value to numpy nan\n",
    "        arr[arr == src.nodata] = np.nan\n",
    "        \n",
    "        # grid cell resolution\n",
    "        grid_cell_area = np.abs(src.transform[0] * src.transform[4])\n",
    "        \n",
    "        # set minimum and maximum elevation value; use raster determined values by default\n",
    "        if min_elevation is None:\n",
    "            min_elevation = np.nanmin(arr)\n",
    "        \n",
    "        if max_elevation is None:\n",
    "            max_elevation = np.nanmax(arr)\n",
    "\n",
    "        # create elevation intervals to process\n",
    "        elev_slices = np.arange(min_elevation, max_elevation + elevation_interval, elevation_interval)\n",
    "\n",
    "        # calculate each area at elevation intervals\n",
    "        for i in elev_slices:\n",
    "            result_dict['dem_elevation'].append(i)\n",
    "            result_dict['dem_area_at_elevation'].append(np.where(arr >= i)[0].shape[0] * grid_cell_area)\n",
    "\n",
    "        # convert results to data frame\n",
    "        df = pd.DataFrame(result_dict)\n",
    "\n",
    "        # calculate the total area\n",
    "        total_area = df['dem_area_at_elevation'].max()\n",
    "\n",
    "        # calculate percent area per elevation slice\n",
    "        df['dem_percent_area'] = df['dem_area_at_elevation'] / total_area\n",
    "        \n",
    "        if plot_area:\n",
    "            ax = sns.lineplot(x=\"dem_area_at_elevation\", \n",
    "                              y=\"dem_elevation\",\n",
    "                              marker='o',\n",
    "                              data=df)\n",
    "        if plot_percent:\n",
    "            ax = sns.lineplot(x=\"dem_percent_area\", \n",
    "                              y=\"dem_elevation\",\n",
    "                              marker='o',\n",
    "                              data=df)\n",
    "\n",
    "        return df\n",
    "    \n",
    "df = hypsometric_curve(masked_dem_file, elevation_interval, plot_area=False)\n",
    "\n"
   ]
  },
  {
   "cell_type": "markdown",
   "id": "6c72e2c6-536e-49dd-8c77-4bf1fb21ac35",
   "metadata": {},
   "source": [
    "How much area exist at the max elevation?\n",
    "\n",
    "At 19 m there is this much area available.\n"
   ]
  },
  {
   "cell_type": "code",
   "execution_count": 204,
   "id": "ba6cc32f-3505-4b3b-a9e0-24146279fc0f",
   "metadata": {},
   "outputs": [
    {
     "data": {
      "text/plain": [
       "66011627.8125"
      ]
     },
     "execution_count": 204,
     "metadata": {},
     "output_type": "execute_result"
    }
   ],
   "source": [
    "df['dem_area_at_elevation'].sum()"
   ]
  },
  {
   "cell_type": "code",
   "execution_count": 207,
   "id": "44b5dfc6-a32f-4e87-a172-b326e8fe8a17",
   "metadata": {},
   "outputs": [
    {
     "data": {
      "text/html": [
       "<div>\n",
       "<style scoped>\n",
       "    .dataframe tbody tr th:only-of-type {\n",
       "        vertical-align: middle;\n",
       "    }\n",
       "\n",
       "    .dataframe tbody tr th {\n",
       "        vertical-align: top;\n",
       "    }\n",
       "\n",
       "    .dataframe thead th {\n",
       "        text-align: right;\n",
       "    }\n",
       "</style>\n",
       "<table border=\"1\" class=\"dataframe\">\n",
       "  <thead>\n",
       "    <tr style=\"text-align: right;\">\n",
       "      <th></th>\n",
       "      <th>dem_elevation</th>\n",
       "      <th>dem_area_at_elevation</th>\n",
       "      <th>dem_percent_area</th>\n",
       "    </tr>\n",
       "  </thead>\n",
       "  <tbody>\n",
       "    <tr>\n",
       "      <th>0</th>\n",
       "      <td>0.682365</td>\n",
       "      <td>1.1250</td>\n",
       "      <td>1.704245e-08</td>\n",
       "    </tr>\n",
       "    <tr>\n",
       "      <th>1</th>\n",
       "      <td>0.782365</td>\n",
       "      <td>309.3750</td>\n",
       "      <td>4.686674e-06</td>\n",
       "    </tr>\n",
       "    <tr>\n",
       "      <th>2</th>\n",
       "      <td>0.882365</td>\n",
       "      <td>892.6875</td>\n",
       "      <td>1.352319e-05</td>\n",
       "    </tr>\n",
       "    <tr>\n",
       "      <th>3</th>\n",
       "      <td>0.982365</td>\n",
       "      <td>1859.6250</td>\n",
       "      <td>2.817117e-05</td>\n",
       "    </tr>\n",
       "    <tr>\n",
       "      <th>4</th>\n",
       "      <td>1.082365</td>\n",
       "      <td>3094.8750</td>\n",
       "      <td>4.688379e-05</td>\n",
       "    </tr>\n",
       "    <tr>\n",
       "      <th>...</th>\n",
       "      <td>...</td>\n",
       "      <td>...</td>\n",
       "      <td>...</td>\n",
       "    </tr>\n",
       "    <tr>\n",
       "      <th>189</th>\n",
       "      <td>19.582365</td>\n",
       "      <td>515429.4375</td>\n",
       "      <td>7.808161e-03</td>\n",
       "    </tr>\n",
       "    <tr>\n",
       "      <th>190</th>\n",
       "      <td>19.682365</td>\n",
       "      <td>516335.6250</td>\n",
       "      <td>7.821889e-03</td>\n",
       "    </tr>\n",
       "    <tr>\n",
       "      <th>191</th>\n",
       "      <td>19.782365</td>\n",
       "      <td>516816.0000</td>\n",
       "      <td>7.829166e-03</td>\n",
       "    </tr>\n",
       "    <tr>\n",
       "      <th>192</th>\n",
       "      <td>19.882365</td>\n",
       "      <td>516906.5625</td>\n",
       "      <td>7.830538e-03</td>\n",
       "    </tr>\n",
       "    <tr>\n",
       "      <th>193</th>\n",
       "      <td>19.982365</td>\n",
       "      <td>516908.2500</td>\n",
       "      <td>7.830564e-03</td>\n",
       "    </tr>\n",
       "  </tbody>\n",
       "</table>\n",
       "<p>194 rows × 3 columns</p>\n",
       "</div>"
      ],
      "text/plain": [
       "     dem_elevation  dem_area_at_elevation  dem_percent_area\n",
       "0         0.682365                 1.1250      1.704245e-08\n",
       "1         0.782365               309.3750      4.686674e-06\n",
       "2         0.882365               892.6875      1.352319e-05\n",
       "3         0.982365              1859.6250      2.817117e-05\n",
       "4         1.082365              3094.8750      4.688379e-05\n",
       "..             ...                    ...               ...\n",
       "189      19.582365            515429.4375      7.808161e-03\n",
       "190      19.682365            516335.6250      7.821889e-03\n",
       "191      19.782365            516816.0000      7.829166e-03\n",
       "192      19.882365            516906.5625      7.830538e-03\n",
       "193      19.982365            516908.2500      7.830564e-03\n",
       "\n",
       "[194 rows x 3 columns]"
      ]
     },
     "execution_count": 207,
     "metadata": {},
     "output_type": "execute_result"
    }
   ],
   "source": [
    "df"
   ]
  },
  {
   "cell_type": "code",
   "execution_count": 247,
   "id": "f6bb019f-d216-4210-ba7b-b603f51cffbd",
   "metadata": {},
   "outputs": [
    {
     "data": {
      "text/html": [
       "<div>\n",
       "<style scoped>\n",
       "    .dataframe tbody tr th:only-of-type {\n",
       "        vertical-align: middle;\n",
       "    }\n",
       "\n",
       "    .dataframe tbody tr th {\n",
       "        vertical-align: top;\n",
       "    }\n",
       "\n",
       "    .dataframe thead th {\n",
       "        text-align: right;\n",
       "    }\n",
       "</style>\n",
       "<table border=\"1\" class=\"dataframe\">\n",
       "  <thead>\n",
       "    <tr style=\"text-align: right;\">\n",
       "      <th></th>\n",
       "      <th>dem_elevation</th>\n",
       "      <th>dem_area_at_elevation</th>\n",
       "      <th>dem_percent_area</th>\n",
       "    </tr>\n",
       "  </thead>\n",
       "  <tbody>\n",
       "    <tr>\n",
       "      <th>0</th>\n",
       "      <td>0.682365</td>\n",
       "      <td>516908.2500</td>\n",
       "      <td>1.000000</td>\n",
       "    </tr>\n",
       "    <tr>\n",
       "      <th>1</th>\n",
       "      <td>0.782365</td>\n",
       "      <td>516598.8750</td>\n",
       "      <td>0.999401</td>\n",
       "    </tr>\n",
       "    <tr>\n",
       "      <th>2</th>\n",
       "      <td>0.882365</td>\n",
       "      <td>516015.5625</td>\n",
       "      <td>0.998273</td>\n",
       "    </tr>\n",
       "    <tr>\n",
       "      <th>3</th>\n",
       "      <td>0.982365</td>\n",
       "      <td>515048.6250</td>\n",
       "      <td>0.996402</td>\n",
       "    </tr>\n",
       "    <tr>\n",
       "      <th>4</th>\n",
       "      <td>1.082365</td>\n",
       "      <td>513813.3750</td>\n",
       "      <td>0.994013</td>\n",
       "    </tr>\n",
       "  </tbody>\n",
       "</table>\n",
       "</div>"
      ],
      "text/plain": [
       "   dem_elevation  dem_area_at_elevation  dem_percent_area\n",
       "0       0.682365            516908.2500          1.000000\n",
       "1       0.782365            516598.8750          0.999401\n",
       "2       0.882365            516015.5625          0.998273\n",
       "3       0.982365            515048.6250          0.996402\n",
       "4       1.082365            513813.3750          0.994013"
      ]
     },
     "execution_count": 247,
     "metadata": {},
     "output_type": "execute_result"
    }
   ],
   "source": [
    "df.head()"
   ]
  },
  {
   "cell_type": "code",
   "execution_count": 7,
   "id": "cb4750b6-73b7-4565-a370-f21bce982c96",
   "metadata": {},
   "outputs": [
    {
     "ename": "NameError",
     "evalue": "name 'df' is not defined",
     "output_type": "error",
     "traceback": [
      "\u001b[0;31m---------------------------------------------------------------------------\u001b[0m",
      "\u001b[0;31mNameError\u001b[0m                                 Traceback (most recent call last)",
      "\u001b[0;32m<ipython-input-7-dea8094257da>\u001b[0m in \u001b[0;36m<module>\u001b[0;34m\u001b[0m\n\u001b[1;32m     10\u001b[0m                   \u001b[0my\u001b[0m\u001b[0;34m=\u001b[0m\u001b[0;34m\"dem_elevation\"\u001b[0m\u001b[0;34m,\u001b[0m\u001b[0;34m\u001b[0m\u001b[0;34m\u001b[0m\u001b[0m\n\u001b[1;32m     11\u001b[0m                   \u001b[0mmarker\u001b[0m\u001b[0;34m=\u001b[0m\u001b[0;34m'o'\u001b[0m\u001b[0;34m,\u001b[0m\u001b[0;34m\u001b[0m\u001b[0;34m\u001b[0m\u001b[0m\n\u001b[0;32m---> 12\u001b[0;31m                   \u001b[0mdata\u001b[0m\u001b[0;34m=\u001b[0m\u001b[0mdf\u001b[0m\u001b[0;34m,\u001b[0m\u001b[0;34m\u001b[0m\u001b[0;34m\u001b[0m\u001b[0m\n\u001b[0m\u001b[1;32m     13\u001b[0m                   color='black')\n\u001b[1;32m     14\u001b[0m \u001b[0;34m\u001b[0m\u001b[0m\n",
      "\u001b[0;31mNameError\u001b[0m: name 'df' is not defined"
     ]
    },
    {
     "data": {
      "image/png": "[encoded data removed]",
      "text/plain": [
       "<Figure size 864x576 with 1 Axes>"
      ]
     },
     "metadata": {},
     "output_type": "display_data"
    }
   ],
   "source": [
    "import matplotlib.pyplot as plt\n",
    "import matplotlib.ticker as ticker\n",
    "\n",
    "sns.set(style='whitegrid', font_scale=1.2) \n",
    "\n",
    "\n",
    "fig, ax = plt.subplots(figsize=(12, 8))\n",
    "\n",
    "g = sns.lineplot(x=\"dem_area_at_elevation\", \n",
    "                  y=\"dem_elevation\",\n",
    "                  marker='o',\n",
    "                  data=df,\n",
    "                  color='black')\n",
    "\n",
    "x = ax.set(ylabel='Elevation (m)',\n",
    "           xlabel='Area (m$^2$)',\n",
    "           title='Hypsometric')\n",
    "\n",
    "ax.xaxis.set_major_formatter(ticker.FuncFormatter(lambda x, pos: '{:}'.format(int(x/1000)) + 'K'))\n",
    "\n"
   ]
  },
  {
   "cell_type": "code",
   "execution_count": 287,
   "id": "ad571784-46be-42fc-8cf5-1e577265de93",
   "metadata": {},
   "outputs": [
    {
     "data": {
      "text/plain": [
       "'12.34'"
      ]
     },
     "execution_count": 287,
     "metadata": {},
     "output_type": "execute_result"
    }
   ],
   "source": [
    "'{:}'.format(12.34)"
   ]
  },
  {
   "cell_type": "code",
   "execution_count": null,
   "id": "c736b268-4350-4fab-8d24-be06f84b825c",
   "metadata": {},
   "outputs": [],
   "source": []
  }
 ],
 "metadata": {
  "kernelspec": {
   "display_name": "py3.9.4_ml",
   "language": "python",
   "name": "py3.9.4_ml"
  },
  "language_info": {
   "codemirror_mode": {
    "name": "ipython",
    "version": 3
   },
   "file_extension": ".py",
   "mimetype": "text/x-python",
   "name": "python",
   "nbconvert_exporter": "python",
   "pygments_lexer": "ipython3",
   "version": "3.9.4"
  }
 },
 "nbformat": 4,
 "nbformat_minor": 5
}
