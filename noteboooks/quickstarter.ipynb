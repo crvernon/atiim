{
 "cells": [
  {
   "cell_type": "code",
   "execution_count": 11,
   "id": "34782688-5c2e-4579-8c6a-d7600097a2d2",
   "metadata": {},
   "outputs": [],
   "source": [
    "import os\n",
    "\n",
    "import fiona\n",
    "import rasterio\n",
    "import numpy as np\n",
    "import pandas as pd\n",
    "import geopandas as gpd\n",
    "import rasterio.mask\n",
    "import shapely.speedups\n",
    "import matplotlib.pyplot as plt\n",
    "import matplotlib.ticker as ticker\n",
    "\n",
    "from scipy import stats\n",
    "from rasterio.plot import show\n",
    "from rasterio.features import shapes\n",
    "from shapely.geometry import shape\n",
    "from joblib import delayed, Parallel\n",
    "from scipy.ndimage import gaussian_filter1d\n",
    "from matplotlib.ticker import ScalarFormatter, FormatStrFormatter, FixedLocator\n",
    "\n",
    "\n",
    "# enable shapely speedups for topology operations\n",
    "shapely.speedups.enable()\n",
    "\n",
    "import seaborn as sns; sns.set()\n"
   ]
  },
  {
   "cell_type": "code",
   "execution_count": 12,
   "id": "e2bc1e6a-92c6-428d-849d-5cdb815996cd",
   "metadata": {},
   "outputs": [],
   "source": [
    "data_dir = '/Users/d3y010/projects/atiim/data'\n",
    "\n",
    "gage_data_file = os.path.join(data_dir, 'tabular', 'water_level.csv')\n",
    "dem_file = os.path.join(data_dir, 'raster', 'run_1_all.sdat')\n",
    "basin_shp = os.path.join(data_dir, 'shp', 'basin_1.shp')\n",
    "gage_shp = os.path.join(data_dir, 'shp', 'gage_location_1.shp')\n",
    "\n",
    "output_dir = '/Users/d3y010/projects/atiim/test'\n",
    "\n",
    "run_name = 'test_1'\n",
    "elevation_interval = 0.1\n",
    "hour_interval = 1.0\n"
   ]
  },
  {
   "cell_type": "code",
   "execution_count": 151,
   "id": "fdd75b55-7fe4-4660-a4ef-fd3c420b8c6c",
   "metadata": {},
   "outputs": [],
   "source": [
    "with rasterio.open(dem_file) as src:\n",
    "    \n",
    "    arr = src.read(1)\n",
    "    \n",
    "    gridcell_area = (src.res[0] * src.res[1])\n",
    "    \n",
    "    arr = np.where(arr == src.nodata, np.nan, arr)\n"
   ]
  },
  {
   "cell_type": "code",
   "execution_count": 166,
   "id": "627d8dba-0156-4107-8099-c044b2c75193",
   "metadata": {},
   "outputs": [
    {
     "data": {
      "text/plain": [
       "0.682365"
      ]
     },
     "execution_count": 166,
     "metadata": {},
     "output_type": "execute_result"
    }
   ],
   "source": [
    "arx = arr[arr <= 1.0]\n",
    "\n",
    "np.nanmin(arx)\n"
   ]
  },
  {
   "cell_type": "code",
   "execution_count": 156,
   "id": "9dc00bbf-2d78-4737-a8da-900d3ce980f9",
   "metadata": {},
   "outputs": [
    {
     "data": {
      "text/plain": [
       "1840.0212707519531"
      ]
     },
     "execution_count": 156,
     "metadata": {},
     "output_type": "execute_result"
    }
   ],
   "source": [
    "arx * gridcell_area"
   ]
  },
  {
   "cell_type": "code",
   "execution_count": 93,
   "id": "060b5d6d-9cb0-4e7d-9f25-131121df4e75",
   "metadata": {},
   "outputs": [],
   "source": [
    "import rioxarray as rio\n",
    "import libpysal\n",
    "\n",
    "from libpysal.cg.voronoi import voronoi, voronoi_frames\n",
    "\n",
    "\n",
    "da = rio.open_rasterio(dem_file)\n",
    "\n",
    "x, y = np.meshgrid(da['x'], da['y'])\n",
    "\n",
    "dfx = pd.DataFrame({'x': x.flatten(), 'y': y.flatten(), 'value': da.values[0, :, :].flatten()})\n"
   ]
  },
  {
   "cell_type": "code",
   "execution_count": 95,
   "id": "8e80b1e0-4d2d-4d78-b4de-17bad8b886b3",
   "metadata": {},
   "outputs": [
    {
     "data": {
      "text/plain": [
       "(1920536, 3)"
      ]
     },
     "execution_count": 95,
     "metadata": {},
     "output_type": "execute_result"
    }
   ],
   "source": [
    "dfx.shape"
   ]
  },
  {
   "cell_type": "code",
   "execution_count": 96,
   "id": "0ae8584b-8730-4de5-9ee5-c38641dd0074",
   "metadata": {},
   "outputs": [
    {
     "data": {
      "text/plain": [
       "(918948, 3)"
      ]
     },
     "execution_count": 96,
     "metadata": {},
     "output_type": "execute_result"
    }
   ],
   "source": [
    "# remove nan\n",
    "dfx = dfx.loc[dfx['value'] > -9999]\n",
    "\n",
    "dfx.shape\n"
   ]
  },
  {
   "cell_type": "code",
   "execution_count": 120,
   "id": "a2234691-d66a-4f53-9766-13da26ce895b",
   "metadata": {},
   "outputs": [],
   "source": [
    "dfi = dfx.loc[dfx['value'] < 2.0].copy()\n"
   ]
  },
  {
   "cell_type": "code",
   "execution_count": 121,
   "id": "a665cf9e-e87b-4fdf-9b72-037b1dd2a2c5",
   "metadata": {},
   "outputs": [
    {
     "data": {
      "text/plain": [
       "(3700, 3)"
      ]
     },
     "execution_count": 121,
     "metadata": {},
     "output_type": "execute_result"
    }
   ],
   "source": [
    "dfi.shape"
   ]
  },
  {
   "cell_type": "code",
   "execution_count": 122,
   "id": "af923dee-2007-481d-adcb-ce6fad3635c7",
   "metadata": {},
   "outputs": [],
   "source": [
    "from matplotlib.tri import Triangulation, LinearTriInterpolator\n"
   ]
  },
  {
   "cell_type": "code",
   "execution_count": 126,
   "id": "e7433afe-a323-4f60-8a3a-f9d224c97180",
   "metadata": {},
   "outputs": [
    {
     "data": {
      "text/plain": [
       "array([447206.625, 447205.875, 447205.125, ..., 446872.125, 446871.375,\n",
       "       446872.125])"
      ]
     },
     "execution_count": 126,
     "metadata": {},
     "output_type": "execute_result"
    }
   ],
   "source": [
    "dfi.x.values"
   ]
  },
  {
   "cell_type": "code",
   "execution_count": 127,
   "id": "2df0efa5-1181-4c12-ae23-06cdea284fbc",
   "metadata": {},
   "outputs": [],
   "source": [
    "triFn = Triangulation(dfi.x.values, dfi.y.values)\n"
   ]
  },
  {
   "cell_type": "code",
   "execution_count": 137,
   "id": "b3dc4404-5612-4721-838c-79ad84ff8d2e",
   "metadata": {},
   "outputs": [
    {
     "data": {
      "text/plain": [
       "<matplotlib.tri.triangulation.Triangulation at 0x19ffada30>"
      ]
     },
     "execution_count": 137,
     "metadata": {},
     "output_type": "execute_result"
    }
   ],
   "source": [
    "triFn"
   ]
  },
  {
   "cell_type": "code",
   "execution_count": 128,
   "id": "7d5c3ff8-5e58-4230-aba7-5c08d6c47e2b",
   "metadata": {},
   "outputs": [],
   "source": [
    "linTriFn = LinearTriInterpolator(triFn, dfi.value.values)\n"
   ]
  },
  {
   "cell_type": "code",
   "execution_count": 131,
   "id": "2befd40e-d6c2-4991-8247-21a61ffc3ac5",
   "metadata": {},
   "outputs": [],
   "source": [
    "totalPointsArray = dfi.values.copy()"
   ]
  },
  {
   "cell_type": "code",
   "execution_count": 139,
   "id": "23e86cce-fd37-420c-9a16-341bde15e085",
   "metadata": {},
   "outputs": [
    {
     "data": {
      "text/plain": [
       "<matplotlib.image.AxesImage at 0x1a1afc070>"
      ]
     },
     "execution_count": 139,
     "metadata": {},
     "output_type": "execute_result"
    },
    {
     "data": {
      "image/png": "[encoded data removed]",
      "text/plain": [
       "<Figure size 432x288 with 1 Axes>"
      ]
     },
     "metadata": {},
     "output_type": "display_data"
    }
   ],
   "source": [
    "#define raster resolution in (m)\n",
    "rasterRes = 0.5\n",
    "\n",
    "xCoords = np.arange(totalPointsArray[:,0].min(), totalPointsArray[:,0].max()+rasterRes, rasterRes)\n",
    "yCoords = np.arange(totalPointsArray[:,1].min(), totalPointsArray[:,1].max()+rasterRes, rasterRes)\n",
    "zCoords = np.zeros([yCoords.shape[0],xCoords.shape[0]])\n",
    "\n",
    "#loop among each cell in the raster extension\n",
    "for indexX, x in np.ndenumerate(xCoords):\n",
    "    for indexY, y in np.ndenumerate(yCoords):\n",
    "        tempZ = linTriFn(x, y)\n",
    "        #filtering masked values\n",
    "        if tempZ == tempZ:\n",
    "            zCoords[indexY,indexX]=tempZ\n",
    "        else:\n",
    "            zCoords[indexY,indexX]=np.nan\n",
    "\n",
    "#preliminary representation of the interpolated values\n",
    "plt.imshow(zCoords)"
   ]
  },
  {
   "cell_type": "code",
   "execution_count": 134,
   "id": "e0851a32-9ebb-49bc-8f9f-a6809517ebc6",
   "metadata": {},
   "outputs": [],
   "source": [
    "from rasterio.transform import Affine\n",
    "transform = Affine.translation(xCoords[0] - rasterRes/2, yCoords[0] - rasterRes/2) * Affine.scale(rasterRes, rasterRes)"
   ]
  },
  {
   "cell_type": "code",
   "execution_count": 136,
   "id": "cba8c072-f916-4c64-ab18-bc8f7b55c1f9",
   "metadata": {},
   "outputs": [],
   "source": [
    "triInterpRaster = rasterio.open('/Users/d3y010/Desktop/triangleInterpolation.tif',\n",
    "                                'w',\n",
    "                                driver='GTiff',\n",
    "                                height=zCoords.shape[0],\n",
    "                                width=zCoords.shape[1],\n",
    "                                count=1,\n",
    "                                dtype=zCoords.dtype,\n",
    "                                #crs='+proj=latlong',\n",
    "                                crs={'init': 'epsg:26910'},\n",
    "                                transform=transform,\n",
    "                                )\n",
    "triInterpRaster.write(zCoords,1)\n",
    "triInterpRaster.close()"
   ]
  },
  {
   "cell_type": "code",
   "execution_count": null,
   "id": "bcea7164-97e2-4f45-9dae-5ae107b37074",
   "metadata": {},
   "outputs": [],
   "source": []
  },
  {
   "cell_type": "code",
   "execution_count": null,
   "id": "4ab87993-f9a3-42f0-8462-ee994ef902c8",
   "metadata": {},
   "outputs": [],
   "source": []
  },
  {
   "cell_type": "code",
   "execution_count": null,
   "id": "65f336ed-0fc7-499a-8590-ec9e9d6c7474",
   "metadata": {},
   "outputs": [],
   "source": []
  },
  {
   "cell_type": "code",
   "execution_count": null,
   "id": "e24b1675-79a0-4971-9a8c-8663162d3b39",
   "metadata": {},
   "outputs": [],
   "source": []
  },
  {
   "cell_type": "code",
   "execution_count": null,
   "id": "4aff5c1f-7b8e-4f28-9a00-bf019e9ab48c",
   "metadata": {},
   "outputs": [],
   "source": []
  },
  {
   "cell_type": "code",
   "execution_count": null,
   "id": "79674bbb-7b8f-4cde-837b-8fb084d32986",
   "metadata": {},
   "outputs": [],
   "source": []
  },
  {
   "cell_type": "code",
   "execution_count": null,
   "id": "17fcf4fc-20d1-43f0-8e81-ebaee83fed99",
   "metadata": {},
   "outputs": [],
   "source": []
  },
  {
   "cell_type": "code",
   "execution_count": 110,
   "id": "6af0cd6b-52ab-4697-962b-40e50ad73dd2",
   "metadata": {},
   "outputs": [],
   "source": [
    "points = dfi[['x', 'y']].values"
   ]
  },
  {
   "cell_type": "code",
   "execution_count": 111,
   "id": "d407f43a-dc90-4d7f-9ff6-752cba35d038",
   "metadata": {},
   "outputs": [
    {
     "data": {
      "text/plain": [
       "<AxesSubplot:>"
      ]
     },
     "execution_count": 111,
     "metadata": {},
     "output_type": "execute_result"
    },
    {
     "data": {
      "image/png": "[encoded data removed]",
      "text/plain": [
       "<Figure size 432x288 with 1 Axes>"
      ]
     },
     "metadata": {},
     "output_type": "display_data"
    }
   ],
   "source": [
    "\n",
    "regions_df, points_df = voronoi_frames(points)\n",
    "\n",
    "fig, ax = plt.subplots()\n",
    "\n",
    "points_df.plot(ax=ax, color='red')\n"
   ]
  },
  {
   "cell_type": "code",
   "execution_count": 112,
   "id": "b47e9d20-0732-4702-a2fe-fdc6dab7a3af",
   "metadata": {},
   "outputs": [
    {
     "data": {
      "text/plain": [
       "<AxesSubplot:>"
      ]
     },
     "execution_count": 112,
     "metadata": {},
     "output_type": "execute_result"
    },
    {
     "data": {
      "image/png": "[encoded data removed]",
      "text/plain": [
       "<Figure size 432x288 with 1 Axes>"
      ]
     },
     "metadata": {},
     "output_type": "display_data"
    }
   ],
   "source": [
    "fig, ax = plt.subplots()\n",
    "\n",
    "regions_df.plot(ax=ax, color='blue',edgecolor='black', alpha=0.3)\n",
    "points_df.plot(ax=ax, color='red')\n"
   ]
  },
  {
   "cell_type": "code",
   "execution_count": 115,
   "id": "e30677c7-18bd-421c-a54b-ac96e4fea127",
   "metadata": {},
   "outputs": [],
   "source": [
    "regions_df.to_file('/Users/d3y010/Desktop/test.shp')"
   ]
  },
  {
   "cell_type": "code",
   "execution_count": null,
   "id": "8c08d9eb-5975-432e-a08c-6f59e59db418",
   "metadata": {},
   "outputs": [],
   "source": []
  },
  {
   "cell_type": "code",
   "execution_count": 87,
   "id": "96b01eae-c506-4db9-8573-bfe60d7762b6",
   "metadata": {},
   "outputs": [
    {
     "data": {
      "text/plain": [
       "array([[ 446580.375   , 5129541.255815],\n",
       "       [ 446581.125   , 5129541.255815],\n",
       "       [ 446581.875   , 5129541.255815],\n",
       "       [ 446582.625   , 5129541.255815],\n",
       "       [ 446583.375   , 5129541.255815],\n",
       "       [ 446584.125   , 5129541.255815],\n",
       "       [ 446584.875   , 5129541.255815],\n",
       "       [ 446585.625   , 5129541.255815],\n",
       "       [ 446586.375   , 5129541.255815],\n",
       "       [ 446587.125   , 5129541.255815]])"
      ]
     },
     "execution_count": 87,
     "metadata": {},
     "output_type": "execute_result"
    }
   ],
   "source": [
    "test"
   ]
  },
  {
   "cell_type": "code",
   "execution_count": 83,
   "id": "09b3cb96-4da4-4343-84cb-b057b7a82214",
   "metadata": {},
   "outputs": [],
   "source": [
    "n_points = 200\n",
    "np.random.seed(12345)\n",
    "points = np.random.random((n_points,2))*10 + 10\n",
    "results = voronoi(points)\n"
   ]
  },
  {
   "cell_type": "code",
   "execution_count": 85,
   "id": "a18880f3-6c99-45b5-9cf6-003bf1f2a915",
   "metadata": {},
   "outputs": [
    {
     "data": {
      "text/plain": [
       "array([[19.29616093, 13.16375555],\n",
       "       [11.83918812, 12.04560279],\n",
       "       [15.67725029, 15.95544703],\n",
       "       [19.6451452 , 16.53177097],\n",
       "       [17.48906638, 16.53569871],\n",
       "       [17.47714809, 19.61306736],\n",
       "       [10.08388298, 11.06444377],\n",
       "       [12.98703714, 16.56411183],\n",
       "       [18.09812553, 18.72175914],\n",
       "       [19.64647597, 17.23685347]])"
      ]
     },
     "execution_count": 85,
     "metadata": {},
     "output_type": "execute_result"
    }
   ],
   "source": [
    "points[:10]"
   ]
  },
  {
   "cell_type": "code",
   "execution_count": 52,
   "id": "4c89ba1a-96bc-4541-bc11-9088dbea6a69",
   "metadata": {},
   "outputs": [],
   "source": [
    "regions, vertices = voronoi(points)\n"
   ]
  },
  {
   "cell_type": "code",
   "execution_count": 53,
   "id": "d6885720-0fb2-48a9-816b-fd3e9bd84e0d",
   "metadata": {},
   "outputs": [],
   "source": [
    "regions_df, points_df = voronoi_frames(points)\n"
   ]
  },
  {
   "cell_type": "code",
   "execution_count": 55,
   "id": "d00ca4a3-f979-4ee7-b59c-9556ef3473c8",
   "metadata": {},
   "outputs": [
    {
     "data": {
      "text/plain": [
       "<AxesSubplot:>"
      ]
     },
     "execution_count": 55,
     "metadata": {},
     "output_type": "execute_result"
    },
    {
     "data": {
      "image/png": "[encoded data removed]",
      "text/plain": [
       "<Figure size 432x288 with 1 Axes>"
      ]
     },
     "metadata": {},
     "output_type": "display_data"
    }
   ],
   "source": [
    "fig, ax = plt.subplots()\n",
    "regions_df.plot(ax=ax, color='blue',edgecolor='black', alpha=0.3)\n",
    "points_df.plot(ax=ax, color='red')\n"
   ]
  },
  {
   "cell_type": "code",
   "execution_count": null,
   "id": "5b38a55c-1e4e-4691-bf0c-f515f1c4ab2f",
   "metadata": {},
   "outputs": [],
   "source": []
  },
  {
   "cell_type": "code",
   "execution_count": null,
   "id": "6a825fbf-7471-4fa5-a8d2-cebc26034649",
   "metadata": {},
   "outputs": [],
   "source": []
  },
  {
   "cell_type": "code",
   "execution_count": null,
   "id": "a8cc60f2-41cb-4a56-b952-2ecf5fb06d47",
   "metadata": {},
   "outputs": [],
   "source": []
  },
  {
   "cell_type": "code",
   "execution_count": 54,
   "id": "68f8c93c-f247-41fe-b1a7-8ad1f1b197db",
   "metadata": {},
   "outputs": [
    {
     "data": {
      "text/plain": [
       "([[202, 49, 48, 117, 200],\n",
       "  [225, 14, 16, 61, 62, 223],\n",
       "  [299, 220, 218, 219, 296],\n",
       "  [44, 42, 41, 43],\n",
       "  [335, 211, 129, 56, 50, 118, 334],\n",
       "  [371, 369, 368, 370],\n",
       "  [385, 355, 356, 225, 14, 13, 1, 384],\n",
       "  [286, 279, 281, 194, 193, 285],\n",
       "  [278, 104, 103, 274, 275, 276],\n",
       "  [100, 37, 41, 43, 7, 99],\n",
       "  [333, 293, 292, 291, 332],\n",
       "  [345, 67, 164, 254, 253, 344],\n",
       "  [283, 197, 196, 208, 207, 183, 267, 266, 282],\n",
       "  [44, 8, 2, 7, 43],\n",
       "  [310, 238, 231, 309],\n",
       "  [170, 74, 77, 78, 23, 169],\n",
       "  [247, 155, 152, 153, 154, 244],\n",
       "  [341, 336, 337, 338, 339, 340],\n",
       "  [159, 22, 21, 4, 152, 153, 156],\n",
       "  [100, 37, 36, 97],\n",
       "  [124, 115, 57, 123],\n",
       "  [244, 154, 240, 242, 243],\n",
       "  [139, 63, 61, 62, 138],\n",
       "  [348, 222, 339, 338, 130, 347],\n",
       "  [367, 363, 362, 364, 365, 366],\n",
       "  [250, 163, 166, 165, 162, 161, 249],\n",
       "  [369, 330, 277, 278, 276, 325, 368],\n",
       "  [151, 20, 72, 71, 69, 150],\n",
       "  [346, 148, 146, 67, 345],\n",
       "  [278, 104, 102, 277],\n",
       "  [375, 19, 255, 253, 344, 374],\n",
       "  [167, 72, 20, 162, 165],\n",
       "  [272, 179, 177, 180, 258, 257, 95, 270],\n",
       "  [213, 57, 115, 114, 54, 53, 55, 56, 129, 212],\n",
       "  [44, 8, 40, 38, 42],\n",
       "  [125, 113, 114, 115, 124],\n",
       "  [313, 89, 280, 282, 266, 311],\n",
       "  [256, 166, 165, 167, 168, 164, 254],\n",
       "  [319, 88, 83, 82, 76, 90, 273, 317],\n",
       "  [187, 185, 184, 186],\n",
       "  [54, 39, 40, 38, 53],\n",
       "  [319, 317, 316, 315, 318],\n",
       "  [301, 58, 287, 288, 221, 300],\n",
       "  [136, 134, 133, 132, 131, 135],\n",
       "  [230, 140, 142, 144, 68, 145, 146, 67, 164, 168, 73, 229],\n",
       "  [324, 321, 320, 322, 323],\n",
       "  [330, 277, 102, 101, 329],\n",
       "  [175, 172, 171, 170, 169, 173, 174],\n",
       "  [314, 190, 188, 189, 269, 312],\n",
       "  [247, 244, 243, 245, 246],\n",
       "  [135, 16, 61, 63, 131],\n",
       "  [160, 158, 157, 156, 159],\n",
       "  [94, 79, 29, 30, 6, 35, 93],\n",
       "  [326, 195, 204, 205, 323, 324, 275, 276, 325],\n",
       "  [299, 220, 210, 211, 129, 212, 215, 298],\n",
       "  [307, 232, 140, 230, 306],\n",
       "  [126, 47, 110, 112, 113, 125],\n",
       "  [386, 173, 174, 387],\n",
       "  [298, 215, 214, 65, 18, 297],\n",
       "  [217, 214, 215, 212, 213, 216],\n",
       "  [114, 54, 39, 111, 112, 113],\n",
       "  [261, 79, 94, 95, 257],\n",
       "  [328, 10, 186, 187, 81, 327],\n",
       "  [359, 255, 253, 254, 256, 357],\n",
       "  [33, 31, 30, 29, 32],\n",
       "  [252, 250, 249, 248, 251],\n",
       "  [335, 333, 332, 334],\n",
       "  [217, 64, 66, 120, 119, 216],\n",
       "  [388, 5, 23, 169, 173, 389],\n",
       "  [309, 231, 239, 308],\n",
       "  [290, 286, 285, 287, 288, 289],\n",
       "  [383, 380, 379, 378, 381, 382],\n",
       "  [172, 24, 84, 82, 76, 171],\n",
       "  [287, 58, 34, 192, 193, 285],\n",
       "  [374, 344, 345, 346, 347, 348, 373],\n",
       "  [55, 52, 51, 36, 37, 41, 42, 38, 53],\n",
       "  [383, 304, 302, 349, 350, 382],\n",
       "  [85, 25, 24, 84],\n",
       "  [331, 329, 101, 9, 390, 391],\n",
       "  [261, 257, 258, 259, 260],\n",
       "  [249, 161, 22, 21, 248],\n",
       "  [377, 372, 373, 374, 375, 376],\n",
       "  [293, 209, 218, 219, 203, 292],\n",
       "  [321, 274, 103, 96, 97, 36, 51, 320],\n",
       "  [312, 269, 268, 267, 266, 311],\n",
       "  [236, 199, 201, 12, 235],\n",
       "  [9, 98, 99, 7, 2, 393, 392],\n",
       "  [233, 121, 141, 142, 140, 232],\n",
       "  [104, 102, 101, 9, 98, 96, 103],\n",
       "  [0, 394, 395, 155, 152, 4],\n",
       "  [28, 1, 13, 15, 26],\n",
       "  [45, 46, 397, 396, 3, 48, 49],\n",
       "  [273, 90, 91, 92, 178, 179, 272],\n",
       "  [263, 180, 177, 176, 77, 78, 262],\n",
       "  [353, 251, 248, 21, 4, 0, 352],\n",
       "  [324, 275, 274, 321],\n",
       "  [356, 351, 349, 350, 353, 352, 354, 355],\n",
       "  [310, 238, 237, 235, 236, 234, 233, 232, 307],\n",
       "  [343, 301, 58, 34, 35, 6, 134, 133, 342],\n",
       "  [192, 34, 35, 93, 191],\n",
       "  [127, 122, 116, 47, 126],\n",
       "  [269, 189, 185, 184, 182, 268],\n",
       "  [382, 350, 353, 251, 252, 381],\n",
       "  [337, 147, 145, 68, 18, 297, 336],\n",
       "  [143, 66, 120, 121, 141],\n",
       "  [128, 123, 124, 125, 126, 127],\n",
       "  [296, 219, 203, 206, 295],\n",
       "  [341, 294, 196, 197, 198, 340],\n",
       "  [317, 273, 272, 270, 271, 316],\n",
       "  [380, 361, 360, 358, 359, 357, 379],\n",
       "  [228, 137, 139, 138, 226],\n",
       "  [92, 75, 91],\n",
       "  [305, 227, 224, 303, 302, 304],\n",
       "  [144, 68, 18, 65, 64, 66, 143],\n",
       "  [335, 211, 210, 209, 293, 333],\n",
       "  [361, 305, 227, 226, 228, 360],\n",
       "  [351, 303, 302, 349],\n",
       "  [399, 398, 354, 355],\n",
       "  [227, 224, 223, 62, 138, 226],\n",
       "  [328, 10, 11, 195, 326],\n",
       "  [322, 118, 50, 52, 51, 320],\n",
       "  [376, 342, 133, 132, 60, 19, 375],\n",
       "  [175, 25, 24, 172],\n",
       "  [207, 183, 181, 11, 195, 204],\n",
       "  [314, 312, 311, 313],\n",
       "  [179, 177, 176, 178],\n",
       "  [100, 97, 96, 98, 99],\n",
       "  [360, 228, 137, 59, 358],\n",
       "  [347, 130, 149, 148, 346],\n",
       "  [381, 252, 250, 163, 378],\n",
       "  [292, 203, 206, 208, 207, 204, 205, 291],\n",
       "  [234, 122, 127, 128, 119, 120, 121, 233],\n",
       "  [216, 119, 128, 123, 57, 213],\n",
       "  [367, 308, 309, 310, 307, 306, 363],\n",
       "  [268, 182, 181, 183, 267],\n",
       "  [241, 70, 237, 238, 231, 239],\n",
       "  [264, 5, 23, 78, 262],\n",
       "  [377, 343, 301, 300, 372],\n",
       "  [371, 331, 329, 330, 369],\n",
       "  [245, 106, 70, 241, 242, 243],\n",
       "  [56, 50, 52, 55],\n",
       "  [186, 10, 11, 181, 182, 184],\n",
       "  [366, 240, 154, 153, 156, 157, 365],\n",
       "  [377, 343, 342, 376],\n",
       "  [401, 1, 28, 33, 32, 260, 259, 265, 264, 5, 400],\n",
       "  [144, 142, 141, 143],\n",
       "  [373, 348, 222, 221, 300, 372],\n",
       "  [162, 20, 151, 160, 159, 22, 161],\n",
       "  [8, 40, 39, 111, 109, 3, 402, 403, 2],\n",
       "  [379, 357, 256, 166, 163, 378],\n",
       "  [319, 88, 190, 314, 313, 89, 318],\n",
       "  [318, 89, 280, 281, 194, 315],\n",
       "  [87, 83, 82, 84, 85, 86],\n",
       "  [190, 88, 83, 87, 188],\n",
       "  [202, 49, 45, 105, 107, 12, 201],\n",
       "  [284, 279, 281, 280, 282, 283],\n",
       "  [246, 108, 105, 107, 106, 245],\n",
       "  [136, 17, 27, 31, 30, 6, 134],\n",
       "  [405, 404, 46, 108, 246, 247, 155],\n",
       "  [271, 191, 93, 94, 95, 270],\n",
       "  [136, 17, 15, 13, 14, 16, 135],\n",
       "  [168, 73, 71, 72, 167],\n",
       "  [363, 306, 230, 229, 362],\n",
       "  [217, 64, 65, 214],\n",
       "  [139, 63, 131, 132, 60, 59, 137],\n",
       "  [202, 200, 199, 201],\n",
       "  [237, 70, 106, 107, 12, 235],\n",
       "  [189, 185, 187, 81, 80, 86, 87, 188],\n",
       "  [149, 147, 145, 146, 148],\n",
       "  [265, 259, 258, 180, 263],\n",
       "  [359, 255, 19, 60, 59, 358],\n",
       "  [27, 17, 15, 26],\n",
       "  [406, 0, 352, 354, 407],\n",
       "  [33, 28, 26, 27, 31],\n",
       "  [261, 79, 29, 32, 260],\n",
       "  [174, 175, 25, 85, 86, 80, 409, 408],\n",
       "  [316, 271, 191, 192, 193, 194, 315],\n",
       "  [338, 130, 149, 147, 337],\n",
       "  [365, 157, 158, 150, 69, 364],\n",
       "  [367, 308, 239, 241, 242, 240, 366],\n",
       "  [364, 69, 71, 73, 229, 362],\n",
       "  [265, 263, 262, 264],\n",
       "  [220, 210, 209, 218],\n",
       "  [236, 199, 200, 117, 116, 122, 234],\n",
       "  [290, 284, 283, 197, 198, 289],\n",
       "  [108, 46, 45, 105],\n",
       "  [356, 225, 223, 224, 303, 351],\n",
       "  [370, 327, 328, 326, 325, 368],\n",
       "  [340, 198, 289, 288, 221, 222, 339],\n",
       "  [383, 304, 305, 361, 380],\n",
       "  [334, 118, 322, 323, 205, 291, 332],\n",
       "  [117, 48, 3, 109, 110, 47, 116],\n",
       "  [80, 81, 327, 370, 371, 331, 411, 410],\n",
       "  [178, 92, 75, 74, 77, 176],\n",
       "  [171, 76, 90, 91, 75, 74, 170],\n",
       "  [341, 294, 295, 296, 299, 298, 297, 336],\n",
       "  [112, 110, 109, 111],\n",
       "  [295, 206, 208, 196, 294],\n",
       "  [160, 151, 150, 158],\n",
       "  [290, 284, 279, 286]],\n",
       " array([[  14.60933725, -111.36140014],\n",
       "        [ -15.96181655,   13.12689756],\n",
       "        [ 401.15261962,   28.06070857],\n",
       "        [  23.84161154,   13.23664057],\n",
       "        [  17.0230661 ,    5.14767383],\n",
       "        [   2.51888066,   17.87588936],\n",
       "        [  11.79497787,   14.3970965 ],\n",
       "        [  20.86783729,   17.67689274],\n",
       "        [  21.06929362,   15.95610503],\n",
       "        [  19.46850187,   19.37302159],\n",
       "        [  15.69681819,   19.07108037],\n",
       "        [  15.81529944,   18.64824135],\n",
       "        [  18.99493886,   12.03999909],\n",
       "        [  10.55225365,   12.08578152],\n",
       "        [  10.69478877,   12.03223644],\n",
       "        [  10.5249053 ,   12.95721242],\n",
       "        [  11.31834595,   12.57192306],\n",
       "        [  11.04654409,   13.62470588],\n",
       "        [  16.18913182,   14.57877556],\n",
       "        [  13.3679209 ,   13.23319003],\n",
       "        [  15.85419024,   11.65151352],\n",
       "        [  15.67737647,    9.24572151],\n",
       "        [  15.26289417,   10.83343174],\n",
       "        [   4.44229775,   17.92272265],\n",
       "        [  11.60469698,   19.08974775],\n",
       "        [  12.29777405,   19.55224692],\n",
       "        [  10.40786741,   13.23087288],\n",
       "        [  10.74466328,   13.76475169],\n",
       "        [   8.62691741,   14.47791544],\n",
       "        [  11.16432089,   15.06512969],\n",
       "        [  11.53267388,   14.50549406],\n",
       "        [  10.01096134,   14.45463699],\n",
       "        [   9.84244082,   14.85656573],\n",
       "        [   9.58175114,   14.63155608],\n",
       "        [  12.95187155,   15.16878713],\n",
       "        [  12.13200043,   15.07866067],\n",
       "        [  18.42277625,   17.26804365],\n",
       "        [  19.27946937,   16.96796675],\n",
       "        [  18.88901727,   16.03095287],\n",
       "        [  19.61241256,   14.97015252],\n",
       "        [  19.97682553,   15.73038079],\n",
       "        [  19.31082787,   16.88494447],\n",
       "        [  18.926422  ,   16.08872766],\n",
       "        [  19.60457033,   16.88439006],\n",
       "        [  19.8906846 ,   16.52820458],\n",
       "        [  19.68169787,   11.51978905],\n",
       "        [  19.65023904,   10.98974523],\n",
       "        [  19.04368164,   13.84649597],\n",
       "        [  20.67440306,   12.73777184],\n",
       "        [  20.09006981,   12.50861624],\n",
       "        [  17.60997571,   16.89017897],\n",
       "        [  18.35774963,   17.23526096],\n",
       "        [  18.35721747,   17.23335573],\n",
       "        [  18.85908886,   16.01917911],\n",
       "        [  18.81034748,   15.8429005 ],\n",
       "        [  18.47575876,   16.28624834],\n",
       "        [  17.96715423,   16.27780547],\n",
       "        [  17.57257285,   15.2365673 ],\n",
       "        [  12.99667039,   15.15903891],\n",
       "        [  13.05031214,   12.95990513],\n",
       "        [  13.05999644,   13.10148146],\n",
       "        [  11.69649253,   12.52199102],\n",
       "        [  11.98473538,   12.33554846],\n",
       "        [  12.28439786,   12.90243021],\n",
       "        [  16.96752486,   14.44385182],\n",
       "        [  16.26902032,   14.58907319],\n",
       "        [  16.97810728,   14.00137915],\n",
       "        [  15.59084526,   13.17218369],\n",
       "        [  15.89286784,   13.7271943 ],\n",
       "        [  16.44632663,   11.73279119],\n",
       "        [  18.5209355 ,   11.53336973],\n",
       "        [  16.39101755,   11.75320445],\n",
       "        [  15.9523641 ,   11.75872612],\n",
       "        [  15.85368463,   12.73506912],\n",
       "        [  10.90475623,   18.22446088],\n",
       "        [  11.20910411,   17.979826  ],\n",
       "        [  12.07279352,   18.26866734],\n",
       "        [  10.57713268,   17.57205224],\n",
       "        [  10.42967664,   17.50573303],\n",
       "        [  11.21168988,   15.60317085],\n",
       "        [  14.71666823,   24.75280241],\n",
       "        [  14.80802091,   23.85826917],\n",
       "        [  12.40654701,   18.56944796],\n",
       "        [  12.45526852,   18.55805995],\n",
       "        [  12.26704178,   18.8683905 ],\n",
       "        [  12.43328388,   19.513557  ],\n",
       "        [  12.75234485,   19.74420814],\n",
       "        [  13.05427984,   19.23400196],\n",
       "        [  12.65008841,   18.45054309],\n",
       "        [  13.10571079,   17.47622786],\n",
       "        [  11.98281123,   17.93583771],\n",
       "        [  11.81384679,   17.90715391],\n",
       "        [  11.39181075,   17.40479676],\n",
       "        [  11.9302863 ,   15.49004033],\n",
       "        [  11.33478353,   15.77176414],\n",
       "        [  11.18499927,   16.1883549 ],\n",
       "        [  18.69615844,   18.19453506],\n",
       "        [  18.83978126,   17.72542962],\n",
       "        [  19.35373575,   18.54346916],\n",
       "        [  19.81625392,   17.87605492],\n",
       "        [  19.31996551,   17.58288395],\n",
       "        [  19.15076002,   19.26728813],\n",
       "        [  19.09679092,   19.24695092],\n",
       "        [  18.44374005,   18.3213361 ],\n",
       "        [  18.46783581,   18.74119788],\n",
       "        [  19.24190952,   11.67336648],\n",
       "        [  18.91054454,   11.85919836],\n",
       "        [  18.97330822,   11.95699255],\n",
       "        [  19.50936405,   10.94606729],\n",
       "        [  20.16710777,   14.28417474],\n",
       "        [  19.06741335,   13.86640754],\n",
       "        [  19.59057918,   14.78398872],\n",
       "        [  19.26141434,   14.74500744],\n",
       "        [  19.23737407,   14.75360951],\n",
       "        [  18.7377152 ,   15.68306097],\n",
       "        [  18.5690681 ,   15.4913297 ],\n",
       "        [  19.03953911,   13.78472429],\n",
       "        [  19.0901398 ,   13.63912982],\n",
       "        [  17.3838807 ,   16.99283684],\n",
       "        [  17.77573597,   14.26557302],\n",
       "        [  17.60922363,   13.9220873 ],\n",
       "        [  17.61607504,   13.7597307 ],\n",
       "        [  18.19657976,   13.42036162],\n",
       "        [  18.1930098 ,   14.7740155 ],\n",
       "        [  18.5368825 ,   15.02225672],\n",
       "        [  18.74335247,   14.64444745],\n",
       "        [  18.56222377,   14.24562253],\n",
       "        [  18.25196208,   14.22425986],\n",
       "        [  18.16409696,   14.26737113],\n",
       "        [  17.23693601,   15.81522152],\n",
       "        [  14.95520959,   14.44701076],\n",
       "        [  12.3255754 ,   13.12895676],\n",
       "        [  12.71545141,   13.31567672],\n",
       "        [  12.6395254 ,   13.98470899],\n",
       "        [  11.83242211,   14.26284336],\n",
       "        [  11.51489226,   13.5514261 ],\n",
       "        [  11.51181549,   13.56292814],\n",
       "        [  12.96653895,   12.75794365],\n",
       "        [  12.4452822 ,   12.51067257],\n",
       "        [  12.46098388,   12.59702466],\n",
       "        [  17.05517144,   13.07106041],\n",
       "        [  17.07093296,   13.61260768],\n",
       "        [  16.98243665,   13.20861363],\n",
       "        [  16.96617844,   13.98049896],\n",
       "        [  16.17898263,   13.68618345],\n",
       "        [  15.86218635,   13.70585901],\n",
       "        [  15.70104887,   13.44802622],\n",
       "        [  15.59533417,   13.97700296],\n",
       "        [  14.88985844,   13.9597133 ],\n",
       "        [  15.13835958,   14.22953193],\n",
       "        [  16.41466845,   11.62575516],\n",
       "        [  16.04265656,   11.24105163],\n",
       "        [  17.05599078,    5.37589133],\n",
       "        [  17.33327871,    8.49986812],\n",
       "        [  17.87790922,    9.69580138],\n",
       "        [  19.39454743,   10.32960757],\n",
       "        [  16.95401841,    9.9424451 ],\n",
       "        [  16.90804874,   10.7739665 ],\n",
       "        [  16.49616531,   11.06705085],\n",
       "        [  15.84129936,   10.93723085],\n",
       "        [  16.02287138,   11.10099287],\n",
       "        [  15.18071476,   10.90504255],\n",
       "        [  15.6021307 ,   11.58842144],\n",
       "        [  14.82035775,   11.16676855],\n",
       "        [  15.58025404,   13.01877669],\n",
       "        [  15.35138919,   12.04984559],\n",
       "        [  15.23232593,   11.99324846],\n",
       "        [  15.67972141,   12.60950154],\n",
       "        [  15.71984422,   12.7838389 ],\n",
       "        [  10.62173427,   18.59130237],\n",
       "        [  10.88309295,   18.40071325],\n",
       "        [  11.23723865,   18.58937745],\n",
       "        [  11.55240839,   19.10427205],\n",
       "        [  10.60833878,   19.29715707],\n",
       "        [  11.1106195 ,   20.18810279],\n",
       "        [  11.33317317,   19.88997516],\n",
       "        [  10.81012115,   17.38992859],\n",
       "        [  10.92384417,   16.7983667 ],\n",
       "        [  11.39241154,   17.30578214],\n",
       "        [  11.43337399,   17.24998669],\n",
       "        [  10.81834602,   16.46606327],\n",
       "        [  14.9767328 ,   18.10261268],\n",
       "        [  14.84471385,   18.39903951],\n",
       "        [  14.96191428,   17.79758888],\n",
       "        [  14.7604095 ,   18.64563611],\n",
       "        [  14.09821775,   19.14911605],\n",
       "        [  15.56642326,   19.21808541],\n",
       "        [  14.78823515,   22.75034956],\n",
       "        [  13.6799647 ,   18.88083078],\n",
       "        [  13.8043256 ,   18.88648959],\n",
       "        [  12.93878197,   18.44279605],\n",
       "        [  12.42908231,   16.26639924],\n",
       "        [  12.49441426,   16.25632058],\n",
       "        [  12.51090332,   16.2602971 ],\n",
       "        [  12.88754676,   16.75996322],\n",
       "        [  16.2931    ,   18.24720552],\n",
       "        [  14.31876937,   16.72600426],\n",
       "        [  14.22664762,   16.70637524],\n",
       "        [  14.45449512,   15.82902252],\n",
       "        [  18.69803716,   12.96385657],\n",
       "        [  18.92139202,   13.11248648],\n",
       "        [  19.42928427,   12.28877893],\n",
       "        [  19.95967992,   12.49349055],\n",
       "        [  15.7233683 ,   17.09259849],\n",
       "        [  16.33137557,   18.12303283],\n",
       "        [  16.61930901,   17.89687034],\n",
       "        [  15.30280185,   17.29186403],\n",
       "        [  15.20761369,   17.45516363],\n",
       "        [  15.21128242,   17.42085653],\n",
       "        [  16.37725503,   16.75883068],\n",
       "        [  16.79919403,   16.14882318],\n",
       "        [  17.04623869,   16.08435327],\n",
       "        [  17.22415927,   15.57454248],\n",
       "        [  17.46441424,   15.23917036],\n",
       "        [  16.64066563,   14.97268148],\n",
       "        [  17.06625042,   15.51452862],\n",
       "        [  17.38477867,   14.72390839],\n",
       "        [  17.24844189,   14.63786076],\n",
       "        [  15.9983724 ,   16.26989395],\n",
       "        [  15.92476339,   16.30484402],\n",
       "        [  16.11108444,   16.08968812],\n",
       "        [  14.02688797,   15.12857933],\n",
       "        [  14.39385261,   14.99093328],\n",
       "        [  12.26027246,   11.7961603 ],\n",
       "        [  12.32710866,   11.75416939],\n",
       "        [  10.82896956,   11.79218541],\n",
       "        [  12.65955156,   12.09318504],\n",
       "        [  12.55734162,   11.81107128],\n",
       "        [  13.01015269,   12.34309293],\n",
       "        [  16.4475176 ,   12.62781827],\n",
       "        [  16.85742507,   12.87413707],\n",
       "        [  18.18730362,   11.60823997],\n",
       "        [  17.68538333,   12.94665881],\n",
       "        [  17.91426903,   12.99973751],\n",
       "        [  17.9180886 ,   12.9988781 ],\n",
       "        [  18.20840959,   12.65879361],\n",
       "        [  18.17693678,   12.76505056],\n",
       "        [  18.11914888,   12.39970353],\n",
       "        [  17.94435405,   12.07100309],\n",
       "        [  18.26213061,   11.49475544],\n",
       "        [  17.81094311,   11.07440686],\n",
       "        [  18.40280486,   11.38989711],\n",
       "        [  18.40278309,   11.3891463 ],\n",
       "        [  18.64840814,   10.86998691],\n",
       "        [  18.16643264,   10.07433444],\n",
       "        [  19.24077671,   10.90554001],\n",
       "        [  19.37325852,   10.87535013],\n",
       "        [  19.3665576 ,   10.44835468],\n",
       "        [  14.70013265,   10.2068675 ],\n",
       "        [  15.07403778,   10.94226406],\n",
       "        [  14.97522323,   10.99009266],\n",
       "        [  14.14760609,   10.0797563 ],\n",
       "        [  14.16991941,   10.27310391],\n",
       "        [  14.2734418 ,   13.07089504],\n",
       "        [  14.70630499,   12.70110191],\n",
       "        [  13.83010352,   12.79724135],\n",
       "        [  14.48761157,   12.2019378 ],\n",
       "        [  10.95608126,   16.2906861 ],\n",
       "        [  10.91788729,   16.31668053],\n",
       "        [  10.28544515,   15.94004683],\n",
       "        [   9.94647966,   14.97911238],\n",
       "        [  10.31749747,   15.22811122],\n",
       "        [  10.4634845 ,   16.66264846],\n",
       "        [  10.66945085,   16.54161067],\n",
       "        [   9.46948576,   16.62015092],\n",
       "        [  10.10285577,   16.13686623],\n",
       "        [  13.91594173,   17.44944568],\n",
       "        [  14.44967549,   17.77001086],\n",
       "        [  14.06717872,   18.21801025],\n",
       "        [  13.83505719,   18.41158169],\n",
       "        [  11.90607028,   16.74701289],\n",
       "        [  12.03353933,   16.71109588],\n",
       "        [  11.75874487,   17.05957835],\n",
       "        [  12.07426981,   17.72849861],\n",
       "        [  18.15115776,   18.22958798],\n",
       "        [  17.51225708,   18.51627377],\n",
       "        [  17.48789404,   18.70502144],\n",
       "        [  18.11844929,   19.34295034],\n",
       "        [  18.07372921,   19.13396328],\n",
       "        [  13.32330823,   16.61456247],\n",
       "        [  13.27463948,   16.91501827],\n",
       "        [  13.24674448,   16.79459815],\n",
       "        [  13.98012818,   17.08394246],\n",
       "        [  14.19952466,   16.71289323],\n",
       "        [  13.96021532,   16.5408277 ],\n",
       "        [  12.72641413,   16.23425047],\n",
       "        [  13.23760992,   16.39258428],\n",
       "        [  13.46846459,   15.58074234],\n",
       "        [  13.59444997,   15.64205709],\n",
       "        [  13.61598814,   15.6780483 ],\n",
       "        [  13.61644273,   15.74926926],\n",
       "        [  16.60592233,   17.81808751],\n",
       "        [  16.05550623,   17.0948725 ],\n",
       "        [  16.38767306,   16.81457339],\n",
       "        [  15.15842736,   16.19475921],\n",
       "        [  15.2330667 ,   16.25221008],\n",
       "        [  15.23795132,   16.25168548],\n",
       "        [  15.81618899,   15.16596144],\n",
       "        [  16.00697064,   15.43921978],\n",
       "        [  16.00702503,   15.49461941],\n",
       "        [  13.59208428,   14.58603673],\n",
       "        [  13.18268485,   14.69036512],\n",
       "        [  12.46780965,   10.88216732],\n",
       "        [  12.29146537,   11.65960563],\n",
       "        [  13.05573597,   11.10448381],\n",
       "        [  12.78098518,   11.65940958],\n",
       "        [  17.1295537 ,   12.20277512],\n",
       "        [  17.27941332,   12.22715704],\n",
       "        [  17.471625  ,   11.53917799],\n",
       "        [  17.55265701,   11.7685704 ],\n",
       "        [  17.58002309,   11.87239597],\n",
       "        [  13.70852832,   17.57623186],\n",
       "        [  13.78122637,   18.30232547],\n",
       "        [  13.23476898,   17.56125409],\n",
       "        [  13.22404523,   18.03364448],\n",
       "        [  12.71174147,   17.04607849],\n",
       "        [  12.21418228,   16.86641034],\n",
       "        [  12.48944154,   17.56853392],\n",
       "        [  12.95433806,   17.47818318],\n",
       "        [  12.74570059,   17.59531501],\n",
       "        [  18.0301641 ,   17.56884116],\n",
       "        [  18.03527202,   17.72385462],\n",
       "        [  17.43766184,   17.46098272],\n",
       "        [  17.0571498 ,   17.94471818],\n",
       "        [  17.22497185,   18.12287453],\n",
       "        [  17.40982792,   18.79173804],\n",
       "        [  16.72289022,   19.01780242],\n",
       "        [  16.67564975,   19.60170399],\n",
       "        [  16.62742401,   19.25473974],\n",
       "        [  18.12250795,   19.69402385],\n",
       "        [  18.08706633,   19.46365211],\n",
       "        [  18.31325464,   21.71606409],\n",
       "        [  16.68635176,   17.43666709],\n",
       "        [  16.68152987,   16.94351756],\n",
       "        [  17.36682411,   16.98265905],\n",
       "        [  17.09749951,   16.75050978],\n",
       "        [  15.56271794,   15.16486385],\n",
       "        [  15.23250112,   14.88784856],\n",
       "        [  15.0826544 ,   14.82796895],\n",
       "        [  14.48505521,   15.03920945],\n",
       "        [  14.67148628,   15.71962853],\n",
       "        [  14.98492199,   15.8145956 ],\n",
       "        [  12.75990124,   14.04666139],\n",
       "        [  13.17650647,   14.67629463],\n",
       "        [  14.20727969,   13.62012886],\n",
       "        [  14.44826918,   13.65843147],\n",
       "        [  14.75352976,   13.9799204 ],\n",
       "        [  14.73354796,   14.31673078],\n",
       "        [  14.27341553,   14.45145146],\n",
       "        [  12.1186248 ,   10.52219454],\n",
       "        [  12.73826664,    8.54927665],\n",
       "        [  11.60790488,   10.90659925],\n",
       "        [  12.79482511,    3.10265822],\n",
       "        [  12.92263491,    6.12494639],\n",
       "        [  10.96564122,   10.63488856],\n",
       "        [  11.00045331,   11.01019856],\n",
       "        [  11.02920796,   11.05926283],\n",
       "        [  14.38754676,   12.10169479],\n",
       "        [  13.6798055 ,   12.37268419],\n",
       "        [  13.75898221,   12.40584993],\n",
       "        [  13.45079492,   12.16534524],\n",
       "        [  13.43129042,   11.93242671],\n",
       "        [  16.75288626,   12.04616448],\n",
       "        [  16.91686856,   12.0895458 ],\n",
       "        [  16.63982935,   11.80302885],\n",
       "        [  17.12890666,   11.26097545],\n",
       "        [  17.39321119,   11.39721797],\n",
       "        [  17.45441208,   11.51685348],\n",
       "        [  17.40800574,   19.33618763],\n",
       "        [  17.59194566,   19.45330939],\n",
       "        [  17.18699046,   19.56759528],\n",
       "        [  17.54822426,   20.0202074 ],\n",
       "        [  13.67526017,   14.5127287 ],\n",
       "        [  14.14571491,   14.33705194],\n",
       "        [  14.12199221,   13.68265445],\n",
       "        [  13.62593625,   13.63119402],\n",
       "        [  13.53027288,   13.74968139],\n",
       "        [  13.52839504,   13.79766291],\n",
       "        [  14.35098944,   11.45102534],\n",
       "        [  14.34333063,   11.48295998],\n",
       "        [  13.46630253,   11.87160087],\n",
       "        [  13.72207383,   10.98548764],\n",
       "        [  13.36646216,   10.96503614],\n",
       "        [  13.36588715,   10.96557108],\n",
       "        [ -35.94567197,   12.82482435],\n",
       "        [  -7.57104868,    3.62473719],\n",
       "        [  -9.26442038,   21.42299074],\n",
       "        [   7.87728481,   39.91096446],\n",
       "        [ -17.44670333,   18.78208008],\n",
       "        [  -9.26442038,   21.42299074],\n",
       "        [  31.48595542,   35.34257187],\n",
       "        [  22.74631574,   41.20436045],\n",
       "        [  31.48595542,   35.34257187],\n",
       "        [ 421.13004884,   28.65066399],\n",
       "        [  14.5256853 , -131.34736341],\n",
       "        [  37.49906437,    1.86366451],\n",
       "        [  43.82644412,   13.00818392],\n",
       "        [  39.29190112,    7.2950414 ],\n",
       "        [  -3.10686206,   -3.55702383],\n",
       "        [  -7.57104868,    3.62473719],\n",
       "        [ -17.44670333,   18.78208008],\n",
       "        [ -35.94567197,   12.82482435],\n",
       "        [  43.82644412,   13.00818392],\n",
       "        [ 421.13004884,   28.65066399],\n",
       "        [  39.29190112,    7.2950414 ],\n",
       "        [  37.49906437,    1.86366451],\n",
       "        [  14.5256853 , -131.34736341],\n",
       "        [  -3.10686206,   -3.55702383],\n",
       "        [   7.87728481,   39.91096446],\n",
       "        [  14.94028765,   44.7376897 ],\n",
       "        [  14.94028765,   44.7376897 ],\n",
       "        [  22.74631574,   41.20436045]]))"
      ]
     },
     "execution_count": 54,
     "metadata": {},
     "output_type": "execute_result"
    }
   ],
   "source": [
    "results"
   ]
  },
  {
   "cell_type": "code",
   "execution_count": null,
   "id": "2f1f53b8-2c2b-42b5-ae67-3dee08bedc39",
   "metadata": {},
   "outputs": [],
   "source": []
  },
  {
   "cell_type": "code",
   "execution_count": 13,
   "id": "fa0641e4-d7cb-40e0-acc7-92a193364d12",
   "metadata": {},
   "outputs": [],
   "source": [
    "def calculate_inflection(df):\n",
    "\n",
    "    # smooth data using a Gausian filter\n",
    "    # smoothed_area = gaussian_filter1d(fdf.area, 100)\n",
    "\n",
    "    # calucate the second derivative\n",
    "    second_deriv = np.gradient(np.gradient(df.area))\n",
    "\n",
    "    # get the index locations in the second derivative plot representing the sign change (a.k.a., inflection points) \n",
    "    inflection_indices = np.where(np.diff(np.sign(second_deriv)))[0]\n",
    "\n",
    "    # drop the first value in the series if it shows up as an inflection point\n",
    "    inflection_indices = inflection_indices[inflection_indices > 0]\n",
    "\n",
    "    # bankfull elevation is determined by the first inflection point\n",
    "    bankfull_elevation = df['elevation'].values[inflection_indices[0]]\n",
    "    \n",
    "    bankfull_area = df['area'].values[inflection_indices[0]]\n",
    "    \n",
    "    return bankfull_elevation, bankfull_area\n",
    "\n",
    "\n",
    "def process_gage_data(gage_data_file):\n",
    "\n",
    "    df = pd.read_csv(gage_data_file)\n",
    "    \n",
    "    print(f\"Total Time Steps:  {df.shape[0]}\")\n",
    "\n",
    "    # convert date and time strings to a pandas datetime type\n",
    "    df['date_time'] = pd.to_datetime(df['DATE'] + ' ' + df['TIME'], infer_datetime_format=True)\n",
    "    \n",
    "    # calculate the number of days in the file\n",
    "    n_days = (df['date_time'].max() - df['date_time'].min()).days\n",
    "\n",
    "    print(f\"Days Verification:  {n_days}\")\n",
    "    \n",
    "    # sort df by date_time\n",
    "    df.sort_values(by=['date_time'], inplace=True)\n",
    "\n",
    "    min_wtr_elev = df['WL_ELEV_M'].min()\n",
    "    max_wtr_elev = df['WL_ELEV_M'].max()\n",
    "    wtr_elev_list = df['WL_ELEV_M'].tolist()\n",
    "    day_part, hour_interval = 1, 1\n",
    "    d_freq = df['WL_ELEV_M'].value_counts().to_dict()\n",
    "    \n",
    "    return min_wtr_elev, max_wtr_elev, d_freq\n",
    "\n",
    "\n",
    "\n",
    "def create_basin_dem(basin_shp, dem_file, output_directory, run_name):\n",
    "    \"\"\"Mask the input DEM using a basin geometry representative of the contributing area.\n",
    "    \n",
    "    \n",
    "    \"\"\"\n",
    "\n",
    "    # dissolve target basin geometries\n",
    "    basin_geom = gpd.read_file(basin_shp).dissolve().geometry.values[0]\n",
    "    \n",
    "    with rasterio.open(dem_file) as src:\n",
    "        \n",
    "        if src.crs is None:\n",
    "            print(\"Warning:  Input DEM raster does not have a defined coordinate reference system.\")\n",
    "        \n",
    "        # apply basin geometry as a mask\n",
    "        out_image, out_transform = rasterio.mask.mask(src, basin_geom, crop=True)\n",
    "        \n",
    "        # update the raster metadata with newly cropped extent\n",
    "        out_meta = src.meta\n",
    "        out_meta.update({\"driver\": \"GTiff\",\n",
    "                         \"height\": out_image.shape[1],\n",
    "                         \"width\": out_image.shape[2],\n",
    "                         \"transform\": out_transform})\n",
    "\n",
    "        # write outputs\n",
    "        output_file = os.path.join(output_directory, f\"dem_masked_{run_name}.tif\")\n",
    "        with rasterio.open(output_file, \"w\", **out_meta) as dest:\n",
    "            dest.write(out_image)\n",
    "            \n",
    "        return output_file\n",
    "\n",
    "\n",
    "def process_slice(arr, upper_elev, output_directory, gage_gdf, water_elev_freq, run_name, hour_interval, transform, target_crs):\n",
    "    \"\"\"Create a water level polygon shapefile containing a single feature that represents\n",
    "    the grid cells of an input DEM that are less than or equal to an upper elevation level.\n",
    "    \n",
    "    \"\"\"\n",
    "    # TODO:  fix target_crs reference from raster\n",
    "    \n",
    "    # generate a feature id from the elevation value\n",
    "    feature_id = int(upper_elev * 100)\n",
    "\n",
    "    # create every value greater than or equal to the upper elevation to 1, others to 0\n",
    "    arx = np.where(arr <= upper_elev, 1, 0).astype(np.int16)\n",
    "\n",
    "    # build each feature based on the extracted grid cells from the array\n",
    "    results = list(\n",
    "        {'properties': {'raster_val': val}, 'geometry': shp}\n",
    "        for index, (shp, val)  in enumerate(\n",
    "            shapes(arx, mask=None, transform=transform))\n",
    "    )\n",
    "\n",
    "    # list of geometries\n",
    "    geoms = list(results)\n",
    "\n",
    "    # build geopandas dataframe from geometries\n",
    "    gdf = gpd.GeoDataFrame.from_features(geoms, crs=gage_gdf.crs)\n",
    "\n",
    "    # only keep the ones\n",
    "    gdf = gdf.loc[gdf['raster_val'] == 1]\n",
    "    \n",
    "    # only keep the polygon intersecting the gage\n",
    "    gdf['valid'] = gdf.intersects(gage_gdf.geometry.values[0])\n",
    "    gdf = gdf.loc[gdf['valid']].copy()\n",
    "    \n",
    "    # ensure at least one polygon intersects the gage\n",
    "    if gdf.shape[0] == 0:\n",
    "        msg = \"Gage location point not aligned with valid elevation in DEM.  Relocate gage location point to fall within valid elevation.\"\n",
    "        raise AssertionError(msg)\n",
    "\n",
    "    # dissolve into a single polygon\n",
    "    gdf = gdf.dissolve('raster_val')\n",
    "    gdf.reset_index(inplace=True)\n",
    "    \n",
    "    # add fields \n",
    "    gdf['id'] = feature_id\n",
    "    gdf['frequency'] = water_elev_freq[round(upper_elev, 1)]\n",
    "    gdf['elevation'] = upper_elev\n",
    "    gdf['area'] = gdf.geometry.area\n",
    "    gdf['hectares'] = gdf['area'] * 0.0001\n",
    "    gdf['perimeter'] = gdf.geometry.length\n",
    "    gdf['hectare_hours'] = (gdf['frequency'] / hour_interval) * gdf['hectares']\n",
    "    \n",
    "    # drop unneeded fields\n",
    "    gdf.drop(columns=['raster_val', 'valid'], inplace=True)\n",
    "\n",
    "    # write to file\n",
    "    out_file = os.path.join(output_directory, f'wl_{feature_id}_{run_name}.shp')\n",
    "    gdf.to_file(out_file)\n",
    "    \n",
    "    return gdf\n",
    "\n",
    "\n",
    "def simulate_inundation(dem_file, \n",
    "                            basin_shp,\n",
    "                            gage_shp,\n",
    "                            gage_data_file, \n",
    "                            output_directory, \n",
    "                            run_name, \n",
    "                            elevation_interval=0.1,\n",
    "                            hour_interval=1.0):\n",
    "\n",
    "    # process gage data file\n",
    "    min_gage_elev, max_gage_elev, water_elev_freq = process_gage_data(gage_data_file)\n",
    "    \n",
    "    # read in gage shapefile to a geodataframe\n",
    "    gage_gdf = gpd.read_file(gage_shp)\n",
    "    \n",
    "    with rasterio.Env():\n",
    "        \n",
    "        # clip the input DEM to a target basin contributing area\n",
    "        masked_dem_file = create_basin_dem(basin_shp, dem_file, output_directory, run_name)\n",
    "\n",
    "        with rasterio.open(masked_dem_file) as src:\n",
    "\n",
    "            # read the raster band into a number array\n",
    "            arr = src.read(1)\n",
    "\n",
    "            # convert the raster nodata value to numpy nan\n",
    "            arr[arr == src.nodata] = np.nan\n",
    "\n",
    "            raster_min = np.nanmin(arr)\n",
    "            raster_max = np.nanmax(arr)\n",
    "          \n",
    "            # use the minimum bounding elevation e.g., the max of min available\n",
    "            elev_min = max([min_gage_elev, raster_min])\n",
    "            \n",
    "            # use the maximum bounding elevation e.g., the min of max available\n",
    "            elev_max = min([max_gage_elev, raster_max])\n",
    "            \n",
    "            # construct elevation upper bounds to process for each slice\n",
    "            elev_slices = np.arange(elev_min, elev_max + elevation_interval, elevation_interval)\n",
    "                       \n",
    "            print(f\"Minimum DEM Elevation:  {round(raster_min, 2)}\")\n",
    "            print(f\"Maximum DEM Elevation:  {round(raster_max, 2)}\")\n",
    "            print(f\"Minimum Water-Surface Elevation:  {round(min_gage_elev, 2)}\")\n",
    "            print(f\"Maximum Water-Surface Elevation:  {round(max_gage_elev, 2)}\")\n",
    "            print(f\"Bounded DEM Elevation:  {round(min(elev_slices), 2)}\")\n",
    "            print(f\"Bounded DEM Elevation:  {round(max(elev_slices), 2)}\")\n",
    "            \n",
    "#             feature_list = []\n",
    "#             for upper_elev in elev_slices:\n",
    "#                 print(f\"Processing:  {upper_elev}\")\n",
    "#                 s = process_slice(arr, upper_elev, output_directory, gage_gdf, run_name, src.transform, src.crs)\n",
    "#                 feature_list.append(s)\n",
    "\n",
    "            # process all elevation slices in parallel\n",
    "            feature_list = Parallel(n_jobs=-1)(\n",
    "                delayed(process_slice)(arr, \n",
    "                                       upper_elev, \n",
    "                                       output_directory, \n",
    "                                       gage_gdf, \n",
    "                                       water_elev_freq, \n",
    "                                       run_name, \n",
    "                                       hour_interval, \n",
    "                                       src.transform, \n",
    "                                       src.crs) \n",
    "                for upper_elev in elev_slices)\n",
    "        \n",
    "            return feature_list\n"
   ]
  },
  {
   "cell_type": "code",
   "execution_count": 7,
   "id": "7980a37b-8640-40b2-8a63-faaa877d44ec",
   "metadata": {},
   "outputs": [
    {
     "name": "stdout",
     "output_type": "stream",
     "text": [
      "Total Time Steps:  3568\n",
      "Days Verification:  148\n",
      "Warning:  Input DEM raster does not have a defined coordinate reference system.\n",
      "Minimum DEM Elevation:  0.6800000071525574\n",
      "Maximum DEM Elevation:  19.889999389648438\n",
      "Minimum Water-Surface Elevation:  1.0\n",
      "Maximum Water-Surface Elevation:  3.6\n",
      "Bounded DEM Elevation:  1.0\n",
      "Bounded DEM Elevation:  3.6\n"
     ]
    },
    {
     "name": "stderr",
     "output_type": "stream",
     "text": [
      "/Users/d3y010/.pyenv/versions/3.9.4/envs/py3.9.4_atiim/lib/python3.9/site-packages/rasterio/features.py:441: ShapelyDeprecationWarning: Iteration over multi-part geometries is deprecated and will be removed in Shapely 2.0. Use the `geoms` property to access the constituent parts of a multi-part geometry.\n",
      "  all_bounds = [bounds(shape, transform=~dataset.transform) for shape in shapes]\n",
      "/Users/d3y010/.pyenv/versions/3.9.4/envs/py3.9.4_atiim/lib/python3.9/site-packages/rasterio/features.py:284: ShapelyDeprecationWarning: Iteration over multi-part geometries is deprecated and will be removed in Shapely 2.0. Use the `geoms` property to access the constituent parts of a multi-part geometry.\n",
      "  for index, item in enumerate(shapes):\n",
      "/var/folders/1q/kbqf0s_90m907n320mhb_gq46y9fxr/T/ipykernel_18003/50875027.py:138: UserWarning: Column names longer than 10 characters will be truncated when saved to ESRI Shapefile.\n",
      "/var/folders/1q/kbqf0s_90m907n320mhb_gq46y9fxr/T/ipykernel_18003/50875027.py:138: UserWarning: Column names longer than 10 characters will be truncated when saved to ESRI Shapefile.\n",
      "/var/folders/1q/kbqf0s_90m907n320mhb_gq46y9fxr/T/ipykernel_18003/50875027.py:138: UserWarning: Column names longer than 10 characters will be truncated when saved to ESRI Shapefile.\n",
      "/var/folders/1q/kbqf0s_90m907n320mhb_gq46y9fxr/T/ipykernel_18003/50875027.py:138: UserWarning: Column names longer than 10 characters will be truncated when saved to ESRI Shapefile.\n",
      "/var/folders/1q/kbqf0s_90m907n320mhb_gq46y9fxr/T/ipykernel_18003/50875027.py:138: UserWarning: Column names longer than 10 characters will be truncated when saved to ESRI Shapefile.\n",
      "/var/folders/1q/kbqf0s_90m907n320mhb_gq46y9fxr/T/ipykernel_18003/50875027.py:138: UserWarning: Column names longer than 10 characters will be truncated when saved to ESRI Shapefile.\n",
      "/var/folders/1q/kbqf0s_90m907n320mhb_gq46y9fxr/T/ipykernel_18003/50875027.py:138: UserWarning: Column names longer than 10 characters will be truncated when saved to ESRI Shapefile.\n",
      "/var/folders/1q/kbqf0s_90m907n320mhb_gq46y9fxr/T/ipykernel_18003/50875027.py:138: UserWarning: Column names longer than 10 characters will be truncated when saved to ESRI Shapefile.\n",
      "/var/folders/1q/kbqf0s_90m907n320mhb_gq46y9fxr/T/ipykernel_18003/50875027.py:138: UserWarning: Column names longer than 10 characters will be truncated when saved to ESRI Shapefile.\n",
      "/var/folders/1q/kbqf0s_90m907n320mhb_gq46y9fxr/T/ipykernel_18003/50875027.py:138: UserWarning: Column names longer than 10 characters will be truncated when saved to ESRI Shapefile.\n",
      "/var/folders/1q/kbqf0s_90m907n320mhb_gq46y9fxr/T/ipykernel_18003/50875027.py:138: UserWarning: Column names longer than 10 characters will be truncated when saved to ESRI Shapefile.\n",
      "/var/folders/1q/kbqf0s_90m907n320mhb_gq46y9fxr/T/ipykernel_18003/50875027.py:138: UserWarning: Column names longer than 10 characters will be truncated when saved to ESRI Shapefile.\n",
      "/var/folders/1q/kbqf0s_90m907n320mhb_gq46y9fxr/T/ipykernel_18003/50875027.py:138: UserWarning: Column names longer than 10 characters will be truncated when saved to ESRI Shapefile.\n",
      "/var/folders/1q/kbqf0s_90m907n320mhb_gq46y9fxr/T/ipykernel_18003/50875027.py:138: UserWarning: Column names longer than 10 characters will be truncated when saved to ESRI Shapefile.\n",
      "/var/folders/1q/kbqf0s_90m907n320mhb_gq46y9fxr/T/ipykernel_18003/50875027.py:138: UserWarning: Column names longer than 10 characters will be truncated when saved to ESRI Shapefile.\n",
      "/var/folders/1q/kbqf0s_90m907n320mhb_gq46y9fxr/T/ipykernel_18003/50875027.py:138: UserWarning: Column names longer than 10 characters will be truncated when saved to ESRI Shapefile.\n",
      "/var/folders/1q/kbqf0s_90m907n320mhb_gq46y9fxr/T/ipykernel_18003/50875027.py:138: UserWarning: Column names longer than 10 characters will be truncated when saved to ESRI Shapefile.\n",
      "/var/folders/1q/kbqf0s_90m907n320mhb_gq46y9fxr/T/ipykernel_18003/50875027.py:138: UserWarning: Column names longer than 10 characters will be truncated when saved to ESRI Shapefile.\n",
      "/var/folders/1q/kbqf0s_90m907n320mhb_gq46y9fxr/T/ipykernel_18003/50875027.py:138: UserWarning: Column names longer than 10 characters will be truncated when saved to ESRI Shapefile.\n",
      "/var/folders/1q/kbqf0s_90m907n320mhb_gq46y9fxr/T/ipykernel_18003/50875027.py:138: UserWarning: Column names longer than 10 characters will be truncated when saved to ESRI Shapefile.\n",
      "/var/folders/1q/kbqf0s_90m907n320mhb_gq46y9fxr/T/ipykernel_18003/50875027.py:138: UserWarning: Column names longer than 10 characters will be truncated when saved to ESRI Shapefile.\n",
      "/var/folders/1q/kbqf0s_90m907n320mhb_gq46y9fxr/T/ipykernel_18003/50875027.py:138: UserWarning: Column names longer than 10 characters will be truncated when saved to ESRI Shapefile.\n",
      "/var/folders/1q/kbqf0s_90m907n320mhb_gq46y9fxr/T/ipykernel_18003/50875027.py:138: UserWarning: Column names longer than 10 characters will be truncated when saved to ESRI Shapefile.\n",
      "/var/folders/1q/kbqf0s_90m907n320mhb_gq46y9fxr/T/ipykernel_18003/50875027.py:138: UserWarning: Column names longer than 10 characters will be truncated when saved to ESRI Shapefile.\n",
      "/var/folders/1q/kbqf0s_90m907n320mhb_gq46y9fxr/T/ipykernel_18003/50875027.py:138: UserWarning: Column names longer than 10 characters will be truncated when saved to ESRI Shapefile.\n",
      "/var/folders/1q/kbqf0s_90m907n320mhb_gq46y9fxr/T/ipykernel_18003/50875027.py:138: UserWarning: Column names longer than 10 characters will be truncated when saved to ESRI Shapefile.\n",
      "/var/folders/1q/kbqf0s_90m907n320mhb_gq46y9fxr/T/ipykernel_18003/50875027.py:138: UserWarning: Column names longer than 10 characters will be truncated when saved to ESRI Shapefile.\n"
     ]
    },
    {
     "name": "stdout",
     "output_type": "stream",
     "text": [
      "CPU times: user 593 ms, sys: 119 ms, total: 712 ms\n",
      "Wall time: 2.3 s\n"
     ]
    },
    {
     "data": {
      "text/html": [
       "<div>\n",
       "<style scoped>\n",
       "    .dataframe tbody tr th:only-of-type {\n",
       "        vertical-align: middle;\n",
       "    }\n",
       "\n",
       "    .dataframe tbody tr th {\n",
       "        vertical-align: top;\n",
       "    }\n",
       "\n",
       "    .dataframe thead th {\n",
       "        text-align: right;\n",
       "    }\n",
       "</style>\n",
       "<table border=\"1\" class=\"dataframe\">\n",
       "  <thead>\n",
       "    <tr style=\"text-align: right;\">\n",
       "      <th></th>\n",
       "      <th>geometry</th>\n",
       "      <th>id</th>\n",
       "      <th>frequency</th>\n",
       "      <th>elevation</th>\n",
       "      <th>area</th>\n",
       "      <th>hectares</th>\n",
       "      <th>perimeter</th>\n",
       "      <th>hectare_hours</th>\n",
       "    </tr>\n",
       "  </thead>\n",
       "  <tbody>\n",
       "    <tr>\n",
       "      <th>0</th>\n",
       "      <td>POLYGON ((446947.500 5128512.631, 446952.000 5...</td>\n",
       "      <td>100</td>\n",
       "      <td>2</td>\n",
       "      <td>1.0</td>\n",
       "      <td>1785.3750</td>\n",
       "      <td>0.178538</td>\n",
       "      <td>631.5</td>\n",
       "      <td>0.357075</td>\n",
       "    </tr>\n",
       "    <tr>\n",
       "      <th>0</th>\n",
       "      <td>POLYGON ((446949.000 5128514.131, 446956.500 5...</td>\n",
       "      <td>110</td>\n",
       "      <td>523</td>\n",
       "      <td>1.1</td>\n",
       "      <td>2291.0625</td>\n",
       "      <td>0.229106</td>\n",
       "      <td>642.0</td>\n",
       "      <td>119.822569</td>\n",
       "    </tr>\n",
       "    <tr>\n",
       "      <th>0</th>\n",
       "      <td>POLYGON ((446955.750 5128516.381, 446958.750 5...</td>\n",
       "      <td>120</td>\n",
       "      <td>462</td>\n",
       "      <td>1.2</td>\n",
       "      <td>2656.6875</td>\n",
       "      <td>0.265669</td>\n",
       "      <td>657.0</td>\n",
       "      <td>122.738962</td>\n",
       "    </tr>\n",
       "    <tr>\n",
       "      <th>0</th>\n",
       "      <td>POLYGON ((447280.500 5128854.631, 447282.750 5...</td>\n",
       "      <td>130</td>\n",
       "      <td>231</td>\n",
       "      <td>1.3</td>\n",
       "      <td>5967.0000</td>\n",
       "      <td>0.596700</td>\n",
       "      <td>2023.5</td>\n",
       "      <td>137.837700</td>\n",
       "    </tr>\n",
       "    <tr>\n",
       "      <th>0</th>\n",
       "      <td>POLYGON ((447281.250 5128857.631, 447283.500 5...</td>\n",
       "      <td>140</td>\n",
       "      <td>177</td>\n",
       "      <td>1.4</td>\n",
       "      <td>7023.3750</td>\n",
       "      <td>0.702338</td>\n",
       "      <td>2086.5</td>\n",
       "      <td>124.313738</td>\n",
       "    </tr>\n",
       "  </tbody>\n",
       "</table>\n",
       "</div>"
      ],
      "text/plain": [
       "                                            geometry   id  frequency  \\\n",
       "0  POLYGON ((446947.500 5128512.631, 446952.000 5...  100          2   \n",
       "0  POLYGON ((446949.000 5128514.131, 446956.500 5...  110        523   \n",
       "0  POLYGON ((446955.750 5128516.381, 446958.750 5...  120        462   \n",
       "0  POLYGON ((447280.500 5128854.631, 447282.750 5...  130        231   \n",
       "0  POLYGON ((447281.250 5128857.631, 447283.500 5...  140        177   \n",
       "\n",
       "   elevation       area  hectares  perimeter  hectare_hours  \n",
       "0        1.0  1785.3750  0.178538      631.5       0.357075  \n",
       "0        1.1  2291.0625  0.229106      642.0     119.822569  \n",
       "0        1.2  2656.6875  0.265669      657.0     122.738962  \n",
       "0        1.3  5967.0000  0.596700     2023.5     137.837700  \n",
       "0        1.4  7023.3750  0.702338     2086.5     124.313738  "
      ]
     },
     "execution_count": 7,
     "metadata": {},
     "output_type": "execute_result"
    }
   ],
   "source": [
    "%%time\n",
    "\n",
    "feature_list = simulate_inundation(dem_file, \n",
    "                                        basin_shp,\n",
    "                                        gage_shp,\n",
    "                                        gage_data_file, \n",
    "                                        output_dir, \n",
    "                                        run_name, \n",
    "                                        elevation_interval=elevation_interval,\n",
    "                                        hour_interval=hour_interval)\n",
    "\n",
    "fdf = pd.concat(feature_list)\n",
    "\n",
    "fdf.head()\n"
   ]
  },
  {
   "cell_type": "code",
   "execution_count": 8,
   "id": "778a7a0a-dcea-4b6d-9913-6a3c5547bea8",
   "metadata": {},
   "outputs": [
    {
     "data": {
      "text/html": [
       "<div>\n",
       "<style scoped>\n",
       "    .dataframe tbody tr th:only-of-type {\n",
       "        vertical-align: middle;\n",
       "    }\n",
       "\n",
       "    .dataframe tbody tr th {\n",
       "        vertical-align: top;\n",
       "    }\n",
       "\n",
       "    .dataframe thead th {\n",
       "        text-align: right;\n",
       "    }\n",
       "</style>\n",
       "<table border=\"1\" class=\"dataframe\">\n",
       "  <thead>\n",
       "    <tr style=\"text-align: right;\">\n",
       "      <th></th>\n",
       "      <th>RECORD</th>\n",
       "      <th>DATE</th>\n",
       "      <th>TIME</th>\n",
       "      <th>TEMP_C</th>\n",
       "      <th>WL_ELEV_M</th>\n",
       "      <th>date_time</th>\n",
       "    </tr>\n",
       "  </thead>\n",
       "  <tbody>\n",
       "    <tr>\n",
       "      <th>0</th>\n",
       "      <td>8916</td>\n",
       "      <td>2/1/2008</td>\n",
       "      <td>5:15:21 PM</td>\n",
       "      <td>3.893</td>\n",
       "      <td>2.9</td>\n",
       "      <td>2008-02-01 17:15:21</td>\n",
       "    </tr>\n",
       "    <tr>\n",
       "      <th>1</th>\n",
       "      <td>8918</td>\n",
       "      <td>2/1/2008</td>\n",
       "      <td>6:15:21 PM</td>\n",
       "      <td>3.893</td>\n",
       "      <td>2.7</td>\n",
       "      <td>2008-02-01 18:15:21</td>\n",
       "    </tr>\n",
       "  </tbody>\n",
       "</table>\n",
       "</div>"
      ],
      "text/plain": [
       "   RECORD      DATE        TIME  TEMP_C  WL_ELEV_M           date_time\n",
       "0    8916  2/1/2008  5:15:21 PM   3.893        2.9 2008-02-01 17:15:21\n",
       "1    8918  2/1/2008  6:15:21 PM   3.893        2.7 2008-02-01 18:15:21"
      ]
     },
     "execution_count": 8,
     "metadata": {},
     "output_type": "execute_result"
    }
   ],
   "source": [
    "df = pd.read_csv(gage_data_file)\n",
    "\n",
    "# convert date and time strings to a pandas datetime type\n",
    "df['date_time'] = pd.to_datetime(df['DATE'] + ' ' + df['TIME'], infer_datetime_format=True)\n",
    "\n",
    "df.head(2)\n"
   ]
  },
  {
   "cell_type": "code",
   "execution_count": 12,
   "id": "a61d1c77-7c09-495a-9b35-ea5a3f50469e",
   "metadata": {},
   "outputs": [
    {
     "data": {
      "text/plain": [
       "(3568,)"
      ]
     },
     "execution_count": 12,
     "metadata": {},
     "output_type": "execute_result"
    }
   ],
   "source": [
    "df['WL_ELEV_M'].shape\n"
   ]
  },
  {
   "cell_type": "code",
   "execution_count": 13,
   "id": "52823424-4afb-44b9-9ce7-3413868f98b5",
   "metadata": {},
   "outputs": [
    {
     "ename": "NameError",
     "evalue": "name 'x' is not defined",
     "output_type": "error",
     "traceback": [
      "\u001b[0;31m---------------------------------------------------------------------------\u001b[0m",
      "\u001b[0;31mNameError\u001b[0m                                 Traceback (most recent call last)",
      "\u001b[0;32m/var/folders/1q/kbqf0s_90m907n320mhb_gq46y9fxr/T/ipykernel_65007/2652992662.py\u001b[0m in \u001b[0;36m<module>\u001b[0;34m\u001b[0m\n\u001b[0;32m----> 1\u001b[0;31m \u001b[0mtype\u001b[0m\u001b[0;34m(\u001b[0m\u001b[0mx\u001b[0m\u001b[0;34m)\u001b[0m\u001b[0;34m\u001b[0m\u001b[0;34m\u001b[0m\u001b[0m\n\u001b[0m",
      "\u001b[0;31mNameError\u001b[0m: name 'x' is not defined"
     ]
    }
   ],
   "source": [
    "type(x)"
   ]
  },
  {
   "cell_type": "code",
   "execution_count": null,
   "id": "14009784-8fbc-40d5-ae0d-192e4479d446",
   "metadata": {},
   "outputs": [],
   "source": [
    "sns.set(style='whitegrid', font_scale=1.2) \n",
    "\n",
    "fig, ax = plt.subplots(figsize=(12, 8))\n",
    "\n",
    "# g = sns.lineplot(x=\"date_time\", \n",
    "#                   y=\"WL_ELEV_M\",\n",
    "#                   data=df,\n",
    "#                   color='blue',\n",
    "#                   alpha=0.7)\n",
    "\n",
    "# x = ax.set(ylabel='Water Surface Elevation (m)',\n",
    "#            xlabel=None,\n",
    "#            title='Water Surface Elevation Gage Measurements')\n",
    "\n",
    "# plt.xlim(xmin=df['date_time'].min(), xmax=df['date_time'].max())\n",
    "\n",
    "# gx = plt.xticks(rotation = 45)\n",
    "\n",
    "# create x-axis steps for water elevation\n",
    "x_data = np.linspace(df[elevation_field_name].min(),\n",
    "                     df[elevation_field_name].max() * x_padding,\n",
    "                     num=n_samples)\n",
    "\n",
    "ax.hist(df['WL_ELEV_M'].sort_values(), bins=21, normed=True, label='data')\n",
    "ax.plot()\n"
   ]
  },
  {
   "cell_type": "markdown",
   "id": "f89c9d54-e1e2-4404-89ee-a01ec0c5ef5f",
   "metadata": {},
   "source": [
    "### Water Surface Elevation Gage Measurements"
   ]
  },
  {
   "cell_type": "code",
   "execution_count": 17,
   "id": "3182ab61-ac53-4094-b6d9-bc88bdf3f781",
   "metadata": {},
   "outputs": [],
   "source": [
    "df = pd.read_csv(gage_data_file)\n",
    "\n",
    "# convert date and time strings to a pandas datetime type\n",
    "df['date_time'] = pd.to_datetime(df['DATE'] + ' ' + df['TIME'], infer_datetime_format=True)\n",
    "\n",
    "sns.set(style='whitegrid', font_scale=1.2) \n",
    "\n",
    "fig, ax = plt.subplots(figsize=(12, 8))\n",
    "\n",
    "g = sns.lineplot(x=\"date_time\", \n",
    "                  y=\"WL_ELEV_M\",\n",
    "                  data=df,\n",
    "                  color='blue',\n",
    "                  alpha=0.7)\n",
    "\n",
    "x = ax.set(ylabel='Water Surface Elevation (m)',\n",
    "           xlabel=None,\n",
    "           title='Water Surface Elevation Gage Measurements')\n",
    "\n",
    "plt.xlim(xmin=df['date_time'].min(), xmax=df['date_time'].max())\n",
    "\n",
    "gx = plt.xticks(rotation = 45)\n",
    "\n",
    "plt.savefig('/Users/d3y010/Desktop/test.png')\n",
    "plt.close()\n"
   ]
  },
  {
   "cell_type": "markdown",
   "id": "e4f2f37b-1cc7-4953-8df0-5f60f19aa676",
   "metadata": {},
   "source": [
    "### Hectare hours of inundation"
   ]
  },
  {
   "cell_type": "code",
   "execution_count": 12,
   "id": "548e054b-6b4e-4b6c-8d39-0934b42c4c52",
   "metadata": {},
   "outputs": [
    {
     "data": {
      "text/plain": [
       "92.13073875"
      ]
     },
     "execution_count": 12,
     "metadata": {},
     "output_type": "execute_result"
    }
   ],
   "source": [
    "fdf['hectare_hours'].max() * .05"
   ]
  },
  {
   "cell_type": "code",
   "execution_count": 18,
   "id": "e792f357-0f51-4ce7-ab2b-cd0b55aad6af",
   "metadata": {},
   "outputs": [
    {
     "data": {
      "text/plain": [
       "38.25"
      ]
     },
     "execution_count": 18,
     "metadata": {},
     "output_type": "execute_result"
    }
   ],
   "source": [
    "255 * 0.15"
   ]
  },
  {
   "cell_type": "code",
   "execution_count": null,
   "id": "a87e24e5-ce91-4629-803e-0f54f5692df5",
   "metadata": {},
   "outputs": [],
   "source": []
  },
  {
   "cell_type": "code",
   "execution_count": 14,
   "id": "6a37dde7-c011-4631-8339-08df494712ea",
   "metadata": {},
   "outputs": [
    {
     "data": {
      "text/plain": [
       "Text(0, 0.5, 'Water Surface Elevation (m)')"
      ]
     },
     "execution_count": 14,
     "metadata": {},
     "output_type": "execute_result"
    },
    {
     "data": {
      "image/png": "[encoded data removed]",
      "text/plain": [
       "<Figure size 864x576 with 1 Axes>"
      ]
     },
     "metadata": {},
     "output_type": "display_data"
    }
   ],
   "source": [
    "sns.set(style='whitegrid', font_scale=1.2) \n",
    "\n",
    "fig, ax = plt.subplots(figsize=(12, 8))\n",
    "\n",
    "# pad min and max Y values for axis\n",
    "y_padding = fdf['elevation'].max() * 0.15\n",
    "\n",
    "# pad max x axis value\n",
    "x_padding = fdf['hectare_hours'].max() * .05\n",
    "\n",
    "plt.ylim(ymin=(fdf['elevation'].min() - y_padding), ymax=(fdf['elevation'].max() + y_padding))\n",
    "plt.xlim(xmin=fdf['hectare_hours'].min(), \n",
    "         xmax=fdf['hectare_hours'].max() + x_padding)\n",
    "\n",
    "plt.plot(fdf['hectare_hours'], fdf['elevation'], 'k')\n",
    "\n",
    "plt.fill_betweenx(fdf['elevation'], fdf['hectare_hours'], color='blue', alpha=0.7)\n",
    "\n",
    "plt.title('Hectare Hours of Inundation')\n",
    "plt.xlabel('Hectare Hours')\n",
    "plt.ylabel('Water Surface Elevation (m)')\n",
    "\n"
   ]
  },
  {
   "cell_type": "code",
   "execution_count": 7,
   "id": "88f9c84e-0cee-46da-ab30-18c2bbc46c83",
   "metadata": {},
   "outputs": [
    {
     "data": {
      "text/html": [
       "<div>\n",
       "<style scoped>\n",
       "    .dataframe tbody tr th:only-of-type {\n",
       "        vertical-align: middle;\n",
       "    }\n",
       "\n",
       "    .dataframe tbody tr th {\n",
       "        vertical-align: top;\n",
       "    }\n",
       "\n",
       "    .dataframe thead th {\n",
       "        text-align: right;\n",
       "    }\n",
       "</style>\n",
       "<table border=\"1\" class=\"dataframe\">\n",
       "  <thead>\n",
       "    <tr style=\"text-align: right;\">\n",
       "      <th></th>\n",
       "      <th>geometry</th>\n",
       "      <th>id</th>\n",
       "      <th>frequency</th>\n",
       "      <th>elevation</th>\n",
       "      <th>area</th>\n",
       "      <th>hectares</th>\n",
       "      <th>perimeter</th>\n",
       "      <th>hectare_hours</th>\n",
       "    </tr>\n",
       "  </thead>\n",
       "  <tbody>\n",
       "    <tr>\n",
       "      <th>0</th>\n",
       "      <td>POLYGON ((446947.500 5128512.631, 446947.500 5...</td>\n",
       "      <td>100</td>\n",
       "      <td>2</td>\n",
       "      <td>1.0</td>\n",
       "      <td>1785.3750</td>\n",
       "      <td>0.178538</td>\n",
       "      <td>631.5</td>\n",
       "      <td>0.357075</td>\n",
       "    </tr>\n",
       "    <tr>\n",
       "      <th>0</th>\n",
       "      <td>POLYGON ((446949.000 5128514.131, 446949.000 5...</td>\n",
       "      <td>110</td>\n",
       "      <td>523</td>\n",
       "      <td>1.1</td>\n",
       "      <td>2291.0625</td>\n",
       "      <td>0.229106</td>\n",
       "      <td>642.0</td>\n",
       "      <td>119.822569</td>\n",
       "    </tr>\n",
       "    <tr>\n",
       "      <th>0</th>\n",
       "      <td>POLYGON ((446955.750 5128516.381, 446955.750 5...</td>\n",
       "      <td>120</td>\n",
       "      <td>462</td>\n",
       "      <td>1.2</td>\n",
       "      <td>2656.6875</td>\n",
       "      <td>0.265669</td>\n",
       "      <td>657.0</td>\n",
       "      <td>122.738962</td>\n",
       "    </tr>\n",
       "    <tr>\n",
       "      <th>0</th>\n",
       "      <td>POLYGON ((447280.500 5128854.631, 447280.500 5...</td>\n",
       "      <td>130</td>\n",
       "      <td>231</td>\n",
       "      <td>1.3</td>\n",
       "      <td>5967.0000</td>\n",
       "      <td>0.596700</td>\n",
       "      <td>2023.5</td>\n",
       "      <td>137.837700</td>\n",
       "    </tr>\n",
       "    <tr>\n",
       "      <th>0</th>\n",
       "      <td>POLYGON ((447281.250 5128857.631, 447281.250 5...</td>\n",
       "      <td>140</td>\n",
       "      <td>177</td>\n",
       "      <td>1.4</td>\n",
       "      <td>7023.3750</td>\n",
       "      <td>0.702338</td>\n",
       "      <td>2086.5</td>\n",
       "      <td>124.313738</td>\n",
       "    </tr>\n",
       "  </tbody>\n",
       "</table>\n",
       "</div>"
      ],
      "text/plain": [
       "                                            geometry   id  frequency  \\\n",
       "0  POLYGON ((446947.500 5128512.631, 446947.500 5...  100          2   \n",
       "0  POLYGON ((446949.000 5128514.131, 446949.000 5...  110        523   \n",
       "0  POLYGON ((446955.750 5128516.381, 446955.750 5...  120        462   \n",
       "0  POLYGON ((447280.500 5128854.631, 447280.500 5...  130        231   \n",
       "0  POLYGON ((447281.250 5128857.631, 447281.250 5...  140        177   \n",
       "\n",
       "   elevation       area  hectares  perimeter  hectare_hours  \n",
       "0        1.0  1785.3750  0.178538      631.5       0.357075  \n",
       "0        1.1  2291.0625  0.229106      642.0     119.822569  \n",
       "0        1.2  2656.6875  0.265669      657.0     122.738962  \n",
       "0        1.3  5967.0000  0.596700     2023.5     137.837700  \n",
       "0        1.4  7023.3750  0.702338     2086.5     124.313738  "
      ]
     },
     "execution_count": 7,
     "metadata": {},
     "output_type": "execute_result"
    }
   ],
   "source": [
    "fdf.head()"
   ]
  },
  {
   "cell_type": "code",
   "execution_count": 12,
   "id": "3d205e37-07d8-46e8-8b81-5d410dadec9f",
   "metadata": {},
   "outputs": [
    {
     "data": {
      "text/plain": [
       "110.00000000000001"
      ]
     },
     "execution_count": 12,
     "metadata": {},
     "output_type": "execute_result"
    }
   ],
   "source": [
    "100 * 1.1\n"
   ]
  },
  {
   "cell_type": "markdown",
   "id": "d35dfe98-ceef-4ff7-8799-6d12b6e34cc2",
   "metadata": {},
   "source": [
    "### CDF"
   ]
  },
  {
   "cell_type": "code",
   "execution_count": 81,
   "id": "7a2057f2-b9b4-4626-a7dc-3ad19a39a751",
   "metadata": {},
   "outputs": [
    {
     "name": "stdout",
     "output_type": "stream",
     "text": [
      "3.6\n",
      "3.7800000000000002\n"
     ]
    },
    {
     "data": {
      "text/plain": [
       "(1.0, 3.6)"
      ]
     },
     "execution_count": 81,
     "metadata": {},
     "output_type": "execute_result"
    },
    {
     "data": {
      "image/png": "[encoded data removed]",
      "text/plain": [
       "<Figure size 864x576 with 1 Axes>"
      ]
     },
     "metadata": {},
     "output_type": "display_data"
    }
   ],
   "source": [
    "sns.set(style='whitegrid', font_scale=1.2) \n",
    "\n",
    "df = pd.read_csv(gage_data_file)\n",
    "\n",
    "fig, ax = plt.subplots(figsize=(12, 8))\n",
    "\n",
    "z_sort = df['WL_ELEV_M'].sort_values()\n",
    "\n",
    "x_data = np.linspace(df['WL_ELEV_M'].min(), df['WL_ELEV_M'].max() * 1.05, 100)\n",
    "\n",
    "s, loc, scale = stats.lognorm.fit(z_sort.values)\n",
    "\n",
    "cum_dist = np.linspace(0., 1., z_sort.shape[0])\n",
    "\n",
    "z_cdf = pd.Series(cum_dist, index=z_sort)\n",
    "\n",
    "ep = 1. - z_cdf\n",
    "\n",
    "z_cdf.plot(ax=ax, drawstyle='steps', label='data', color='blue')\n",
    "\n",
    "ax.plot(x_data, stats.lognorm.cdf(x_data, s, loc, scale), label='lognormal', color='green')\n",
    "\n",
    "ax.set_xlabel('Water Surface Elevation (m)')\n",
    "ax.set_ylabel('CDF')\n",
    "\n",
    "ax.legend(loc=0, framealpha=0.5) #, fontsize=14)\n",
    "plt.title('Cumulative Distribution')\n",
    "\n",
    "plt.xlim(xmin=x_data.min(), xmax=df['WL_ELEV_M'].max())\n"
   ]
  },
  {
   "cell_type": "markdown",
   "id": "4f4fe6ad-a8f0-4c5e-b218-062cb3aa028a",
   "metadata": {},
   "source": [
    "### Exceedence probability"
   ]
  },
  {
   "cell_type": "code",
   "execution_count": 12,
   "id": "19319143-b865-454d-9621-d110f20f7068",
   "metadata": {},
   "outputs": [
    {
     "data": {
      "text/plain": [
       "<matplotlib.legend.Legend at 0x176fb8f70>"
      ]
     },
     "execution_count": 12,
     "metadata": {},
     "output_type": "execute_result"
    },
    {
     "data": {
      "image/png": "[encoded data removed]",
      "text/plain": [
       "<Figure size 864x576 with 1 Axes>"
      ]
     },
     "metadata": {},
     "output_type": "display_data"
    }
   ],
   "source": [
    "sns.set(style='whitegrid', font_scale=1.2) \n",
    "\n",
    "fig, ax = plt.subplots(figsize=(12, 8))\n",
    "\n",
    "z_sort = df['WL_ELEV_M'].sort_values()\n",
    "\n",
    "x_data = np.linspace(df['WL_ELEV_M'].min(), z_sort.max() * 1.1, 100)\n",
    "\n",
    "s, loc, scale = stats.lognorm.fit(z_sort.values)\n",
    "\n",
    "cum_dist = np.linspace(0., 1., z_sort.shape[0])\n",
    "\n",
    "z_cdf = pd.Series(cum_dist, index=z_sort)\n",
    "\n",
    "ep = 1. - z_cdf\n",
    "\n",
    "ax.semilogx(100. * ep, z_sort.values, ls='', marker='o', label='data')\n",
    "ax.plot(100. * (1. - stats.lognorm.cdf(x_data, s, loc, scale)), x_data, label='lognormal')\n",
    "\n",
    "minor_locator = FixedLocator([1, 2, 5, 10, 20, 50, 100])\n",
    "\n",
    "ax.xaxis.set_major_locator(minor_locator)\n",
    "ax.xaxis.set_major_formatter(ScalarFormatter())\n",
    "ax.xaxis.set_major_formatter(FormatStrFormatter(\"%d\"))\n",
    "\n",
    "ax.set_xlim(1, 100)\n",
    "ax.set_ylim(0, df['WL_ELEV_M'].max())\n",
    "\n",
    "ax.set_xlabel('Exceedance Probability (%)')\n",
    "ax.set_ylabel('Water Surface Elevation')\n",
    "ax.invert_xaxis()\n",
    "\n",
    "ax.legend(loc=0, framealpha=0.5, fontsize=14)\n"
   ]
  },
  {
   "cell_type": "markdown",
   "id": "d2bb1060-225b-4d04-82ca-1b88f8b32d7c",
   "metadata": {},
   "source": [
    "### Inundation perimiter by water surface elevation"
   ]
  },
  {
   "cell_type": "code",
   "execution_count": 9,
   "id": "fac129b4-c0f6-431f-b0ac-7ebc69582237",
   "metadata": {},
   "outputs": [
    {
     "data": {
      "image/png": "[encoded data removed]",
      "text/plain": [
       "<Figure size 864x576 with 1 Axes>"
      ]
     },
     "metadata": {},
     "output_type": "display_data"
    }
   ],
   "source": [
    "\n",
    "sns.set(style='whitegrid', font_scale=1.2) \n",
    "\n",
    "\n",
    "fig, ax = plt.subplots(figsize=(12, 8))\n",
    "\n",
    "plt.plot(fdf.perimeter, fdf.elevation, 'ko', fdf.perimeter, fdf.elevation, 'k')\n",
    "\n",
    "x = ax.set(ylabel='Water Surface Elevation (m)',\n",
    "           xlabel='Inundation Perimeter (m)',\n",
    "           title='Inundation Perimiter by Water Surface Elevation')\n",
    "\n",
    "plt.axhline(fdf.elevation.mean(), color='black', linestyle=\"--\", label='_nolegend_')\n",
    "\n",
    "plt.xlim(xmin=0, xmax=fdf.perimeter.max() + 500)\n",
    "\n",
    "ax.xaxis.set_major_formatter(ticker.FuncFormatter(lambda x, pos: '{:}'.format(int(x/1000)) + 'K' if x > 0 else int(x)))\n"
   ]
  },
  {
   "cell_type": "markdown",
   "id": "2c85dde7-1f97-4bdb-97c2-77cef65e299d",
   "metadata": {},
   "source": [
    "### Inundation area by water surface elevation"
   ]
  },
  {
   "cell_type": "code",
   "execution_count": 10,
   "id": "434bb574-15a0-4e02-b0e8-ff79ec101816",
   "metadata": {},
   "outputs": [
    {
     "name": "stdout",
     "output_type": "stream",
     "text": [
      "1.2000000000000002 2656.6875\n"
     ]
    },
    {
     "ename": "ValueError",
     "evalue": "cannot reindex from a duplicate axis",
     "output_type": "error",
     "traceback": [
      "\u001b[0;31m---------------------------------------------------------------------------\u001b[0m",
      "\u001b[0;31mValueError\u001b[0m                                Traceback (most recent call last)",
      "\u001b[0;32m/var/folders/1q/kbqf0s_90m907n320mhb_gq46y9fxr/T/ipykernel_18003/699794686.py\u001b[0m in \u001b[0;36m<module>\u001b[0;34m\u001b[0m\n\u001b[1;32m      9\u001b[0m \u001b[0mfig\u001b[0m\u001b[0;34m,\u001b[0m \u001b[0max\u001b[0m \u001b[0;34m=\u001b[0m \u001b[0mplt\u001b[0m\u001b[0;34m.\u001b[0m\u001b[0msubplots\u001b[0m\u001b[0;34m(\u001b[0m\u001b[0mfigsize\u001b[0m\u001b[0;34m=\u001b[0m\u001b[0;34m(\u001b[0m\u001b[0;36m12\u001b[0m\u001b[0;34m,\u001b[0m \u001b[0;36m8\u001b[0m\u001b[0;34m)\u001b[0m\u001b[0;34m)\u001b[0m\u001b[0;34m\u001b[0m\u001b[0;34m\u001b[0m\u001b[0m\n\u001b[1;32m     10\u001b[0m \u001b[0;34m\u001b[0m\u001b[0m\n\u001b[0;32m---> 11\u001b[0;31m g = sns.lineplot(x=\"area\", \n\u001b[0m\u001b[1;32m     12\u001b[0m                   \u001b[0my\u001b[0m\u001b[0;34m=\u001b[0m\u001b[0;34m\"elevation\"\u001b[0m\u001b[0;34m,\u001b[0m\u001b[0;34m\u001b[0m\u001b[0;34m\u001b[0m\u001b[0m\n\u001b[1;32m     13\u001b[0m                   \u001b[0mmarker\u001b[0m\u001b[0;34m=\u001b[0m\u001b[0;34m'o'\u001b[0m\u001b[0;34m,\u001b[0m\u001b[0;34m\u001b[0m\u001b[0;34m\u001b[0m\u001b[0m\n",
      "\u001b[0;32m~/.pyenv/versions/3.9.4/envs/py3.9.4_atiim/lib/python3.9/site-packages/seaborn/_decorators.py\u001b[0m in \u001b[0;36minner_f\u001b[0;34m(*args, **kwargs)\u001b[0m\n\u001b[1;32m     44\u001b[0m             )\n\u001b[1;32m     45\u001b[0m         \u001b[0mkwargs\u001b[0m\u001b[0;34m.\u001b[0m\u001b[0mupdate\u001b[0m\u001b[0;34m(\u001b[0m\u001b[0;34m{\u001b[0m\u001b[0mk\u001b[0m\u001b[0;34m:\u001b[0m \u001b[0marg\u001b[0m \u001b[0;32mfor\u001b[0m \u001b[0mk\u001b[0m\u001b[0;34m,\u001b[0m \u001b[0marg\u001b[0m \u001b[0;32min\u001b[0m \u001b[0mzip\u001b[0m\u001b[0;34m(\u001b[0m\u001b[0msig\u001b[0m\u001b[0;34m.\u001b[0m\u001b[0mparameters\u001b[0m\u001b[0;34m,\u001b[0m \u001b[0margs\u001b[0m\u001b[0;34m)\u001b[0m\u001b[0;34m}\u001b[0m\u001b[0;34m)\u001b[0m\u001b[0;34m\u001b[0m\u001b[0;34m\u001b[0m\u001b[0m\n\u001b[0;32m---> 46\u001b[0;31m         \u001b[0;32mreturn\u001b[0m \u001b[0mf\u001b[0m\u001b[0;34m(\u001b[0m\u001b[0;34m**\u001b[0m\u001b[0mkwargs\u001b[0m\u001b[0;34m)\u001b[0m\u001b[0;34m\u001b[0m\u001b[0;34m\u001b[0m\u001b[0m\n\u001b[0m\u001b[1;32m     47\u001b[0m     \u001b[0;32mreturn\u001b[0m \u001b[0minner_f\u001b[0m\u001b[0;34m\u001b[0m\u001b[0;34m\u001b[0m\u001b[0m\n\u001b[1;32m     48\u001b[0m \u001b[0;34m\u001b[0m\u001b[0m\n",
      "\u001b[0;32m~/.pyenv/versions/3.9.4/envs/py3.9.4_atiim/lib/python3.9/site-packages/seaborn/relational.py\u001b[0m in \u001b[0;36mlineplot\u001b[0;34m(x, y, hue, size, style, data, palette, hue_order, hue_norm, sizes, size_order, size_norm, dashes, markers, style_order, units, estimator, ci, n_boot, seed, sort, err_style, err_kws, legend, ax, **kwargs)\u001b[0m\n\u001b[1;32m    708\u001b[0m     \u001b[0mp\u001b[0m\u001b[0;34m.\u001b[0m\u001b[0m_attach\u001b[0m\u001b[0;34m(\u001b[0m\u001b[0max\u001b[0m\u001b[0;34m)\u001b[0m\u001b[0;34m\u001b[0m\u001b[0;34m\u001b[0m\u001b[0m\n\u001b[1;32m    709\u001b[0m \u001b[0;34m\u001b[0m\u001b[0m\n\u001b[0;32m--> 710\u001b[0;31m     \u001b[0mp\u001b[0m\u001b[0;34m.\u001b[0m\u001b[0mplot\u001b[0m\u001b[0;34m(\u001b[0m\u001b[0max\u001b[0m\u001b[0;34m,\u001b[0m \u001b[0mkwargs\u001b[0m\u001b[0;34m)\u001b[0m\u001b[0;34m\u001b[0m\u001b[0;34m\u001b[0m\u001b[0m\n\u001b[0m\u001b[1;32m    711\u001b[0m     \u001b[0;32mreturn\u001b[0m \u001b[0max\u001b[0m\u001b[0;34m\u001b[0m\u001b[0;34m\u001b[0m\u001b[0m\n\u001b[1;32m    712\u001b[0m \u001b[0;34m\u001b[0m\u001b[0m\n",
      "\u001b[0;32m~/.pyenv/versions/3.9.4/envs/py3.9.4_atiim/lib/python3.9/site-packages/seaborn/relational.py\u001b[0m in \u001b[0;36mplot\u001b[0;34m(self, ax, kws)\u001b[0m\n\u001b[1;32m    469\u001b[0m         \u001b[0;31m# Loop over the semantic subsets and add to the plot\u001b[0m\u001b[0;34m\u001b[0m\u001b[0;34m\u001b[0m\u001b[0;34m\u001b[0m\u001b[0m\n\u001b[1;32m    470\u001b[0m         \u001b[0mgrouping_vars\u001b[0m \u001b[0;34m=\u001b[0m \u001b[0;34m\"hue\"\u001b[0m\u001b[0;34m,\u001b[0m \u001b[0;34m\"size\"\u001b[0m\u001b[0;34m,\u001b[0m \u001b[0;34m\"style\"\u001b[0m\u001b[0;34m\u001b[0m\u001b[0;34m\u001b[0m\u001b[0m\n\u001b[0;32m--> 471\u001b[0;31m         \u001b[0;32mfor\u001b[0m \u001b[0msub_vars\u001b[0m\u001b[0;34m,\u001b[0m \u001b[0msub_data\u001b[0m \u001b[0;32min\u001b[0m \u001b[0mself\u001b[0m\u001b[0;34m.\u001b[0m\u001b[0miter_data\u001b[0m\u001b[0;34m(\u001b[0m\u001b[0mgrouping_vars\u001b[0m\u001b[0;34m,\u001b[0m \u001b[0mfrom_comp_data\u001b[0m\u001b[0;34m=\u001b[0m\u001b[0;32mTrue\u001b[0m\u001b[0;34m)\u001b[0m\u001b[0;34m:\u001b[0m\u001b[0;34m\u001b[0m\u001b[0;34m\u001b[0m\u001b[0m\n\u001b[0m\u001b[1;32m    472\u001b[0m \u001b[0;34m\u001b[0m\u001b[0m\n\u001b[1;32m    473\u001b[0m             \u001b[0;32mif\u001b[0m \u001b[0mself\u001b[0m\u001b[0;34m.\u001b[0m\u001b[0msort\u001b[0m\u001b[0;34m:\u001b[0m\u001b[0;34m\u001b[0m\u001b[0;34m\u001b[0m\u001b[0m\n",
      "\u001b[0;32m~/.pyenv/versions/3.9.4/envs/py3.9.4_atiim/lib/python3.9/site-packages/seaborn/_core.py\u001b[0m in \u001b[0;36miter_data\u001b[0;34m(self, grouping_vars, reverse, from_comp_data)\u001b[0m\n\u001b[1;32m    981\u001b[0m \u001b[0;34m\u001b[0m\u001b[0m\n\u001b[1;32m    982\u001b[0m         \u001b[0;32mif\u001b[0m \u001b[0mfrom_comp_data\u001b[0m\u001b[0;34m:\u001b[0m\u001b[0;34m\u001b[0m\u001b[0;34m\u001b[0m\u001b[0m\n\u001b[0;32m--> 983\u001b[0;31m             \u001b[0mdata\u001b[0m \u001b[0;34m=\u001b[0m \u001b[0mself\u001b[0m\u001b[0;34m.\u001b[0m\u001b[0mcomp_data\u001b[0m\u001b[0;34m\u001b[0m\u001b[0;34m\u001b[0m\u001b[0m\n\u001b[0m\u001b[1;32m    984\u001b[0m         \u001b[0;32melse\u001b[0m\u001b[0;34m:\u001b[0m\u001b[0;34m\u001b[0m\u001b[0;34m\u001b[0m\u001b[0m\n\u001b[1;32m    985\u001b[0m             \u001b[0mdata\u001b[0m \u001b[0;34m=\u001b[0m \u001b[0mself\u001b[0m\u001b[0;34m.\u001b[0m\u001b[0mplot_data\u001b[0m\u001b[0;34m\u001b[0m\u001b[0;34m\u001b[0m\u001b[0m\n",
      "\u001b[0;32m~/.pyenv/versions/3.9.4/envs/py3.9.4_atiim/lib/python3.9/site-packages/seaborn/_core.py\u001b[0m in \u001b[0;36mcomp_data\u001b[0;34m(self)\u001b[0m\n\u001b[1;32m   1055\u001b[0m                     \u001b[0morig\u001b[0m \u001b[0;34m=\u001b[0m \u001b[0mself\u001b[0m\u001b[0;34m.\u001b[0m\u001b[0mplot_data\u001b[0m\u001b[0;34m[\u001b[0m\u001b[0mvar\u001b[0m\u001b[0;34m]\u001b[0m\u001b[0;34m.\u001b[0m\u001b[0mdropna\u001b[0m\u001b[0;34m(\u001b[0m\u001b[0;34m)\u001b[0m\u001b[0;34m\u001b[0m\u001b[0;34m\u001b[0m\u001b[0m\n\u001b[1;32m   1056\u001b[0m                 \u001b[0mcomp_col\u001b[0m \u001b[0;34m=\u001b[0m \u001b[0mpd\u001b[0m\u001b[0;34m.\u001b[0m\u001b[0mSeries\u001b[0m\u001b[0;34m(\u001b[0m\u001b[0mindex\u001b[0m\u001b[0;34m=\u001b[0m\u001b[0morig\u001b[0m\u001b[0;34m.\u001b[0m\u001b[0mindex\u001b[0m\u001b[0;34m,\u001b[0m \u001b[0mdtype\u001b[0m\u001b[0;34m=\u001b[0m\u001b[0mfloat\u001b[0m\u001b[0;34m,\u001b[0m \u001b[0mname\u001b[0m\u001b[0;34m=\u001b[0m\u001b[0mvar\u001b[0m\u001b[0;34m)\u001b[0m\u001b[0;34m\u001b[0m\u001b[0;34m\u001b[0m\u001b[0m\n\u001b[0;32m-> 1057\u001b[0;31m                 \u001b[0mcomp_col\u001b[0m\u001b[0;34m.\u001b[0m\u001b[0mloc\u001b[0m\u001b[0;34m[\u001b[0m\u001b[0morig\u001b[0m\u001b[0;34m.\u001b[0m\u001b[0mindex\u001b[0m\u001b[0;34m]\u001b[0m \u001b[0;34m=\u001b[0m \u001b[0mpd\u001b[0m\u001b[0;34m.\u001b[0m\u001b[0mto_numeric\u001b[0m\u001b[0;34m(\u001b[0m\u001b[0maxis\u001b[0m\u001b[0;34m.\u001b[0m\u001b[0mconvert_units\u001b[0m\u001b[0;34m(\u001b[0m\u001b[0morig\u001b[0m\u001b[0;34m)\u001b[0m\u001b[0;34m)\u001b[0m\u001b[0;34m\u001b[0m\u001b[0;34m\u001b[0m\u001b[0m\n\u001b[0m\u001b[1;32m   1058\u001b[0m \u001b[0;34m\u001b[0m\u001b[0m\n\u001b[1;32m   1059\u001b[0m                 \u001b[0;32mif\u001b[0m \u001b[0maxis\u001b[0m\u001b[0;34m.\u001b[0m\u001b[0mget_scale\u001b[0m\u001b[0;34m(\u001b[0m\u001b[0;34m)\u001b[0m \u001b[0;34m==\u001b[0m \u001b[0;34m\"log\"\u001b[0m\u001b[0;34m:\u001b[0m\u001b[0;34m\u001b[0m\u001b[0;34m\u001b[0m\u001b[0m\n",
      "\u001b[0;32m~/.pyenv/versions/3.9.4/envs/py3.9.4_atiim/lib/python3.9/site-packages/pandas/core/indexing.py\u001b[0m in \u001b[0;36m__setitem__\u001b[0;34m(self, key, value)\u001b[0m\n\u001b[1;32m    721\u001b[0m \u001b[0;34m\u001b[0m\u001b[0m\n\u001b[1;32m    722\u001b[0m         \u001b[0miloc\u001b[0m \u001b[0;34m=\u001b[0m \u001b[0mself\u001b[0m \u001b[0;32mif\u001b[0m \u001b[0mself\u001b[0m\u001b[0;34m.\u001b[0m\u001b[0mname\u001b[0m \u001b[0;34m==\u001b[0m \u001b[0;34m\"iloc\"\u001b[0m \u001b[0;32melse\u001b[0m \u001b[0mself\u001b[0m\u001b[0;34m.\u001b[0m\u001b[0mobj\u001b[0m\u001b[0;34m.\u001b[0m\u001b[0miloc\u001b[0m\u001b[0;34m\u001b[0m\u001b[0;34m\u001b[0m\u001b[0m\n\u001b[0;32m--> 723\u001b[0;31m         \u001b[0miloc\u001b[0m\u001b[0;34m.\u001b[0m\u001b[0m_setitem_with_indexer\u001b[0m\u001b[0;34m(\u001b[0m\u001b[0mindexer\u001b[0m\u001b[0;34m,\u001b[0m \u001b[0mvalue\u001b[0m\u001b[0;34m,\u001b[0m \u001b[0mself\u001b[0m\u001b[0;34m.\u001b[0m\u001b[0mname\u001b[0m\u001b[0;34m)\u001b[0m\u001b[0;34m\u001b[0m\u001b[0;34m\u001b[0m\u001b[0m\n\u001b[0m\u001b[1;32m    724\u001b[0m \u001b[0;34m\u001b[0m\u001b[0m\n\u001b[1;32m    725\u001b[0m     \u001b[0;32mdef\u001b[0m \u001b[0m_validate_key\u001b[0m\u001b[0;34m(\u001b[0m\u001b[0mself\u001b[0m\u001b[0;34m,\u001b[0m \u001b[0mkey\u001b[0m\u001b[0;34m,\u001b[0m \u001b[0maxis\u001b[0m\u001b[0;34m:\u001b[0m \u001b[0mint\u001b[0m\u001b[0;34m)\u001b[0m\u001b[0;34m:\u001b[0m\u001b[0;34m\u001b[0m\u001b[0;34m\u001b[0m\u001b[0m\n",
      "\u001b[0;32m~/.pyenv/versions/3.9.4/envs/py3.9.4_atiim/lib/python3.9/site-packages/pandas/core/indexing.py\u001b[0m in \u001b[0;36m_setitem_with_indexer\u001b[0;34m(self, indexer, value, name)\u001b[0m\n\u001b[1;32m   1730\u001b[0m             \u001b[0mself\u001b[0m\u001b[0;34m.\u001b[0m\u001b[0m_setitem_with_indexer_split_path\u001b[0m\u001b[0;34m(\u001b[0m\u001b[0mindexer\u001b[0m\u001b[0;34m,\u001b[0m \u001b[0mvalue\u001b[0m\u001b[0;34m,\u001b[0m \u001b[0mname\u001b[0m\u001b[0;34m)\u001b[0m\u001b[0;34m\u001b[0m\u001b[0;34m\u001b[0m\u001b[0m\n\u001b[1;32m   1731\u001b[0m         \u001b[0;32melse\u001b[0m\u001b[0;34m:\u001b[0m\u001b[0;34m\u001b[0m\u001b[0;34m\u001b[0m\u001b[0m\n\u001b[0;32m-> 1732\u001b[0;31m             \u001b[0mself\u001b[0m\u001b[0;34m.\u001b[0m\u001b[0m_setitem_single_block\u001b[0m\u001b[0;34m(\u001b[0m\u001b[0mindexer\u001b[0m\u001b[0;34m,\u001b[0m \u001b[0mvalue\u001b[0m\u001b[0;34m,\u001b[0m \u001b[0mname\u001b[0m\u001b[0;34m)\u001b[0m\u001b[0;34m\u001b[0m\u001b[0;34m\u001b[0m\u001b[0m\n\u001b[0m\u001b[1;32m   1733\u001b[0m \u001b[0;34m\u001b[0m\u001b[0m\n\u001b[1;32m   1734\u001b[0m     \u001b[0;32mdef\u001b[0m \u001b[0m_setitem_with_indexer_split_path\u001b[0m\u001b[0;34m(\u001b[0m\u001b[0mself\u001b[0m\u001b[0;34m,\u001b[0m \u001b[0mindexer\u001b[0m\u001b[0;34m,\u001b[0m \u001b[0mvalue\u001b[0m\u001b[0;34m,\u001b[0m \u001b[0mname\u001b[0m\u001b[0;34m:\u001b[0m \u001b[0mstr\u001b[0m\u001b[0;34m)\u001b[0m\u001b[0;34m:\u001b[0m\u001b[0;34m\u001b[0m\u001b[0;34m\u001b[0m\u001b[0m\n",
      "\u001b[0;32m~/.pyenv/versions/3.9.4/envs/py3.9.4_atiim/lib/python3.9/site-packages/pandas/core/indexing.py\u001b[0m in \u001b[0;36m_setitem_single_block\u001b[0;34m(self, indexer, value, name)\u001b[0m\n\u001b[1;32m   1957\u001b[0m             \u001b[0;31m# setting for extensionarrays that store dicts. Need to decide\u001b[0m\u001b[0;34m\u001b[0m\u001b[0;34m\u001b[0m\u001b[0;34m\u001b[0m\u001b[0m\n\u001b[1;32m   1958\u001b[0m             \u001b[0;31m# if it's worth supporting that.\u001b[0m\u001b[0;34m\u001b[0m\u001b[0;34m\u001b[0m\u001b[0;34m\u001b[0m\u001b[0m\n\u001b[0;32m-> 1959\u001b[0;31m             \u001b[0mvalue\u001b[0m \u001b[0;34m=\u001b[0m \u001b[0mself\u001b[0m\u001b[0;34m.\u001b[0m\u001b[0m_align_series\u001b[0m\u001b[0;34m(\u001b[0m\u001b[0mindexer\u001b[0m\u001b[0;34m,\u001b[0m \u001b[0mSeries\u001b[0m\u001b[0;34m(\u001b[0m\u001b[0mvalue\u001b[0m\u001b[0;34m)\u001b[0m\u001b[0;34m)\u001b[0m\u001b[0;34m\u001b[0m\u001b[0;34m\u001b[0m\u001b[0m\n\u001b[0m\u001b[1;32m   1960\u001b[0m \u001b[0;34m\u001b[0m\u001b[0m\n\u001b[1;32m   1961\u001b[0m         \u001b[0;32melif\u001b[0m \u001b[0misinstance\u001b[0m\u001b[0;34m(\u001b[0m\u001b[0mvalue\u001b[0m\u001b[0;34m,\u001b[0m \u001b[0mABCDataFrame\u001b[0m\u001b[0;34m)\u001b[0m \u001b[0;32mand\u001b[0m \u001b[0mname\u001b[0m \u001b[0;34m!=\u001b[0m \u001b[0;34m\"iloc\"\u001b[0m\u001b[0;34m:\u001b[0m\u001b[0;34m\u001b[0m\u001b[0;34m\u001b[0m\u001b[0m\n",
      "\u001b[0;32m~/.pyenv/versions/3.9.4/envs/py3.9.4_atiim/lib/python3.9/site-packages/pandas/core/indexing.py\u001b[0m in \u001b[0;36m_align_series\u001b[0;34m(self, indexer, ser, multiindex_indexer)\u001b[0m\n\u001b[1;32m   2094\u001b[0m             \u001b[0;31m# series, so need to broadcast (see GH5206)\u001b[0m\u001b[0;34m\u001b[0m\u001b[0;34m\u001b[0m\u001b[0;34m\u001b[0m\u001b[0m\n\u001b[1;32m   2095\u001b[0m             \u001b[0;32mif\u001b[0m \u001b[0msum_aligners\u001b[0m \u001b[0;34m==\u001b[0m \u001b[0mself\u001b[0m\u001b[0;34m.\u001b[0m\u001b[0mndim\u001b[0m \u001b[0;32mand\u001b[0m \u001b[0mall\u001b[0m\u001b[0;34m(\u001b[0m\u001b[0mis_sequence\u001b[0m\u001b[0;34m(\u001b[0m\u001b[0m_\u001b[0m\u001b[0;34m)\u001b[0m \u001b[0;32mfor\u001b[0m \u001b[0m_\u001b[0m \u001b[0;32min\u001b[0m \u001b[0mindexer\u001b[0m\u001b[0;34m)\u001b[0m\u001b[0;34m:\u001b[0m\u001b[0;34m\u001b[0m\u001b[0;34m\u001b[0m\u001b[0m\n\u001b[0;32m-> 2096\u001b[0;31m                 \u001b[0mser\u001b[0m \u001b[0;34m=\u001b[0m \u001b[0mser\u001b[0m\u001b[0;34m.\u001b[0m\u001b[0mreindex\u001b[0m\u001b[0;34m(\u001b[0m\u001b[0mobj\u001b[0m\u001b[0;34m.\u001b[0m\u001b[0maxes\u001b[0m\u001b[0;34m[\u001b[0m\u001b[0;36m0\u001b[0m\u001b[0;34m]\u001b[0m\u001b[0;34m[\u001b[0m\u001b[0mindexer\u001b[0m\u001b[0;34m[\u001b[0m\u001b[0;36m0\u001b[0m\u001b[0;34m]\u001b[0m\u001b[0;34m]\u001b[0m\u001b[0;34m,\u001b[0m \u001b[0mcopy\u001b[0m\u001b[0;34m=\u001b[0m\u001b[0;32mTrue\u001b[0m\u001b[0;34m)\u001b[0m\u001b[0;34m.\u001b[0m\u001b[0m_values\u001b[0m\u001b[0;34m\u001b[0m\u001b[0;34m\u001b[0m\u001b[0m\n\u001b[0m\u001b[1;32m   2097\u001b[0m \u001b[0;34m\u001b[0m\u001b[0m\n\u001b[1;32m   2098\u001b[0m                 \u001b[0;31m# single indexer\u001b[0m\u001b[0;34m\u001b[0m\u001b[0;34m\u001b[0m\u001b[0;34m\u001b[0m\u001b[0m\n",
      "\u001b[0;32m~/.pyenv/versions/3.9.4/envs/py3.9.4_atiim/lib/python3.9/site-packages/pandas/core/series.py\u001b[0m in \u001b[0;36mreindex\u001b[0;34m(self, index, **kwargs)\u001b[0m\n\u001b[1;32m   4578\u001b[0m     )\n\u001b[1;32m   4579\u001b[0m     \u001b[0;32mdef\u001b[0m \u001b[0mreindex\u001b[0m\u001b[0;34m(\u001b[0m\u001b[0mself\u001b[0m\u001b[0;34m,\u001b[0m \u001b[0mindex\u001b[0m\u001b[0;34m=\u001b[0m\u001b[0;32mNone\u001b[0m\u001b[0;34m,\u001b[0m \u001b[0;34m**\u001b[0m\u001b[0mkwargs\u001b[0m\u001b[0;34m)\u001b[0m\u001b[0;34m:\u001b[0m\u001b[0;34m\u001b[0m\u001b[0;34m\u001b[0m\u001b[0m\n\u001b[0;32m-> 4580\u001b[0;31m         \u001b[0;32mreturn\u001b[0m \u001b[0msuper\u001b[0m\u001b[0;34m(\u001b[0m\u001b[0;34m)\u001b[0m\u001b[0;34m.\u001b[0m\u001b[0mreindex\u001b[0m\u001b[0;34m(\u001b[0m\u001b[0mindex\u001b[0m\u001b[0;34m=\u001b[0m\u001b[0mindex\u001b[0m\u001b[0;34m,\u001b[0m \u001b[0;34m**\u001b[0m\u001b[0mkwargs\u001b[0m\u001b[0;34m)\u001b[0m\u001b[0;34m\u001b[0m\u001b[0;34m\u001b[0m\u001b[0m\n\u001b[0m\u001b[1;32m   4581\u001b[0m \u001b[0;34m\u001b[0m\u001b[0m\n\u001b[1;32m   4582\u001b[0m     \u001b[0;34m@\u001b[0m\u001b[0mdeprecate_nonkeyword_arguments\u001b[0m\u001b[0;34m(\u001b[0m\u001b[0mversion\u001b[0m\u001b[0;34m=\u001b[0m\u001b[0;32mNone\u001b[0m\u001b[0;34m,\u001b[0m \u001b[0mallowed_args\u001b[0m\u001b[0;34m=\u001b[0m\u001b[0;34m[\u001b[0m\u001b[0;34m\"self\"\u001b[0m\u001b[0;34m,\u001b[0m \u001b[0;34m\"labels\"\u001b[0m\u001b[0;34m]\u001b[0m\u001b[0;34m)\u001b[0m\u001b[0;34m\u001b[0m\u001b[0;34m\u001b[0m\u001b[0m\n",
      "\u001b[0;32m~/.pyenv/versions/3.9.4/envs/py3.9.4_atiim/lib/python3.9/site-packages/pandas/core/generic.py\u001b[0m in \u001b[0;36mreindex\u001b[0;34m(self, *args, **kwargs)\u001b[0m\n\u001b[1;32m   4816\u001b[0m \u001b[0;34m\u001b[0m\u001b[0m\n\u001b[1;32m   4817\u001b[0m         \u001b[0;31m# perform the reindex on the axes\u001b[0m\u001b[0;34m\u001b[0m\u001b[0;34m\u001b[0m\u001b[0;34m\u001b[0m\u001b[0m\n\u001b[0;32m-> 4818\u001b[0;31m         return self._reindex_axes(\n\u001b[0m\u001b[1;32m   4819\u001b[0m             \u001b[0maxes\u001b[0m\u001b[0;34m,\u001b[0m \u001b[0mlevel\u001b[0m\u001b[0;34m,\u001b[0m \u001b[0mlimit\u001b[0m\u001b[0;34m,\u001b[0m \u001b[0mtolerance\u001b[0m\u001b[0;34m,\u001b[0m \u001b[0mmethod\u001b[0m\u001b[0;34m,\u001b[0m \u001b[0mfill_value\u001b[0m\u001b[0;34m,\u001b[0m \u001b[0mcopy\u001b[0m\u001b[0;34m\u001b[0m\u001b[0;34m\u001b[0m\u001b[0m\n\u001b[1;32m   4820\u001b[0m         ).__finalize__(self, method=\"reindex\")\n",
      "\u001b[0;32m~/.pyenv/versions/3.9.4/envs/py3.9.4_atiim/lib/python3.9/site-packages/pandas/core/generic.py\u001b[0m in \u001b[0;36m_reindex_axes\u001b[0;34m(self, axes, level, limit, tolerance, method, fill_value, copy)\u001b[0m\n\u001b[1;32m   4837\u001b[0m \u001b[0;34m\u001b[0m\u001b[0m\n\u001b[1;32m   4838\u001b[0m             \u001b[0maxis\u001b[0m \u001b[0;34m=\u001b[0m \u001b[0mself\u001b[0m\u001b[0;34m.\u001b[0m\u001b[0m_get_axis_number\u001b[0m\u001b[0;34m(\u001b[0m\u001b[0ma\u001b[0m\u001b[0;34m)\u001b[0m\u001b[0;34m\u001b[0m\u001b[0;34m\u001b[0m\u001b[0m\n\u001b[0;32m-> 4839\u001b[0;31m             obj = obj._reindex_with_indexers(\n\u001b[0m\u001b[1;32m   4840\u001b[0m                 \u001b[0;34m{\u001b[0m\u001b[0maxis\u001b[0m\u001b[0;34m:\u001b[0m \u001b[0;34m[\u001b[0m\u001b[0mnew_index\u001b[0m\u001b[0;34m,\u001b[0m \u001b[0mindexer\u001b[0m\u001b[0;34m]\u001b[0m\u001b[0;34m}\u001b[0m\u001b[0;34m,\u001b[0m\u001b[0;34m\u001b[0m\u001b[0;34m\u001b[0m\u001b[0m\n\u001b[1;32m   4841\u001b[0m                 \u001b[0mfill_value\u001b[0m\u001b[0;34m=\u001b[0m\u001b[0mfill_value\u001b[0m\u001b[0;34m,\u001b[0m\u001b[0;34m\u001b[0m\u001b[0;34m\u001b[0m\u001b[0m\n",
      "\u001b[0;32m~/.pyenv/versions/3.9.4/envs/py3.9.4_atiim/lib/python3.9/site-packages/pandas/core/generic.py\u001b[0m in \u001b[0;36m_reindex_with_indexers\u001b[0;34m(self, reindexers, fill_value, copy, allow_dups)\u001b[0m\n\u001b[1;32m   4881\u001b[0m \u001b[0;34m\u001b[0m\u001b[0m\n\u001b[1;32m   4882\u001b[0m             \u001b[0;31m# TODO: speed up on homogeneous DataFrame objects\u001b[0m\u001b[0;34m\u001b[0m\u001b[0;34m\u001b[0m\u001b[0;34m\u001b[0m\u001b[0m\n\u001b[0;32m-> 4883\u001b[0;31m             new_data = new_data.reindex_indexer(\n\u001b[0m\u001b[1;32m   4884\u001b[0m                 \u001b[0mindex\u001b[0m\u001b[0;34m,\u001b[0m\u001b[0;34m\u001b[0m\u001b[0;34m\u001b[0m\u001b[0m\n\u001b[1;32m   4885\u001b[0m                 \u001b[0mindexer\u001b[0m\u001b[0;34m,\u001b[0m\u001b[0;34m\u001b[0m\u001b[0;34m\u001b[0m\u001b[0m\n",
      "\u001b[0;32m~/.pyenv/versions/3.9.4/envs/py3.9.4_atiim/lib/python3.9/site-packages/pandas/core/internals/managers.py\u001b[0m in \u001b[0;36mreindex_indexer\u001b[0;34m(self, new_axis, indexer, axis, fill_value, allow_dups, copy, consolidate, only_slice)\u001b[0m\n\u001b[1;32m    668\u001b[0m         \u001b[0;31m# some axes don't allow reindexing with dups\u001b[0m\u001b[0;34m\u001b[0m\u001b[0;34m\u001b[0m\u001b[0;34m\u001b[0m\u001b[0m\n\u001b[1;32m    669\u001b[0m         \u001b[0;32mif\u001b[0m \u001b[0;32mnot\u001b[0m \u001b[0mallow_dups\u001b[0m\u001b[0;34m:\u001b[0m\u001b[0;34m\u001b[0m\u001b[0;34m\u001b[0m\u001b[0m\n\u001b[0;32m--> 670\u001b[0;31m             \u001b[0mself\u001b[0m\u001b[0;34m.\u001b[0m\u001b[0maxes\u001b[0m\u001b[0;34m[\u001b[0m\u001b[0maxis\u001b[0m\u001b[0;34m]\u001b[0m\u001b[0;34m.\u001b[0m\u001b[0m_validate_can_reindex\u001b[0m\u001b[0;34m(\u001b[0m\u001b[0mindexer\u001b[0m\u001b[0;34m)\u001b[0m\u001b[0;34m\u001b[0m\u001b[0;34m\u001b[0m\u001b[0m\n\u001b[0m\u001b[1;32m    671\u001b[0m \u001b[0;34m\u001b[0m\u001b[0m\n\u001b[1;32m    672\u001b[0m         \u001b[0;32mif\u001b[0m \u001b[0maxis\u001b[0m \u001b[0;34m>=\u001b[0m \u001b[0mself\u001b[0m\u001b[0;34m.\u001b[0m\u001b[0mndim\u001b[0m\u001b[0;34m:\u001b[0m\u001b[0;34m\u001b[0m\u001b[0;34m\u001b[0m\u001b[0m\n",
      "\u001b[0;32m~/.pyenv/versions/3.9.4/envs/py3.9.4_atiim/lib/python3.9/site-packages/pandas/core/indexes/base.py\u001b[0m in \u001b[0;36m_validate_can_reindex\u001b[0;34m(self, indexer)\u001b[0m\n\u001b[1;32m   3783\u001b[0m         \u001b[0;31m# trying to reindex on an axis with duplicates\u001b[0m\u001b[0;34m\u001b[0m\u001b[0;34m\u001b[0m\u001b[0;34m\u001b[0m\u001b[0m\n\u001b[1;32m   3784\u001b[0m         \u001b[0;32mif\u001b[0m \u001b[0;32mnot\u001b[0m \u001b[0mself\u001b[0m\u001b[0;34m.\u001b[0m\u001b[0m_index_as_unique\u001b[0m \u001b[0;32mand\u001b[0m \u001b[0mlen\u001b[0m\u001b[0;34m(\u001b[0m\u001b[0mindexer\u001b[0m\u001b[0;34m)\u001b[0m\u001b[0;34m:\u001b[0m\u001b[0;34m\u001b[0m\u001b[0;34m\u001b[0m\u001b[0m\n\u001b[0;32m-> 3785\u001b[0;31m             \u001b[0;32mraise\u001b[0m \u001b[0mValueError\u001b[0m\u001b[0;34m(\u001b[0m\u001b[0;34m\"cannot reindex from a duplicate axis\"\u001b[0m\u001b[0;34m)\u001b[0m\u001b[0;34m\u001b[0m\u001b[0;34m\u001b[0m\u001b[0m\n\u001b[0m\u001b[1;32m   3786\u001b[0m \u001b[0;34m\u001b[0m\u001b[0m\n\u001b[1;32m   3787\u001b[0m     def reindex(\n",
      "\u001b[0;31mValueError\u001b[0m: cannot reindex from a duplicate axis"
     ]
    },
    {
     "data": {
      "image/png": "[encoded data removed]",
      "text/plain": [
       "<Figure size 864x576 with 1 Axes>"
      ]
     },
     "metadata": {},
     "output_type": "display_data"
    }
   ],
   "source": [
    "# calculate the inflection point for bankfull elevation\n",
    "bankfull_elevation, bankfull_area = calculate_inflection(fdf)\n",
    "\n",
    "print(bankfull_elevation, bankfull_area)\n",
    "\n",
    "sns.set(style='whitegrid', font_scale=1.2) \n",
    "\n",
    "\n",
    "fig, ax = plt.subplots(figsize=(12, 8))\n",
    "\n",
    "g = sns.lineplot(x=\"area\", \n",
    "                  y=\"elevation\",\n",
    "                  marker='o',\n",
    "                  data=fdf,\n",
    "                  color='black')\n",
    "\n",
    "x = ax.set(ylabel='Water Surface Elevation (m)',\n",
    "           xlabel='Area (m$^2$)',\n",
    "           title='Inundation Area by Water Surface Elevation')\n",
    "\n",
    "plt.plot(bankfull_area, bankfull_elevation, 'r^', ms=14)\n",
    "\n",
    "\n",
    "ax.xaxis.set_major_formatter(ticker.FuncFormatter(lambda x, pos: '{:}'.format(int(x/1000)) + 'K'))\n",
    "\n",
    "\n"
   ]
  },
  {
   "cell_type": "code",
   "execution_count": null,
   "id": "a717194e-6af7-4a96-a36e-b6de057ccf3c",
   "metadata": {},
   "outputs": [],
   "source": []
  },
  {
   "cell_type": "code",
   "execution_count": null,
   "id": "18d975f0-2ed4-479c-b208-9ea1dfef972c",
   "metadata": {},
   "outputs": [],
   "source": []
  },
  {
   "cell_type": "code",
   "execution_count": null,
   "id": "04f481d5-54e9-40d5-9465-28298771c433",
   "metadata": {},
   "outputs": [],
   "source": []
  },
  {
   "cell_type": "code",
   "execution_count": null,
   "id": "64745642-12e6-4b8d-ab07-028367906608",
   "metadata": {},
   "outputs": [],
   "source": []
  },
  {
   "cell_type": "code",
   "execution_count": 133,
   "id": "5947fe0a-4dd7-4e9e-9b7b-09e83a4ce0d7",
   "metadata": {},
   "outputs": [
    {
     "name": "stdout",
     "output_type": "stream",
     "text": [
      "[ 2  4  5  7 18]\n",
      "1.2000000000000002\n"
     ]
    }
   ],
   "source": [
    "def calculate_inflection(df):\n",
    "\n",
    "    # smooth data using a Gausian filter\n",
    "    # smoothed_area = gaussian_filter1d(fdf.area, 100)\n",
    "\n",
    "    # calucate the second derivative\n",
    "    second_deriv = np.gradient(np.gradient(df.area))\n",
    "\n",
    "    # get the index locations in the second derivative plot representing the sign change (a.k.a., inflection points) \n",
    "    inflection_indices = np.where(np.diff(np.sign(second_deriv)))[0]\n",
    "\n",
    "    # drop the first value in the series if it shows up as an inflection point\n",
    "    inflection_indices = inflection_indices[inflection_indices > 0]\n",
    "\n",
    "    # bankfull elevation is determined by the first inflection point\n",
    "    bankfull_elevation = df['elevation'].values[inflection_indices[0]]\n",
    "    \n",
    "    return bankfull_elevation\n"
   ]
  },
  {
   "cell_type": "code",
   "execution_count": 125,
   "id": "40aef92f-4b40-4f78-a749-7849a322d961",
   "metadata": {},
   "outputs": [
    {
     "data": {
      "text/plain": [
       "<AxesSubplot:xlabel='idx', ylabel='second_deriv_scaled'>"
      ]
     },
     "execution_count": 125,
     "metadata": {},
     "output_type": "execute_result"
    },
    {
     "data": {
      "image/png": "[encoded data removed]",
      "text/plain": [
       "<Figure size 432x288 with 1 Axes>"
      ]
     },
     "metadata": {},
     "output_type": "display_data"
    }
   ],
   "source": [
    "sns.lineplot(x=\"idx\", \n",
    "             y=\"second_deriv_scaled\",\n",
    "             #hue=\"region\", \n",
    "             #style=\"event\",\n",
    "             data=fdf)\n"
   ]
  },
  {
   "cell_type": "code",
   "execution_count": 126,
   "id": "ce89a3fc-526c-4ac5-9a17-3effb6c0ccd6",
   "metadata": {},
   "outputs": [
    {
     "data": {
      "text/plain": [
       "array([1. , 1.2, 1.4, 1.5, 1.7, 2.8])"
      ]
     },
     "execution_count": 126,
     "metadata": {},
     "output_type": "execute_result"
    }
   ],
   "source": [
    "fdf.elevation.values[inflects]"
   ]
  },
  {
   "cell_type": "code",
   "execution_count": 110,
   "id": "e334b9e1-f34c-423b-a7a4-b192e399a97c",
   "metadata": {},
   "outputs": [
    {
     "data": {
      "text/html": [
       "<div>\n",
       "<style scoped>\n",
       "    .dataframe tbody tr th:only-of-type {\n",
       "        vertical-align: middle;\n",
       "    }\n",
       "\n",
       "    .dataframe tbody tr th {\n",
       "        vertical-align: top;\n",
       "    }\n",
       "\n",
       "    .dataframe thead th {\n",
       "        text-align: right;\n",
       "    }\n",
       "</style>\n",
       "<table border=\"1\" class=\"dataframe\">\n",
       "  <thead>\n",
       "    <tr style=\"text-align: right;\">\n",
       "      <th></th>\n",
       "      <th>geometry</th>\n",
       "      <th>id</th>\n",
       "      <th>frequency</th>\n",
       "      <th>elevation</th>\n",
       "      <th>area</th>\n",
       "      <th>hectares</th>\n",
       "      <th>perimeter</th>\n",
       "      <th>hectare_hours</th>\n",
       "      <th>second_deriv</th>\n",
       "      <th>second_deriv_scaled</th>\n",
       "      <th>idx</th>\n",
       "    </tr>\n",
       "  </thead>\n",
       "  <tbody>\n",
       "    <tr>\n",
       "      <th>0</th>\n",
       "      <td>POLYGON ((446947.500 5128512.631, 446947.500 5...</td>\n",
       "      <td>100</td>\n",
       "      <td>2</td>\n",
       "      <td>1.0</td>\n",
       "      <td>1785.3750</td>\n",
       "      <td>0.178538</td>\n",
       "      <td>631.5</td>\n",
       "      <td>0.357075</td>\n",
       "      <td>-70.031250</td>\n",
       "      <td>-70.031250</td>\n",
       "      <td>0</td>\n",
       "    </tr>\n",
       "    <tr>\n",
       "      <th>0</th>\n",
       "      <td>POLYGON ((446949.000 5128514.131, 446949.000 5...</td>\n",
       "      <td>110</td>\n",
       "      <td>523</td>\n",
       "      <td>1.1</td>\n",
       "      <td>2291.0625</td>\n",
       "      <td>0.229106</td>\n",
       "      <td>642.0</td>\n",
       "      <td>119.822569</td>\n",
       "      <td>666.140625</td>\n",
       "      <td>666.140625</td>\n",
       "      <td>1</td>\n",
       "    </tr>\n",
       "    <tr>\n",
       "      <th>0</th>\n",
       "      <td>POLYGON ((446955.750 5128516.381, 446955.750 5...</td>\n",
       "      <td>120</td>\n",
       "      <td>462</td>\n",
       "      <td>1.2</td>\n",
       "      <td>2656.6875</td>\n",
       "      <td>0.265669</td>\n",
       "      <td>657.0</td>\n",
       "      <td>122.738962</td>\n",
       "      <td>873.843750</td>\n",
       "      <td>873.843750</td>\n",
       "      <td>2</td>\n",
       "    </tr>\n",
       "    <tr>\n",
       "      <th>0</th>\n",
       "      <td>POLYGON ((447280.500 5128854.631, 447280.500 5...</td>\n",
       "      <td>130</td>\n",
       "      <td>231</td>\n",
       "      <td>1.3</td>\n",
       "      <td>5967.0000</td>\n",
       "      <td>0.596700</td>\n",
       "      <td>2023.5</td>\n",
       "      <td>137.837700</td>\n",
       "      <td>-353.531250</td>\n",
       "      <td>-353.531250</td>\n",
       "      <td>3</td>\n",
       "    </tr>\n",
       "    <tr>\n",
       "      <th>0</th>\n",
       "      <td>POLYGON ((447281.250 5128857.631, 447281.250 5...</td>\n",
       "      <td>140</td>\n",
       "      <td>177</td>\n",
       "      <td>1.4</td>\n",
       "      <td>7023.3750</td>\n",
       "      <td>0.702338</td>\n",
       "      <td>2086.5</td>\n",
       "      <td>124.313738</td>\n",
       "      <td>-140.343750</td>\n",
       "      <td>-140.343750</td>\n",
       "      <td>4</td>\n",
       "    </tr>\n",
       "  </tbody>\n",
       "</table>\n",
       "</div>"
      ],
      "text/plain": [
       "                                            geometry   id  frequency  \\\n",
       "0  POLYGON ((446947.500 5128512.631, 446947.500 5...  100          2   \n",
       "0  POLYGON ((446949.000 5128514.131, 446949.000 5...  110        523   \n",
       "0  POLYGON ((446955.750 5128516.381, 446955.750 5...  120        462   \n",
       "0  POLYGON ((447280.500 5128854.631, 447280.500 5...  130        231   \n",
       "0  POLYGON ((447281.250 5128857.631, 447281.250 5...  140        177   \n",
       "\n",
       "   elevation       area  hectares  perimeter  hectare_hours  second_deriv  \\\n",
       "0        1.0  1785.3750  0.178538      631.5       0.357075    -70.031250   \n",
       "0        1.1  2291.0625  0.229106      642.0     119.822569    666.140625   \n",
       "0        1.2  2656.6875  0.265669      657.0     122.738962    873.843750   \n",
       "0        1.3  5967.0000  0.596700     2023.5     137.837700   -353.531250   \n",
       "0        1.4  7023.3750  0.702338     2086.5     124.313738   -140.343750   \n",
       "\n",
       "   second_deriv_scaled  idx  \n",
       "0           -70.031250    0  \n",
       "0           666.140625    1  \n",
       "0           873.843750    2  \n",
       "0          -353.531250    3  \n",
       "0          -140.343750    4  "
      ]
     },
     "execution_count": 110,
     "metadata": {},
     "output_type": "execute_result"
    }
   ],
   "source": [
    "fdf.head()"
   ]
  },
  {
   "cell_type": "code",
   "execution_count": 246,
   "id": "07576244-6525-4455-867e-454a10aebcfa",
   "metadata": {},
   "outputs": [],
   "source": [
    "masked_dem_file = os.path.join(output_dir, 'dem_masked_test_1.tif')\n",
    "\n",
    "def hypsometric_curve(dem_file, elevation_interval, min_elevation=None, max_elevation=None, \n",
    "                      plot_area=False, plot_percent=False, save_plot=False):\n",
    "    \"\"\"Calculate a hypsometric curve as an elevation-area relationship Assessment metric \n",
    "    of the landform shape at a site.  Provides basic metric of opportunity for inundation and \n",
    "    habitat opportunity.\n",
    "    \n",
    "    \"\"\"\n",
    "\n",
    "    # create a dictionary to hold results\n",
    "    result_dict = {'dem_elevation': [], 'dem_area_at_elevation': []}\n",
    "\n",
    "    with rasterio.open(dem_file) as src:\n",
    "\n",
    "        # read the raster band into a number array\n",
    "        arr = src.read(1)\n",
    "\n",
    "        # convert the raster nodata value to numpy nan\n",
    "        arr[arr == src.nodata] = np.nan\n",
    "        \n",
    "        # grid cell resolution\n",
    "        grid_cell_area = np.abs(src.transform[0] * src.transform[4])\n",
    "        \n",
    "        # set minimum and maximum elevation value; use raster determined values by default\n",
    "        if min_elevation is None:\n",
    "            min_elevation = np.nanmin(arr)\n",
    "        \n",
    "        if max_elevation is None:\n",
    "            max_elevation = np.nanmax(arr)\n",
    "\n",
    "        # create elevation intervals to process\n",
    "        elev_slices = np.arange(min_elevation, max_elevation + elevation_interval, elevation_interval)\n",
    "\n",
    "        # calculate each area at elevation intervals\n",
    "        for i in elev_slices:\n",
    "            result_dict['dem_elevation'].append(i)\n",
    "            result_dict['dem_area_at_elevation'].append(np.where(arr >= i)[0].shape[0] * grid_cell_area)\n",
    "\n",
    "        # convert results to data frame\n",
    "        df = pd.DataFrame(result_dict)\n",
    "\n",
    "        # calculate the total area\n",
    "        total_area = df['dem_area_at_elevation'].max()\n",
    "\n",
    "        # calculate percent area per elevation slice\n",
    "        df['dem_percent_area'] = df['dem_area_at_elevation'] / total_area\n",
    "        \n",
    "        if plot_area:\n",
    "            ax = sns.lineplot(x=\"dem_area_at_elevation\", \n",
    "                              y=\"dem_elevation\",\n",
    "                              marker='o',\n",
    "                              data=df)\n",
    "        if plot_percent:\n",
    "            ax = sns.lineplot(x=\"dem_percent_area\", \n",
    "                              y=\"dem_elevation\",\n",
    "                              marker='o',\n",
    "                              data=df)\n",
    "\n",
    "        return df\n",
    "    \n",
    "df = hypsometric_curve(masked_dem_file, elevation_interval, plot_area=False)\n",
    "\n"
   ]
  },
  {
   "cell_type": "markdown",
   "id": "6c72e2c6-536e-49dd-8c77-4bf1fb21ac35",
   "metadata": {},
   "source": [
    "How much area exist at the max elevation?\n",
    "\n",
    "At 19 m there is this much area available.\n"
   ]
  },
  {
   "cell_type": "code",
   "execution_count": 204,
   "id": "ba6cc32f-3505-4b3b-a9e0-24146279fc0f",
   "metadata": {},
   "outputs": [
    {
     "data": {
      "text/plain": [
       "66011627.8125"
      ]
     },
     "execution_count": 204,
     "metadata": {},
     "output_type": "execute_result"
    }
   ],
   "source": [
    "df['dem_area_at_elevation'].sum()"
   ]
  },
  {
   "cell_type": "code",
   "execution_count": 207,
   "id": "44b5dfc6-a32f-4e87-a172-b326e8fe8a17",
   "metadata": {},
   "outputs": [
    {
     "data": {
      "text/html": [
       "<div>\n",
       "<style scoped>\n",
       "    .dataframe tbody tr th:only-of-type {\n",
       "        vertical-align: middle;\n",
       "    }\n",
       "\n",
       "    .dataframe tbody tr th {\n",
       "        vertical-align: top;\n",
       "    }\n",
       "\n",
       "    .dataframe thead th {\n",
       "        text-align: right;\n",
       "    }\n",
       "</style>\n",
       "<table border=\"1\" class=\"dataframe\">\n",
       "  <thead>\n",
       "    <tr style=\"text-align: right;\">\n",
       "      <th></th>\n",
       "      <th>dem_elevation</th>\n",
       "      <th>dem_area_at_elevation</th>\n",
       "      <th>dem_percent_area</th>\n",
       "    </tr>\n",
       "  </thead>\n",
       "  <tbody>\n",
       "    <tr>\n",
       "      <th>0</th>\n",
       "      <td>0.682365</td>\n",
       "      <td>1.1250</td>\n",
       "      <td>1.704245e-08</td>\n",
       "    </tr>\n",
       "    <tr>\n",
       "      <th>1</th>\n",
       "      <td>0.782365</td>\n",
       "      <td>309.3750</td>\n",
       "      <td>4.686674e-06</td>\n",
       "    </tr>\n",
       "    <tr>\n",
       "      <th>2</th>\n",
       "      <td>0.882365</td>\n",
       "      <td>892.6875</td>\n",
       "      <td>1.352319e-05</td>\n",
       "    </tr>\n",
       "    <tr>\n",
       "      <th>3</th>\n",
       "      <td>0.982365</td>\n",
       "      <td>1859.6250</td>\n",
       "      <td>2.817117e-05</td>\n",
       "    </tr>\n",
       "    <tr>\n",
       "      <th>4</th>\n",
       "      <td>1.082365</td>\n",
       "      <td>3094.8750</td>\n",
       "      <td>4.688379e-05</td>\n",
       "    </tr>\n",
       "    <tr>\n",
       "      <th>...</th>\n",
       "      <td>...</td>\n",
       "      <td>...</td>\n",
       "      <td>...</td>\n",
       "    </tr>\n",
       "    <tr>\n",
       "      <th>189</th>\n",
       "      <td>19.582365</td>\n",
       "      <td>515429.4375</td>\n",
       "      <td>7.808161e-03</td>\n",
       "    </tr>\n",
       "    <tr>\n",
       "      <th>190</th>\n",
       "      <td>19.682365</td>\n",
       "      <td>516335.6250</td>\n",
       "      <td>7.821889e-03</td>\n",
       "    </tr>\n",
       "    <tr>\n",
       "      <th>191</th>\n",
       "      <td>19.782365</td>\n",
       "      <td>516816.0000</td>\n",
       "      <td>7.829166e-03</td>\n",
       "    </tr>\n",
       "    <tr>\n",
       "      <th>192</th>\n",
       "      <td>19.882365</td>\n",
       "      <td>516906.5625</td>\n",
       "      <td>7.830538e-03</td>\n",
       "    </tr>\n",
       "    <tr>\n",
       "      <th>193</th>\n",
       "      <td>19.982365</td>\n",
       "      <td>516908.2500</td>\n",
       "      <td>7.830564e-03</td>\n",
       "    </tr>\n",
       "  </tbody>\n",
       "</table>\n",
       "<p>194 rows × 3 columns</p>\n",
       "</div>"
      ],
      "text/plain": [
       "     dem_elevation  dem_area_at_elevation  dem_percent_area\n",
       "0         0.682365                 1.1250      1.704245e-08\n",
       "1         0.782365               309.3750      4.686674e-06\n",
       "2         0.882365               892.6875      1.352319e-05\n",
       "3         0.982365              1859.6250      2.817117e-05\n",
       "4         1.082365              3094.8750      4.688379e-05\n",
       "..             ...                    ...               ...\n",
       "189      19.582365            515429.4375      7.808161e-03\n",
       "190      19.682365            516335.6250      7.821889e-03\n",
       "191      19.782365            516816.0000      7.829166e-03\n",
       "192      19.882365            516906.5625      7.830538e-03\n",
       "193      19.982365            516908.2500      7.830564e-03\n",
       "\n",
       "[194 rows x 3 columns]"
      ]
     },
     "execution_count": 207,
     "metadata": {},
     "output_type": "execute_result"
    }
   ],
   "source": [
    "df"
   ]
  },
  {
   "cell_type": "code",
   "execution_count": 247,
   "id": "f6bb019f-d216-4210-ba7b-b603f51cffbd",
   "metadata": {},
   "outputs": [
    {
     "data": {
      "text/html": [
       "<div>\n",
       "<style scoped>\n",
       "    .dataframe tbody tr th:only-of-type {\n",
       "        vertical-align: middle;\n",
       "    }\n",
       "\n",
       "    .dataframe tbody tr th {\n",
       "        vertical-align: top;\n",
       "    }\n",
       "\n",
       "    .dataframe thead th {\n",
       "        text-align: right;\n",
       "    }\n",
       "</style>\n",
       "<table border=\"1\" class=\"dataframe\">\n",
       "  <thead>\n",
       "    <tr style=\"text-align: right;\">\n",
       "      <th></th>\n",
       "      <th>dem_elevation</th>\n",
       "      <th>dem_area_at_elevation</th>\n",
       "      <th>dem_percent_area</th>\n",
       "    </tr>\n",
       "  </thead>\n",
       "  <tbody>\n",
       "    <tr>\n",
       "      <th>0</th>\n",
       "      <td>0.682365</td>\n",
       "      <td>516908.2500</td>\n",
       "      <td>1.000000</td>\n",
       "    </tr>\n",
       "    <tr>\n",
       "      <th>1</th>\n",
       "      <td>0.782365</td>\n",
       "      <td>516598.8750</td>\n",
       "      <td>0.999401</td>\n",
       "    </tr>\n",
       "    <tr>\n",
       "      <th>2</th>\n",
       "      <td>0.882365</td>\n",
       "      <td>516015.5625</td>\n",
       "      <td>0.998273</td>\n",
       "    </tr>\n",
       "    <tr>\n",
       "      <th>3</th>\n",
       "      <td>0.982365</td>\n",
       "      <td>515048.6250</td>\n",
       "      <td>0.996402</td>\n",
       "    </tr>\n",
       "    <tr>\n",
       "      <th>4</th>\n",
       "      <td>1.082365</td>\n",
       "      <td>513813.3750</td>\n",
       "      <td>0.994013</td>\n",
       "    </tr>\n",
       "  </tbody>\n",
       "</table>\n",
       "</div>"
      ],
      "text/plain": [
       "   dem_elevation  dem_area_at_elevation  dem_percent_area\n",
       "0       0.682365            516908.2500          1.000000\n",
       "1       0.782365            516598.8750          0.999401\n",
       "2       0.882365            516015.5625          0.998273\n",
       "3       0.982365            515048.6250          0.996402\n",
       "4       1.082365            513813.3750          0.994013"
      ]
     },
     "execution_count": 247,
     "metadata": {},
     "output_type": "execute_result"
    }
   ],
   "source": [
    "df.head()"
   ]
  },
  {
   "cell_type": "code",
   "execution_count": 7,
   "id": "cb4750b6-73b7-4565-a370-f21bce982c96",
   "metadata": {},
   "outputs": [
    {
     "ename": "NameError",
     "evalue": "name 'df' is not defined",
     "output_type": "error",
     "traceback": [
      "\u001b[0;31m---------------------------------------------------------------------------\u001b[0m",
      "\u001b[0;31mNameError\u001b[0m                                 Traceback (most recent call last)",
      "\u001b[0;32m<ipython-input-7-dea8094257da>\u001b[0m in \u001b[0;36m<module>\u001b[0;34m\u001b[0m\n\u001b[1;32m     10\u001b[0m                   \u001b[0my\u001b[0m\u001b[0;34m=\u001b[0m\u001b[0;34m\"dem_elevation\"\u001b[0m\u001b[0;34m,\u001b[0m\u001b[0;34m\u001b[0m\u001b[0;34m\u001b[0m\u001b[0m\n\u001b[1;32m     11\u001b[0m                   \u001b[0mmarker\u001b[0m\u001b[0;34m=\u001b[0m\u001b[0;34m'o'\u001b[0m\u001b[0;34m,\u001b[0m\u001b[0;34m\u001b[0m\u001b[0;34m\u001b[0m\u001b[0m\n\u001b[0;32m---> 12\u001b[0;31m                   \u001b[0mdata\u001b[0m\u001b[0;34m=\u001b[0m\u001b[0mdf\u001b[0m\u001b[0;34m,\u001b[0m\u001b[0;34m\u001b[0m\u001b[0;34m\u001b[0m\u001b[0m\n\u001b[0m\u001b[1;32m     13\u001b[0m                   color='black')\n\u001b[1;32m     14\u001b[0m \u001b[0;34m\u001b[0m\u001b[0m\n",
      "\u001b[0;31mNameError\u001b[0m: name 'df' is not defined"
     ]
    },
    {
     "data": {
      "image/png": "[encoded data removed]",
      "text/plain": [
       "<Figure size 864x576 with 1 Axes>"
      ]
     },
     "metadata": {},
     "output_type": "display_data"
    }
   ],
   "source": [
    "import matplotlib.pyplot as plt\n",
    "import matplotlib.ticker as ticker\n",
    "\n",
    "sns.set(style='whitegrid', font_scale=1.2) \n",
    "\n",
    "\n",
    "fig, ax = plt.subplots(figsize=(12, 8))\n",
    "\n",
    "g = sns.lineplot(x=\"dem_area_at_elevation\", \n",
    "                  y=\"dem_elevation\",\n",
    "                  marker='o',\n",
    "                  data=df,\n",
    "                  color='black')\n",
    "\n",
    "x = ax.set(ylabel='Elevation (m)',\n",
    "           xlabel='Area (m$^2$)',\n",
    "           title='Hypsometric')\n",
    "\n",
    "ax.xaxis.set_major_formatter(ticker.FuncFormatter(lambda x, pos: '{:}'.format(int(x/1000)) + 'K'))\n",
    "\n"
   ]
  },
  {
   "cell_type": "code",
   "execution_count": 287,
   "id": "ad571784-46be-42fc-8cf5-1e577265de93",
   "metadata": {},
   "outputs": [
    {
     "data": {
      "text/plain": [
       "'12.34'"
      ]
     },
     "execution_count": 287,
     "metadata": {},
     "output_type": "execute_result"
    }
   ],
   "source": [
    "'{:}'.format(12.34)"
   ]
  },
  {
   "cell_type": "code",
   "execution_count": null,
   "id": "c736b268-4350-4fab-8d24-be06f84b825c",
   "metadata": {},
   "outputs": [],
   "source": []
  }
 ],
 "metadata": {
  "kernelspec": {
   "display_name": "py3.9.4_atiim",
   "language": "python",
   "name": "py3.9.4_atiim"
  },
  "language_info": {
   "codemirror_mode": {
    "name": "ipython",
    "version": 3
   },
   "file_extension": ".py",
   "mimetype": "text/x-python",
   "name": "python",
   "nbconvert_exporter": "python",
   "pygments_lexer": "ipython3",
   "version": "3.9.4"
  }
 },
 "nbformat": 4,
 "nbformat_minor": 5
}
