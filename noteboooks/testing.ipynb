{
 "cells": [
  {
   "cell_type": "code",
   "execution_count": 1,
   "id": "640cac6b-7192-4676-acd7-501d551e0811",
   "metadata": {},
   "outputs": [],
   "source": [
    "import os\n",
    "\n",
    "import atiim\n"
   ]
  },
  {
   "cell_type": "code",
   "execution_count": 2,
   "id": "9c75fe5f-960b-47c2-8bcd-8835c31b4bc5",
   "metadata": {},
   "outputs": [],
   "source": [
    "data_dir = '/Users/d3y010/projects/atiim/data'\n",
    "\n",
    "gage_data_file = os.path.join(data_dir, 'tabular', 'water_level.csv')\n",
    "dem_file = os.path.join(data_dir, 'raster', 'run_1_all.sdat')\n",
    "basin_shp = os.path.join(data_dir, 'shp', 'basin_1.shp')\n",
    "gage_shp = os.path.join(data_dir, 'shp', 'gage_location_1.shp')\n",
    "\n",
    "output_dir = '/Users/d3y010/projects/atiim/test'\n",
    "\n",
    "run_name = 'test_1'\n",
    "elevation_interval = 0.1\n",
    "hour_interval = 1.0\n"
   ]
  },
  {
   "cell_type": "code",
   "execution_count": 3,
   "id": "32015d32-4f25-426c-96b9-45c15f2d7417",
   "metadata": {},
   "outputs": [
    {
     "name": "stdout",
     "output_type": "stream",
     "text": [
      "Total Time Steps:  3568\n",
      "Days Verification:  148\n",
      "Warning:  Input DEM raster does not have a defined coordinate reference system.\n",
      "Minimum DEM Elevation:  0.68\n",
      "Maximum DEM Elevation:  19.89\n",
      "Minimum Water-Surface Elevation:  1.0\n",
      "Maximum Water-Surface Elevation:  3.6\n",
      "Bounded DEM Elevation:  1.0\n",
      "Bounded DEM Elevation:  3.6\n",
      "CPU times: user 548 ms, sys: 116 ms, total: 665 ms\n",
      "Wall time: 4.44 s\n"
     ]
    }
   ],
   "source": [
    "%%time\n",
    "\n",
    "df = atiim.simulate_inundation(dem_file=dem_file,\n",
    "                               basin_shp=basin_shp,\n",
    "                               gage_shp=gage_shp,\n",
    "                               gage_data_file=gage_data_file,\n",
    "                               output_directory=output_dir,\n",
    "                               run_name=run_name,\n",
    "                               elevation_interval=elevation_interval,\n",
    "                               hour_interval=hour_interval)\n"
   ]
  },
  {
   "cell_type": "code",
   "execution_count": 4,
   "id": "49e896f9-e1d8-4a02-b1da-ca129768d28b",
   "metadata": {},
   "outputs": [
    {
     "data": {
      "text/html": [
       "<div>\n",
       "<style scoped>\n",
       "    .dataframe tbody tr th:only-of-type {\n",
       "        vertical-align: middle;\n",
       "    }\n",
       "\n",
       "    .dataframe tbody tr th {\n",
       "        vertical-align: top;\n",
       "    }\n",
       "\n",
       "    .dataframe thead th {\n",
       "        text-align: right;\n",
       "    }\n",
       "</style>\n",
       "<table border=\"1\" class=\"dataframe\">\n",
       "  <thead>\n",
       "    <tr style=\"text-align: right;\">\n",
       "      <th></th>\n",
       "      <th>geometry</th>\n",
       "      <th>id</th>\n",
       "      <th>frequency</th>\n",
       "      <th>elevation</th>\n",
       "      <th>area</th>\n",
       "      <th>hectares</th>\n",
       "      <th>perimeter</th>\n",
       "      <th>hect_hours</th>\n",
       "      <th>run_name</th>\n",
       "    </tr>\n",
       "  </thead>\n",
       "  <tbody>\n",
       "    <tr>\n",
       "      <th>0</th>\n",
       "      <td>POLYGON ((446947.500 5128512.631, 446952.000 5...</td>\n",
       "      <td>100</td>\n",
       "      <td>2</td>\n",
       "      <td>1.0</td>\n",
       "      <td>1785.3750</td>\n",
       "      <td>0.178538</td>\n",
       "      <td>631.5</td>\n",
       "      <td>0.357075</td>\n",
       "      <td>test_1</td>\n",
       "    </tr>\n",
       "    <tr>\n",
       "      <th>0</th>\n",
       "      <td>POLYGON ((446949.000 5128514.131, 446956.500 5...</td>\n",
       "      <td>110</td>\n",
       "      <td>523</td>\n",
       "      <td>1.1</td>\n",
       "      <td>2291.0625</td>\n",
       "      <td>0.229106</td>\n",
       "      <td>642.0</td>\n",
       "      <td>119.822569</td>\n",
       "      <td>test_1</td>\n",
       "    </tr>\n",
       "    <tr>\n",
       "      <th>0</th>\n",
       "      <td>POLYGON ((446955.750 5128516.381, 446958.750 5...</td>\n",
       "      <td>120</td>\n",
       "      <td>462</td>\n",
       "      <td>1.2</td>\n",
       "      <td>2656.6875</td>\n",
       "      <td>0.265669</td>\n",
       "      <td>657.0</td>\n",
       "      <td>122.738962</td>\n",
       "      <td>test_1</td>\n",
       "    </tr>\n",
       "    <tr>\n",
       "      <th>0</th>\n",
       "      <td>POLYGON ((447280.500 5128854.631, 447282.750 5...</td>\n",
       "      <td>130</td>\n",
       "      <td>231</td>\n",
       "      <td>1.3</td>\n",
       "      <td>5967.0000</td>\n",
       "      <td>0.596700</td>\n",
       "      <td>2023.5</td>\n",
       "      <td>137.837700</td>\n",
       "      <td>test_1</td>\n",
       "    </tr>\n",
       "    <tr>\n",
       "      <th>0</th>\n",
       "      <td>POLYGON ((447281.250 5128857.631, 447283.500 5...</td>\n",
       "      <td>140</td>\n",
       "      <td>177</td>\n",
       "      <td>1.4</td>\n",
       "      <td>7023.3750</td>\n",
       "      <td>0.702338</td>\n",
       "      <td>2086.5</td>\n",
       "      <td>124.313738</td>\n",
       "      <td>test_1</td>\n",
       "    </tr>\n",
       "  </tbody>\n",
       "</table>\n",
       "</div>"
      ],
      "text/plain": [
       "                                            geometry   id  frequency  \\\n",
       "0  POLYGON ((446947.500 5128512.631, 446952.000 5...  100          2   \n",
       "0  POLYGON ((446949.000 5128514.131, 446956.500 5...  110        523   \n",
       "0  POLYGON ((446955.750 5128516.381, 446958.750 5...  120        462   \n",
       "0  POLYGON ((447280.500 5128854.631, 447282.750 5...  130        231   \n",
       "0  POLYGON ((447281.250 5128857.631, 447283.500 5...  140        177   \n",
       "\n",
       "   elevation       area  hectares  perimeter  hect_hours run_name  \n",
       "0        1.0  1785.3750  0.178538      631.5    0.357075   test_1  \n",
       "0        1.1  2291.0625  0.229106      642.0  119.822569   test_1  \n",
       "0        1.2  2656.6875  0.265669      657.0  122.738962   test_1  \n",
       "0        1.3  5967.0000  0.596700     2023.5  137.837700   test_1  \n",
       "0        1.4  7023.3750  0.702338     2086.5  124.313738   test_1  "
      ]
     },
     "execution_count": 4,
     "metadata": {},
     "output_type": "execute_result"
    }
   ],
   "source": [
    "df.head()"
   ]
  },
  {
   "cell_type": "code",
   "execution_count": 1,
   "id": "f68700a4-a06a-4ee8-a8b9-c0f16268d066",
   "metadata": {},
   "outputs": [
    {
     "ename": "NameError",
     "evalue": "name 'atiim' is not defined",
     "output_type": "error",
     "traceback": [
      "\u001b[0;31m---------------------------------------------------------------------------\u001b[0m",
      "\u001b[0;31mNameError\u001b[0m                                 Traceback (most recent call last)",
      "\u001b[0;32m/var/folders/1q/kbqf0s_90m907n320mhb_gq46y9fxr/T/ipykernel_4721/3924973393.py\u001b[0m in \u001b[0;36m<module>\u001b[0;34m\u001b[0m\n\u001b[0;32m----> 1\u001b[0;31m atiim.plot_wse_cdf(gage_data_file=gage_data_file,\n\u001b[0m\u001b[1;32m      2\u001b[0m                    output_file='/Users/d3y010/Desktop/test_cdf.png')\n",
      "\u001b[0;31mNameError\u001b[0m: name 'atiim' is not defined"
     ]
    }
   ],
   "source": [
    "atiim.plot_wse_cdf(gage_data_file=gage_data_file,\n",
    "                   output_file='/Users/d3y010/Desktop/test_cdf.png')\n"
   ]
  },
  {
   "cell_type": "code",
   "execution_count": null,
   "id": "2a146252-a311-412d-9ccf-27d3596dbc1c",
   "metadata": {},
   "outputs": [],
   "source": [
    "atiim.plot_wse_cdf"
   ]
  }
 ],
 "metadata": {
  "kernelspec": {
   "display_name": "py3.9.4_atiim",
   "language": "python",
   "name": "py3.9.4_atiim"
  },
  "language_info": {
   "codemirror_mode": {
    "name": "ipython",
    "version": 3
   },
   "file_extension": ".py",
   "mimetype": "text/x-python",
   "name": "python",
   "nbconvert_exporter": "python",
   "pygments_lexer": "ipython3",
   "version": "3.9.4"
  }
 },
 "nbformat": 4,
 "nbformat_minor": 5
}
